{
 "cells": [
  {
   "cell_type": "markdown",
   "id": "c5c87b45",
   "metadata": {},
   "source": [
    "# Q1: Write a python program to scrape data for “Data Analyst” Job position in “Bangalore” location. You have to scrape the job-title, job-location, company_name, experience_required. You have to scrape first 10 jobs data."
   ]
  },
  {
   "cell_type": "markdown",
   "id": "e8384575",
   "metadata": {},
   "source": [
    "# 1. First get the webpage https://www.naukri.com/\n"
   ]
  },
  {
   "cell_type": "code",
   "execution_count": 17,
   "id": "fd31a67c",
   "metadata": {},
   "outputs": [
    {
     "name": "stdout",
     "output_type": "stream",
     "text": [
      "Requirement already satisfied: selenium in c:\\users\\prachi\\anaconda3\\lib\\site-packages (4.4.3)\n",
      "Requirement already satisfied: trio-websocket~=0.9 in c:\\users\\prachi\\anaconda3\\lib\\site-packages (from selenium) (0.9.2)\n",
      "Requirement already satisfied: urllib3[socks]~=1.26 in c:\\users\\prachi\\anaconda3\\lib\\site-packages (from selenium) (1.26.7)\n",
      "Requirement already satisfied: certifi>=2021.10.8 in c:\\users\\prachi\\anaconda3\\lib\\site-packages (from selenium) (2021.10.8)\n",
      "Requirement already satisfied: trio~=0.17 in c:\\users\\prachi\\anaconda3\\lib\\site-packages (from selenium) (0.21.0)\n",
      "Requirement already satisfied: outcome in c:\\users\\prachi\\anaconda3\\lib\\site-packages (from trio~=0.17->selenium) (1.2.0)\n",
      "Requirement already satisfied: async-generator>=1.9 in c:\\users\\prachi\\anaconda3\\lib\\site-packages (from trio~=0.17->selenium) (1.10)\n",
      "Requirement already satisfied: idna in c:\\users\\prachi\\anaconda3\\lib\\site-packages (from trio~=0.17->selenium) (3.2)\n",
      "Requirement already satisfied: sniffio in c:\\users\\prachi\\anaconda3\\lib\\site-packages (from trio~=0.17->selenium) (1.2.0)\n",
      "Requirement already satisfied: sortedcontainers in c:\\users\\prachi\\anaconda3\\lib\\site-packages (from trio~=0.17->selenium) (2.4.0)\n",
      "Requirement already satisfied: attrs>=19.2.0 in c:\\users\\prachi\\anaconda3\\lib\\site-packages (from trio~=0.17->selenium) (21.2.0)\n",
      "Requirement already satisfied: cffi>=1.14 in c:\\users\\prachi\\anaconda3\\lib\\site-packages (from trio~=0.17->selenium) (1.14.6)\n",
      "Requirement already satisfied: pycparser in c:\\users\\prachi\\anaconda3\\lib\\site-packages (from cffi>=1.14->trio~=0.17->selenium) (2.20)\n",
      "Requirement already satisfied: wsproto>=0.14 in c:\\users\\prachi\\anaconda3\\lib\\site-packages (from trio-websocket~=0.9->selenium) (1.2.0)\n",
      "Requirement already satisfied: PySocks!=1.5.7,<2.0,>=1.5.6 in c:\\users\\prachi\\anaconda3\\lib\\site-packages (from urllib3[socks]~=1.26->selenium) (1.7.1)\n",
      "Requirement already satisfied: h11<1,>=0.9.0 in c:\\users\\prachi\\anaconda3\\lib\\site-packages (from wsproto>=0.14->trio-websocket~=0.9->selenium) (0.13.0)\n",
      "Note: you may need to restart the kernel to use updated packages.\n"
     ]
    },
    {
     "name": "stderr",
     "output_type": "stream",
     "text": [
      "WARNING: Ignoring invalid distribution -atplotlib (c:\\users\\prachi\\anaconda3\\lib\\site-packages)\n",
      "WARNING: Ignoring invalid distribution -atplotlib (c:\\users\\prachi\\anaconda3\\lib\\site-packages)\n",
      "WARNING: Ignoring invalid distribution -atplotlib (c:\\users\\prachi\\anaconda3\\lib\\site-packages)\n",
      "WARNING: Ignoring invalid distribution -atplotlib (c:\\users\\prachi\\anaconda3\\lib\\site-packages)\n",
      "WARNING: Ignoring invalid distribution -atplotlib (c:\\users\\prachi\\anaconda3\\lib\\site-packages)\n",
      "WARNING: Ignoring invalid distribution -atplotlib (c:\\users\\prachi\\anaconda3\\lib\\site-packages)\n"
     ]
    }
   ],
   "source": [
    "pip install selenium"
   ]
  },
  {
   "cell_type": "code",
   "execution_count": 61,
   "id": "81e33c1d",
   "metadata": {},
   "outputs": [],
   "source": [
    "from selenium import webdriver\n",
    "from selenium.webdriver.common.keys import Keys\n",
    "import pandas as pd"
   ]
  },
  {
   "cell_type": "code",
   "execution_count": 99,
   "id": "9996bca2",
   "metadata": {},
   "outputs": [
    {
     "name": "stderr",
     "output_type": "stream",
     "text": [
      "C:\\Users\\Prachi\\AppData\\Local\\Temp/ipykernel_10052/2163838404.py:1: DeprecationWarning: executable_path has been deprecated, please pass in a Service object\n",
      "  driver = webdriver.Chrome(executable_path=\"E:\\\\prachi datatrained\\\\FlipRoboTech\\\\chromedriver.exe\")\n"
     ]
    }
   ],
   "source": [
    "driver = webdriver.Chrome(executable_path=\"E:\\\\prachi datatrained\\\\FlipRoboTech\\\\chromedriver.exe\")"
   ]
  },
  {
   "cell_type": "code",
   "execution_count": 63,
   "id": "3bbbefb9",
   "metadata": {},
   "outputs": [
    {
     "name": "stdout",
     "output_type": "stream",
     "text": [
      "<class 'selenium.webdriver.chrome.webdriver.WebDriver'>\n"
     ]
    }
   ],
   "source": [
    "print(type(driver))"
   ]
  },
  {
   "cell_type": "code",
   "execution_count": 4,
   "id": "d6da75b2",
   "metadata": {},
   "outputs": [],
   "source": [
    "driver.get(\"https://www.naukri.com\")"
   ]
  },
  {
   "cell_type": "markdown",
   "id": "61091ab0",
   "metadata": {},
   "source": [
    "# 2. Enter “Data Analyst” in “Skill, Designations, Companies” field and enter “Bangalore” in “enter the location” field."
   ]
  },
  {
   "cell_type": "code",
   "execution_count": 60,
   "id": "48d952e1",
   "metadata": {},
   "outputs": [],
   "source": [
    "from selenium.webdriver.common.by import By"
   ]
  },
  {
   "cell_type": "code",
   "execution_count": 136,
   "id": "a3d6207e",
   "metadata": {},
   "outputs": [
    {
     "name": "stdout",
     "output_type": "stream",
     "text": [
      "<selenium.webdriver.remote.webelement.WebElement (session=\"7802e025450050065b9fb739c41ca489\", element=\"554e0417-7ab8-44c4-bac4-e8dc156390a1\")>\n"
     ]
    }
   ],
   "source": [
    "textboxes=driver.find_element(By.XPATH,\"//*[@id='root']/div[6]/div/div/div[1]/div/div/div/input\")\n",
    "print(textboxes)\n"
   ]
  },
  {
   "cell_type": "code",
   "execution_count": 137,
   "id": "a2926790",
   "metadata": {},
   "outputs": [],
   "source": [
    "textboxes.send_keys(\"Data Analyst\")"
   ]
  },
  {
   "cell_type": "code",
   "execution_count": 139,
   "id": "d040fe45",
   "metadata": {},
   "outputs": [
    {
     "name": "stdout",
     "output_type": "stream",
     "text": [
      "<selenium.webdriver.remote.webelement.WebElement (session=\"7802e025450050065b9fb739c41ca489\", element=\"d26f8f7d-5de9-4398-90c3-709625bdfc6f\")>\n"
     ]
    }
   ],
   "source": [
    "location=driver.find_element(By.XPATH,\"//*[@id='root']/div[6]/div/div/div[5]/div/div/div/input\")\n",
    "print(location)\n"
   ]
  },
  {
   "cell_type": "code",
   "execution_count": 140,
   "id": "752987f7",
   "metadata": {},
   "outputs": [],
   "source": [
    "location.send_keys(\"Bangalore\")"
   ]
  },
  {
   "cell_type": "code",
   "execution_count": null,
   "id": "5a3190e6",
   "metadata": {},
   "outputs": [],
   "source": []
  },
  {
   "cell_type": "markdown",
   "id": "123c1fe2",
   "metadata": {},
   "source": [
    "# 3. Then click the search button"
   ]
  },
  {
   "cell_type": "code",
   "execution_count": 9,
   "id": "c790445d",
   "metadata": {},
   "outputs": [],
   "source": [
    "from selenium.webdriver.support.ui import WebDriverWait \n",
    "from selenium.webdriver.support import expected_conditions as EC"
   ]
  },
  {
   "cell_type": "code",
   "execution_count": 145,
   "id": "a4b44db5",
   "metadata": {},
   "outputs": [],
   "source": [
    "WebDriverWait(driver, 20).until(EC.element_to_be_clickable((By.XPATH, \"//*[@id='root']/div[6]/div/div/div[6]\"))).click()\n"
   ]
  },
  {
   "cell_type": "code",
   "execution_count": null,
   "id": "68eecc17",
   "metadata": {},
   "outputs": [],
   "source": []
  },
  {
   "cell_type": "markdown",
   "id": "28e15cf0",
   "metadata": {},
   "source": [
    "# 4. Then scrape the data for the first 10 jobs results you get."
   ]
  },
  {
   "cell_type": "code",
   "execution_count": 248,
   "id": "8fd5b9b0",
   "metadata": {},
   "outputs": [
    {
     "name": "stdout",
     "output_type": "stream",
     "text": [
      "Customer Data Analyst\n",
      "Sr  Data Analyst\n",
      "Data Analyst - Decision Science\n",
      "Contractual Hiring For Top MNC || Business Data Analyst || Bangalore\n",
      "Immediate opening For Data Analyst @ Bangalore\n",
      "Associate Data Analyst\n",
      "Associate Data Analyst\n",
      "Senior Data Analyst\n",
      "Data Analyst - Python/Artificial Intelligence\n",
      "Data Analyst\n"
     ]
    }
   ],
   "source": [
    "rows = driver.find_elements(By.XPATH,\"//*[@id='root']/div[4]/div/section[2]/div[2]/article\")\n",
    "for row in rows[0:10]:\n",
    "    jobsrow=row.find_element(By.CLASS_NAME, 'title').text.replace(\".\",\" \")\n",
    "    print(jobsrow)"
   ]
  },
  {
   "cell_type": "code",
   "execution_count": null,
   "id": "01c0dde9",
   "metadata": {},
   "outputs": [],
   "source": []
  },
  {
   "cell_type": "markdown",
   "id": "b5061567",
   "metadata": {},
   "source": [
    "# 5. Finally create a dataframe of the scraped data."
   ]
  },
  {
   "cell_type": "code",
   "execution_count": 222,
   "id": "bc05e728",
   "metadata": {},
   "outputs": [],
   "source": [
    "import pandas as pd"
   ]
  },
  {
   "cell_type": "code",
   "execution_count": 272,
   "id": "f06c140d",
   "metadata": {},
   "outputs": [
    {
     "data": {
      "text/html": [
       "<div>\n",
       "<style scoped>\n",
       "    .dataframe tbody tr th:only-of-type {\n",
       "        vertical-align: middle;\n",
       "    }\n",
       "\n",
       "    .dataframe tbody tr th {\n",
       "        vertical-align: top;\n",
       "    }\n",
       "\n",
       "    .dataframe thead th {\n",
       "        text-align: right;\n",
       "    }\n",
       "</style>\n",
       "<table border=\"1\" class=\"dataframe\">\n",
       "  <thead>\n",
       "    <tr style=\"text-align: right;\">\n",
       "      <th></th>\n",
       "      <th>0</th>\n",
       "    </tr>\n",
       "  </thead>\n",
       "  <tbody>\n",
       "    <tr>\n",
       "      <th>0</th>\n",
       "      <td>Customer Data Analyst</td>\n",
       "    </tr>\n",
       "    <tr>\n",
       "      <th>1</th>\n",
       "      <td>Sr  Data Analyst</td>\n",
       "    </tr>\n",
       "    <tr>\n",
       "      <th>2</th>\n",
       "      <td>Data Analyst - Decision Science</td>\n",
       "    </tr>\n",
       "    <tr>\n",
       "      <th>3</th>\n",
       "      <td>Contractual Hiring For Top MNC || Business Dat...</td>\n",
       "    </tr>\n",
       "    <tr>\n",
       "      <th>4</th>\n",
       "      <td>Immediate opening For Data Analyst @ Bangalore</td>\n",
       "    </tr>\n",
       "    <tr>\n",
       "      <th>5</th>\n",
       "      <td>Associate Data Analyst</td>\n",
       "    </tr>\n",
       "    <tr>\n",
       "      <th>6</th>\n",
       "      <td>Associate Data Analyst</td>\n",
       "    </tr>\n",
       "    <tr>\n",
       "      <th>7</th>\n",
       "      <td>Senior Data Analyst</td>\n",
       "    </tr>\n",
       "    <tr>\n",
       "      <th>8</th>\n",
       "      <td>Data Analyst - Python/Artificial Intelligence</td>\n",
       "    </tr>\n",
       "    <tr>\n",
       "      <th>9</th>\n",
       "      <td>Data Analyst</td>\n",
       "    </tr>\n",
       "  </tbody>\n",
       "</table>\n",
       "</div>"
      ],
      "text/plain": [
       "                                                   0\n",
       "0                              Customer Data Analyst\n",
       "1                                   Sr  Data Analyst\n",
       "2                    Data Analyst - Decision Science\n",
       "3  Contractual Hiring For Top MNC || Business Dat...\n",
       "4     Immediate opening For Data Analyst @ Bangalore\n",
       "5                             Associate Data Analyst\n",
       "6                             Associate Data Analyst\n",
       "7                                Senior Data Analyst\n",
       "8      Data Analyst - Python/Artificial Intelligence\n",
       "9                                       Data Analyst"
      ]
     },
     "execution_count": 272,
     "metadata": {},
     "output_type": "execute_result"
    }
   ],
   "source": [
    "positions = []\n",
    "for row in rows[0:10]:\n",
    "    positions.append(row.find_element(By.CLASS_NAME, 'title').text.replace(\".\",\" \"))\n",
    "    #print(positions)\n",
    "pd.DataFrame(positions)"
   ]
  },
  {
   "cell_type": "code",
   "execution_count": null,
   "id": "60ddb770",
   "metadata": {},
   "outputs": [],
   "source": []
  },
  {
   "cell_type": "markdown",
   "id": "0874f1d5",
   "metadata": {},
   "source": [
    "# Q2: Write a python program to scrape data for “Data Scientist” Job position in “Bangalore” location. You have to scrape the job-title, job-location, company_name. You have to scrape first 10 jobs data.This task will be done in following steps:\n"
   ]
  },
  {
   "cell_type": "markdown",
   "id": "918efef6",
   "metadata": {},
   "source": [
    "# 1. First get the webpage https://www.naukri.com/"
   ]
  },
  {
   "cell_type": "code",
   "execution_count": 273,
   "id": "ab488cec",
   "metadata": {},
   "outputs": [],
   "source": [
    "driver.get(\"https://www.naukri.com\")"
   ]
  },
  {
   "cell_type": "code",
   "execution_count": null,
   "id": "85937e27",
   "metadata": {},
   "outputs": [],
   "source": []
  },
  {
   "cell_type": "markdown",
   "id": "8cef1e31",
   "metadata": {},
   "source": [
    "# 2. Enter “Data Scientist” in “Skill, Designations, Companies” field and enter “Bangalore” in “enter the location” field."
   ]
  },
  {
   "cell_type": "code",
   "execution_count": 277,
   "id": "37fc0962",
   "metadata": {},
   "outputs": [],
   "source": [
    "txtbox = driver.find_element(By.XPATH,\"//*[@id='root']/div[6]/div/div/div[1]/div/div/div/input\")"
   ]
  },
  {
   "cell_type": "code",
   "execution_count": 278,
   "id": "8097c7ec",
   "metadata": {},
   "outputs": [],
   "source": [
    "a = txtbox.send_keys('Data Scientist')"
   ]
  },
  {
   "cell_type": "code",
   "execution_count": 280,
   "id": "f060d743",
   "metadata": {},
   "outputs": [],
   "source": [
    "txtbox_Location = driver.find_element(By.XPATH,\"//*[@id='root']/div[6]/div/div/div[5]/div/div/div/input\")\n",
    "b = txtbox_Location.send_keys('Bangalore')"
   ]
  },
  {
   "cell_type": "code",
   "execution_count": null,
   "id": "421696fc",
   "metadata": {},
   "outputs": [],
   "source": []
  },
  {
   "cell_type": "markdown",
   "id": "7a60a6d7",
   "metadata": {},
   "source": [
    "# 3. Then click the search button"
   ]
  },
  {
   "cell_type": "code",
   "execution_count": 281,
   "id": "f434a259",
   "metadata": {},
   "outputs": [],
   "source": [
    "WebDriverWait(driver, 20).until(EC.element_to_be_clickable((By.XPATH, \"//*[@id='root']/div[6]/div/div/div[6]\"))).click()"
   ]
  },
  {
   "cell_type": "code",
   "execution_count": null,
   "id": "bba0a235",
   "metadata": {},
   "outputs": [],
   "source": []
  },
  {
   "cell_type": "markdown",
   "id": "9d8bf812",
   "metadata": {},
   "source": [
    "# 4. Then scrape the data for the first 10 jobs results you get."
   ]
  },
  {
   "cell_type": "code",
   "execution_count": 286,
   "id": "37fd6a95",
   "metadata": {},
   "outputs": [
    {
     "name": "stdout",
     "output_type": "stream",
     "text": [
      "Job Opportunity on Data Science_ Python with Techmahindra\n",
      "Assistant Manager - Data Science\n",
      "Analystics & Modeling Specialist\n",
      "Hiring For DATA Scientist @ NTT DATA Business Solution India\n",
      "Data Science Consultant\n",
      "Data Scientist\n",
      "Data Scientist\n",
      "Data Scientist\n",
      "Data Scientist\n",
      "Lead ML Scientist\n"
     ]
    }
   ],
   "source": [
    "data = driver.find_elements(By.XPATH,\"//*[@id='root']/div[4]/div/section[2]/div[2]/article\")\n",
    "for row in data[0:10]:\n",
    "    scraped=row.find_element(By.CLASS_NAME, 'title').text.replace(\".\",\" \")\n",
    "    print(scraped)"
   ]
  },
  {
   "cell_type": "code",
   "execution_count": null,
   "id": "25aa981c",
   "metadata": {},
   "outputs": [],
   "source": []
  },
  {
   "cell_type": "markdown",
   "id": "87145cd1",
   "metadata": {},
   "source": [
    "# 5. Finally create a dataframe of the scraped data."
   ]
  },
  {
   "cell_type": "code",
   "execution_count": 287,
   "id": "8e775eb3",
   "metadata": {},
   "outputs": [
    {
     "data": {
      "text/html": [
       "<div>\n",
       "<style scoped>\n",
       "    .dataframe tbody tr th:only-of-type {\n",
       "        vertical-align: middle;\n",
       "    }\n",
       "\n",
       "    .dataframe tbody tr th {\n",
       "        vertical-align: top;\n",
       "    }\n",
       "\n",
       "    .dataframe thead th {\n",
       "        text-align: right;\n",
       "    }\n",
       "</style>\n",
       "<table border=\"1\" class=\"dataframe\">\n",
       "  <thead>\n",
       "    <tr style=\"text-align: right;\">\n",
       "      <th></th>\n",
       "      <th>0</th>\n",
       "    </tr>\n",
       "  </thead>\n",
       "  <tbody>\n",
       "    <tr>\n",
       "      <th>0</th>\n",
       "      <td>Job Opportunity on Data Science_ Python with T...</td>\n",
       "    </tr>\n",
       "    <tr>\n",
       "      <th>1</th>\n",
       "      <td>Assistant Manager - Data Science</td>\n",
       "    </tr>\n",
       "    <tr>\n",
       "      <th>2</th>\n",
       "      <td>Analystics &amp; Modeling Specialist</td>\n",
       "    </tr>\n",
       "    <tr>\n",
       "      <th>3</th>\n",
       "      <td>Hiring For DATA Scientist @ NTT DATA Business ...</td>\n",
       "    </tr>\n",
       "    <tr>\n",
       "      <th>4</th>\n",
       "      <td>Data Science Consultant</td>\n",
       "    </tr>\n",
       "    <tr>\n",
       "      <th>5</th>\n",
       "      <td>Data Scientist</td>\n",
       "    </tr>\n",
       "    <tr>\n",
       "      <th>6</th>\n",
       "      <td>Data Scientist</td>\n",
       "    </tr>\n",
       "    <tr>\n",
       "      <th>7</th>\n",
       "      <td>Data Scientist</td>\n",
       "    </tr>\n",
       "    <tr>\n",
       "      <th>8</th>\n",
       "      <td>Data Scientist</td>\n",
       "    </tr>\n",
       "    <tr>\n",
       "      <th>9</th>\n",
       "      <td>Lead ML Scientist</td>\n",
       "    </tr>\n",
       "  </tbody>\n",
       "</table>\n",
       "</div>"
      ],
      "text/plain": [
       "                                                   0\n",
       "0  Job Opportunity on Data Science_ Python with T...\n",
       "1                   Assistant Manager - Data Science\n",
       "2                   Analystics & Modeling Specialist\n",
       "3  Hiring For DATA Scientist @ NTT DATA Business ...\n",
       "4                            Data Science Consultant\n",
       "5                                     Data Scientist\n",
       "6                                     Data Scientist\n",
       "7                                     Data Scientist\n",
       "8                                     Data Scientist\n",
       "9                                  Lead ML Scientist"
      ]
     },
     "execution_count": 287,
     "metadata": {},
     "output_type": "execute_result"
    }
   ],
   "source": [
    "scraped_data = []\n",
    "for row in data[0:10]:\n",
    "    scraped_data.append(row.find_element(By.CLASS_NAME, 'title').text.replace(\".\",\" \"))\n",
    "    \n",
    "pd.DataFrame(scraped_data)"
   ]
  },
  {
   "cell_type": "code",
   "execution_count": null,
   "id": "4ffffd70",
   "metadata": {},
   "outputs": [],
   "source": []
  },
  {
   "cell_type": "markdown",
   "id": "4866da7b",
   "metadata": {},
   "source": [
    "# Q3: In this question you have to scrape data using the filters available on the webpage as shown below:\n"
   ]
  },
  {
   "cell_type": "markdown",
   "id": "aa58ef0c",
   "metadata": {},
   "source": [
    "# You have to use the location and salary filter.\n",
    "# You have to scrape data for “Data Scientist” designation for first 10 job results.\n",
    "# You have to scrape the job-title, job-location, company name, experience required. \n",
    "# The location filter to be used is “Delhi/NCR”. The salary filter to be used is “3-6” lakhs"
   ]
  },
  {
   "cell_type": "code",
   "execution_count": null,
   "id": "71bb1449",
   "metadata": {},
   "outputs": [],
   "source": []
  },
  {
   "cell_type": "markdown",
   "id": "8fd05ef5",
   "metadata": {},
   "source": [
    "# 1. first get the webpage https://www.naukri.com/\n"
   ]
  },
  {
   "cell_type": "code",
   "execution_count": 288,
   "id": "426bb964",
   "metadata": {},
   "outputs": [],
   "source": [
    "driver.get(\"https://www.naukri.com\")"
   ]
  },
  {
   "cell_type": "code",
   "execution_count": null,
   "id": "93792f97",
   "metadata": {},
   "outputs": [],
   "source": []
  },
  {
   "cell_type": "markdown",
   "id": "61bce63b",
   "metadata": {},
   "source": [
    "# 2. Enter “Data Scientist” in “Skill, Designations, and Companies” field.\n"
   ]
  },
  {
   "cell_type": "code",
   "execution_count": 289,
   "id": "a37c2425",
   "metadata": {},
   "outputs": [],
   "source": [
    "skill_txtbox = driver.find_element(By.XPATH,\"//*[@id='root']/div[6]/div/div/div[1]/div/div/div/input\")\n",
    "a = skill_txtbox.send_keys('Data Scientist')"
   ]
  },
  {
   "cell_type": "code",
   "execution_count": null,
   "id": "3a2f1b41",
   "metadata": {},
   "outputs": [],
   "source": []
  },
  {
   "cell_type": "markdown",
   "id": "1143d093",
   "metadata": {},
   "source": [
    "# 3. Then click the search button."
   ]
  },
  {
   "cell_type": "code",
   "execution_count": 290,
   "id": "5ef7c0fd",
   "metadata": {},
   "outputs": [],
   "source": [
    "WebDriverWait(driver, 20).until(EC.element_to_be_clickable((By.XPATH, \"//*[@id='root']/div[6]/div/div/div[6]\"))).click()"
   ]
  },
  {
   "cell_type": "code",
   "execution_count": null,
   "id": "bb64100c",
   "metadata": {},
   "outputs": [],
   "source": []
  },
  {
   "cell_type": "markdown",
   "id": "790ee3ac",
   "metadata": {},
   "source": [
    "# 4. Then apply the location filter and salary filter by checking the respective boxes"
   ]
  },
  {
   "cell_type": "code",
   "execution_count": 300,
   "id": "ac1652e3",
   "metadata": {},
   "outputs": [],
   "source": [
    "from selenium.webdriver.common.by import By\n",
    "from selenium.webdriver.support.ui import WebDriverWait \n",
    "from selenium.webdriver.support import expected_conditions as EC"
   ]
  },
  {
   "cell_type": "code",
   "execution_count": 313,
   "id": "04e8b9a5",
   "metadata": {},
   "outputs": [],
   "source": [
    "location = driver.find_elements(By.XPATH,\"//*[@id='chk-Delhi / NCR-cityTypeGid-']\")\n",
    "for item in location:\n",
    "    driver.execute_script(\"arguments[0].click();\", item)"
   ]
  },
  {
   "cell_type": "code",
   "execution_count": 314,
   "id": "769ffaf9",
   "metadata": {},
   "outputs": [],
   "source": [
    "salary = driver.find_elements(By.XPATH,\"//*[@id='chk-3-6 Lakhs-ctcFilter-']\")\n",
    "for item in salary:\n",
    "    driver.execute_script(\"arguments[0].click();\", item)"
   ]
  },
  {
   "cell_type": "code",
   "execution_count": null,
   "id": "064909b2",
   "metadata": {},
   "outputs": [],
   "source": []
  },
  {
   "cell_type": "markdown",
   "id": "f348e645",
   "metadata": {},
   "source": [
    "# 5. Then scrape the data for the first 10 jobs results you get.\n"
   ]
  },
  {
   "cell_type": "code",
   "execution_count": 316,
   "id": "1240375a",
   "metadata": {},
   "outputs": [
    {
     "name": "stdout",
     "output_type": "stream",
     "text": [
      "DigitalBCG GAMMA Data Scientist\n",
      "Data Scientist\n",
      "Data Scientist / Chat-bot Developer\n",
      "Lead Data Scientist\n",
      "Data Scientist - Predictive Analytics\n",
      "Data Scientist For Healthcare Product team\n",
      "Data Scientist - Engine Algorithm\n",
      "Data Scientist\n",
      "Data Scientist\n",
      "Data Scientist, Associate\n"
     ]
    }
   ],
   "source": [
    "data = driver.find_elements(By.XPATH,\"//*[@id='root']/div[4]/div/section[2]/div[2]/article\")\n",
    "for row in data[0:10]:\n",
    "    scraped=row.find_element(By.CLASS_NAME, 'title').text.replace(\".\",\" \")\n",
    "    print(scraped)"
   ]
  },
  {
   "cell_type": "code",
   "execution_count": null,
   "id": "21371442",
   "metadata": {},
   "outputs": [],
   "source": []
  },
  {
   "cell_type": "markdown",
   "id": "861ebc77",
   "metadata": {},
   "source": [
    "# 6. Finally create a dataframe of the scraped data."
   ]
  },
  {
   "cell_type": "code",
   "execution_count": 317,
   "id": "bd7f1ee5",
   "metadata": {},
   "outputs": [
    {
     "data": {
      "text/html": [
       "<div>\n",
       "<style scoped>\n",
       "    .dataframe tbody tr th:only-of-type {\n",
       "        vertical-align: middle;\n",
       "    }\n",
       "\n",
       "    .dataframe tbody tr th {\n",
       "        vertical-align: top;\n",
       "    }\n",
       "\n",
       "    .dataframe thead th {\n",
       "        text-align: right;\n",
       "    }\n",
       "</style>\n",
       "<table border=\"1\" class=\"dataframe\">\n",
       "  <thead>\n",
       "    <tr style=\"text-align: right;\">\n",
       "      <th></th>\n",
       "      <th>0</th>\n",
       "    </tr>\n",
       "  </thead>\n",
       "  <tbody>\n",
       "    <tr>\n",
       "      <th>0</th>\n",
       "      <td>DigitalBCG GAMMA Data Scientist</td>\n",
       "    </tr>\n",
       "    <tr>\n",
       "      <th>1</th>\n",
       "      <td>Data Scientist</td>\n",
       "    </tr>\n",
       "    <tr>\n",
       "      <th>2</th>\n",
       "      <td>Data Scientist / Chat-bot Developer</td>\n",
       "    </tr>\n",
       "    <tr>\n",
       "      <th>3</th>\n",
       "      <td>Lead Data Scientist</td>\n",
       "    </tr>\n",
       "    <tr>\n",
       "      <th>4</th>\n",
       "      <td>Data Scientist - Predictive Analytics</td>\n",
       "    </tr>\n",
       "    <tr>\n",
       "      <th>5</th>\n",
       "      <td>Data Scientist For Healthcare Product team</td>\n",
       "    </tr>\n",
       "    <tr>\n",
       "      <th>6</th>\n",
       "      <td>Data Scientist - Engine Algorithm</td>\n",
       "    </tr>\n",
       "    <tr>\n",
       "      <th>7</th>\n",
       "      <td>Data Scientist</td>\n",
       "    </tr>\n",
       "    <tr>\n",
       "      <th>8</th>\n",
       "      <td>Data Scientist</td>\n",
       "    </tr>\n",
       "    <tr>\n",
       "      <th>9</th>\n",
       "      <td>Data Scientist, Associate</td>\n",
       "    </tr>\n",
       "  </tbody>\n",
       "</table>\n",
       "</div>"
      ],
      "text/plain": [
       "                                            0\n",
       "0             DigitalBCG GAMMA Data Scientist\n",
       "1                              Data Scientist\n",
       "2         Data Scientist / Chat-bot Developer\n",
       "3                         Lead Data Scientist\n",
       "4       Data Scientist - Predictive Analytics\n",
       "5  Data Scientist For Healthcare Product team\n",
       "6           Data Scientist - Engine Algorithm\n",
       "7                              Data Scientist\n",
       "8                              Data Scientist\n",
       "9                   Data Scientist, Associate"
      ]
     },
     "execution_count": 317,
     "metadata": {},
     "output_type": "execute_result"
    }
   ],
   "source": [
    "scraped_data = []\n",
    "for row in data[0:10]:\n",
    "    scraped_data.append(row.find_element(By.CLASS_NAME, 'title').text.replace(\".\",\" \"))\n",
    "    \n",
    "pd.DataFrame(scraped_data)"
   ]
  },
  {
   "cell_type": "code",
   "execution_count": null,
   "id": "549541ce",
   "metadata": {},
   "outputs": [],
   "source": []
  },
  {
   "cell_type": "markdown",
   "id": "af1c580d",
   "metadata": {},
   "source": [
    "# Q4: Scrape data of first 100 sunglasses listings on flipkart.com. You have to scrape four attributes:\n",
    "# 1. Brand\n",
    "# 2. Product Description\n",
    "# 3. Price\n",
    "# The attributes which you have to scrape is ticked marked in the below image.\n"
   ]
  },
  {
   "cell_type": "code",
   "execution_count": null,
   "id": "856e6e13",
   "metadata": {},
   "outputs": [],
   "source": []
  },
  {
   "cell_type": "markdown",
   "id": "76f42b57",
   "metadata": {},
   "source": [
    "# 1. Go to Flipkart webpage by url : https://www.flipkart.com/\n"
   ]
  },
  {
   "cell_type": "code",
   "execution_count": 318,
   "id": "581f921a",
   "metadata": {},
   "outputs": [],
   "source": [
    "driver.get(\"https://www.flipkart.com/\")"
   ]
  },
  {
   "cell_type": "code",
   "execution_count": null,
   "id": "bb43b66f",
   "metadata": {},
   "outputs": [],
   "source": []
  },
  {
   "cell_type": "markdown",
   "id": "3001e0b6",
   "metadata": {},
   "source": [
    "# 2. Enter “sunglasses” in the search field where “search for products, brands and more” is written and click the search icon"
   ]
  },
  {
   "cell_type": "code",
   "execution_count": 319,
   "id": "2fff430f",
   "metadata": {},
   "outputs": [],
   "source": [
    "txtbox = driver.find_element(By.XPATH,\"//*[@id='container']/div/div[1]/div[1]/div[2]/div[2]/form/div/div/input\")\n",
    "a = txtbox.send_keys('sunglasses')"
   ]
  },
  {
   "cell_type": "code",
   "execution_count": 320,
   "id": "99c3910b",
   "metadata": {},
   "outputs": [],
   "source": [
    "WebDriverWait(driver, 20).until(EC.element_to_be_clickable((By.XPATH, \"//*[@id='container']/div/div[1]/div[1]/div[2]/div[2]/form/div/button\"))).click()"
   ]
  },
  {
   "cell_type": "code",
   "execution_count": null,
   "id": "001f11ea",
   "metadata": {},
   "outputs": [],
   "source": []
  },
  {
   "cell_type": "markdown",
   "id": "8b2e2273",
   "metadata": {},
   "source": [
    "# 3. After that you will reach to the page having a lot of sunglasses. From this page you can scrap the required data as usual.\n"
   ]
  },
  {
   "cell_type": "code",
   "execution_count": 396,
   "id": "15774d63",
   "metadata": {
    "scrolled": true
   },
   "outputs": [
    {
     "name": "stdout",
     "output_type": "stream",
     "text": [
      "ROYAL SON  -  UV Protection Rectangular, Retro Square Sunglasses (58)  -  ₹424  -  71% off\n",
      "VINCENT CHASE  -  Polarized, UV Protection Round Sunglasses (50)  -  ₹1,099  -  45% off\n",
      "New Specs  -  UV Protection Rectangular Sunglasses (Free Size)  -  ₹250  -  90% off\n",
      "PHENOMENAL  -  UV Protection Retro Square Sunglasses (53)  -  ₹267  -  73% off\n",
      "PIRASO  -  UV Protection Aviator Sunglasses (54)  -  ₹237  -  85% off\n",
      "LIZA ANGEL  -  Riding Glasses, Night Vision Spectacle Sunglasses (Fre...  -  ₹189  -  81% off\n",
      "SHAAH COLLECTIONS  -  UV Protection, Polarized, Mirrored Rectangular Sunglass...  -  ₹195  -  88% off\n",
      "VINCENT CHASE  -  by Lenskart Polarized, UV Protection Round Sunglasses (...  -  ₹949  -  52% off\n",
      "Fastrack  -  UV Protection Aviator Sunglasses (Free Size)  -  ₹639  -  20% off\n",
      "Sewell  -  Mirrored, Night Vision, UV Protection, Riding Glasses S...  -  ₹251  -  83% off\n",
      "VINCENT CHASE  -  by Lenskart Polarized, UV Protection Cat-eye Sunglasses...  -  ₹1,049  -  58% off\n",
      "VINCENT CHASE  -  by Lenskart Polarized, UV Protection Cat-eye Sunglasses...  -  ₹679  -  72% off\n",
      "SUNBEE  -  UV Protection, Polarized Wayfarer Sunglasses (Free Size...  -  ₹268  -  79% off\n",
      "CRYSTAL CART  -  Mirrored, Night Vision Oval Sunglasses (Free Size)  -  ₹172  -  71% off\n",
      "Elligator  -  UV Protection Round Sunglasses (54)  -  ₹298  -  88% off\n",
      "New Specs  -  Mirrored, UV Protection, Riding Glasses, Others Round S...  -  ₹296  -  81% off\n",
      "PIRASO  -  UV Protection Rectangular Sunglasses (52)  -  ₹246  -  84% off\n",
      "VINCENT CHASE  -  by Lenskart Polarized, UV Protection Wayfarer Sunglasse...  -  ₹686  -  72% off\n",
      "Rich Club  -  UV Protection Retro Square Sunglasses (54)  -  ₹299  -  57% off\n",
      "PIRASO  -  UV Protection Aviator Sunglasses (54)  -  ₹237  -  85% off\n",
      "VINCENT CHASE  -  by Lenskart Polarized, UV Protection Round Sunglasses (...  -  ₹1,049  -  47% off\n",
      "ROYAL SON  -  Polarized, UV Protection Retro Square Sunglasses (55)  -  ₹519  -  74% off\n",
      "PIRASO  -  UV Protection Wayfarer Sunglasses (32)  -  ₹237  -  85% off\n",
      "Fastrack  -  UV Protection Wayfarer Sunglasses (Free Size)  -  ₹799  -  20% off\n",
      "SRPM  -  UV Protection Wayfarer Sunglasses (50)  -  ₹197  -  84% off\n",
      "Lee Topper  -  UV Protection Rectangular Sunglasses (Free Size)  -  ₹219  -  78% off\n",
      "PIRASO  -  UV Protection Aviator Sunglasses (58)  -  ₹323  -  87% off\n",
      "ROYAL SON  -  Mirrored Aviator Sunglasses (55)  -  ₹339  -  77% off\n",
      "ROZZETTA CRAFT  -  Polarized, Riding Glasses Sports, Wrap-around Sunglasse...  -  ₹449  -  77% off\n",
      "PIRASO  -  UV Protection Wayfarer Sunglasses (55)  -  ₹237  -  85% off\n",
      "ROYAL SON  -  Polarized, UV Protection Aviator Sunglasses (57)  -  ₹639  -  68% off\n",
      "VINCENT CHASE  -  by Lenskart Polarized, UV Protection Aviator Sunglasses...  -  ₹949  -  52% off\n",
      "CRYSTAL CART  -  Polarized, UV Protection, Gradient, Riding Glasses Rect...  -  ₹313  -  79% off\n",
      "ROYAL SON  -  UV Protection, Gradient Butterfly Sunglasses (52)  -  ₹559  -  72% off\n",
      "PIRASO  -  UV Protection Aviator Sunglasses (55)  -  ₹237  -  85% off\n",
      "New Specs  -  UV Protection Oval Sunglasses (Free Size)  -  ₹196  -  80% off\n",
      "EYELLUSION  -  Riding Glasses, Riding Glasses, UV Protection Round Sun...  -  ₹189  -  81% off\n",
      "VINCENT CHASE  -  by Lenskart UV Protection Round Sunglasses (58)  -  ₹1,049  -  47% off\n",
      "kingsunglasses  -  UV Protection Round Sunglasses (54)  -  ₹214  -  78% off\n",
      "New Specs  -  UV Protection Round Sunglasses (Free Size)  -  ₹268  -  79% off\n"
     ]
    }
   ],
   "source": [
    "body = driver.find_element(By.XPATH,\"//*[@id='container']/div/div[3]/div[1]/div[2]\")\n",
    "container = body.find_elements(By.CLASS_NAME, '_1xHGtK')\n",
    "\n",
    "flipkartGlasses = []\n",
    "\n",
    "for item in container:\n",
    "    data = {\n",
    "        \"Brand\":item.find_element(By.CLASS_NAME, '_2WkVRV').text,\n",
    "        \"Descriptoin\": item.find_element(By.CLASS_NAME, 'IRpwTa').text,\n",
    "        \"Price\": item.find_element(By.CLASS_NAME, '_30jeq3').text,\n",
    "        \"Discount\": item.find_element(By.CLASS_NAME, '_3Ay6Sb').text\n",
    "    }\n",
    "    flipkartGlasses.append(data)\n",
    "    \n",
    "for name in flipkartGlasses:\n",
    "    print(name['Brand'],' - ' ,name['Descriptoin'] ,' - ',name['Price'],' - ',name['Discount']) \n",
    "\n",
    "    #print(name)"
   ]
  },
  {
   "cell_type": "code",
   "execution_count": null,
   "id": "30ae2bc8",
   "metadata": {},
   "outputs": [],
   "source": []
  },
  {
   "cell_type": "markdown",
   "id": "d616f250",
   "metadata": {},
   "source": [
    "# 4. After scraping data from the first page, go to the “Next” Button at the bottom other page , then click on it.\n"
   ]
  },
  {
   "cell_type": "code",
   "execution_count": 382,
   "id": "5f754a03",
   "metadata": {},
   "outputs": [],
   "source": [
    "WebDriverWait(driver, 20).until(EC.element_to_be_clickable((By.XPATH, \"//*[@id='container']/div/div[3]/div[1]/div[2]/div[12]/div/div/nav/a[11]\"))).click()"
   ]
  },
  {
   "cell_type": "code",
   "execution_count": null,
   "id": "5d941158",
   "metadata": {},
   "outputs": [],
   "source": []
  },
  {
   "cell_type": "markdown",
   "id": "31661dbf",
   "metadata": {},
   "source": [
    "# 5. Now scrape data from this page as usual"
   ]
  },
  {
   "cell_type": "code",
   "execution_count": 394,
   "id": "662d3d33",
   "metadata": {},
   "outputs": [
    {
     "name": "stdout",
     "output_type": "stream",
     "text": [
      "VINCENT CHASE  -  by Lenskart Polarized, UV Protection Wayfarer Sunglasse...  -  ₹749  -  70% off\n",
      "VINCENT CHASE  -  by Lenskart Polarized, UV Protection Round Sunglasses (...  -  ₹999  -  50% off\n",
      "Fastrack  -  UV Protection Shield Sunglasses (Free Size)  -  ₹719  -  20% off\n",
      "kingsunglasses  -  UV Protection, Riding Glasses, Mirrored Wayfarer Sungla...  -  ₹213  -  82% off\n",
      "CRYSTAL CART  -  Polarized, UV Protection, Mirrored, Gradient Rectangula...  -  ₹476  -  77% off\n",
      "Fastrack  -  UV Protection Aviator Sunglasses (58)  -  ₹1,039  -  20% off\n",
      "Silver Kartz  -  UV Protection Wayfarer Sunglasses (Free Size)  -  ₹288  -  80% off\n",
      "kingsunglasses  -  Mirrored, UV Protection Wayfarer Sunglasses (Free Size)  -  ₹254  -  83% off\n",
      "ROZZETTA CRAFT  -  UV Protection Spectacle Sunglasses (Free Size)  -  ₹319  -  84% off\n",
      "HIPPON  -  UV Protection Wayfarer Sunglasses (55)  -  ₹207  -  82% off\n",
      "VINCENT CHASE  -  by Lenskart Polarized, UV Protection Cat-eye Sunglasses...  -  ₹1,049  -  47% off\n",
      "AISLIN  -  Toughened Glass Lens, UV Protection Aviator, Wayfarer S...  -  ₹746  -  79% off\n",
      "DEIXELS  -  Polarized, UV Protection, Riding Glasses Wayfarer Sungl...  -  ₹224  -  62% off\n",
      "Fastrack  -  UV Protection Aviator Sunglasses (58)  -  ₹1,169  -  10% off\n",
      "Rich Club  -  Polarized Round Sunglasses (48)  -  ₹209  -  58% off\n",
      "ROYAL SON  -  Polarized, UV Protection Retro Square Sunglasses (61)  -  ₹559  -  62% off\n",
      "Fastrack  -  UV Protection Round Sunglasses (52)  -  ₹599  -  25% off\n",
      "VINCENT CHASE  -  by Lenskart UV Protection Round Sunglasses (48)  -  ₹999  -  50% off\n",
      "ROYAL SON  -  Mirrored Aviator Sunglasses (Free Size)  -  ₹339  -  77% off\n",
      "Fastrack  -  Mirrored, UV Protection Wayfarer Sunglasses (Free Size)  -  ₹899  -  10% off\n",
      "AISLIN  -  UV Protection, Gradient Cat-eye, Round Sunglasses (62)  -  ₹422  -  75% off\n",
      "ROYAL SON  -  Polarized, UV Protection Round Sunglasses (52)  -  ₹639  -  68% off\n",
      "Ray-Ban  -  UV Protection Retro Square Sunglasses (55)  -  ₹3,289  -  40% off\n",
      "New Specs  -  UV Protection Rectangular Sunglasses (Free Size)  -  ₹189  -  88% off\n",
      "Fastrack  -  Gradient, UV Protection Wayfarer Sunglasses (Free Size)  -  ₹719  -  20% off\n",
      "Fastrack  -  UV Protection Wayfarer Sunglasses (Free Size)  -  ₹559  -  30% off\n",
      "Dannilo  -  UV Protection Aviator Sunglasses (Free Size)  -  ₹230  -  76% off\n",
      "NuVew  -  UV Protection Sports Sunglasses (62)  -  ₹307  -  75% off\n",
      "ROYAL SON  -  UV Protection Rectangular, Retro Square Sunglasses (58)  -  ₹424  -  71% off\n",
      "ROYAL SON  -  Mirrored Aviator Sunglasses (58)  -  ₹339  -  77% off\n",
      "VINCENT CHASE  -  Polarized, UV Protection Rectangular Sunglasses (69)  -  ₹1,049  -  58% off\n",
      "VINCENT CHASE  -  by Lenskart Polarized, UV Protection Aviator Sunglasses...  -  ₹949  -  52% off\n",
      "Fastrack  -  UV Protection Aviator Sunglasses (58)  -  ₹1,039  -  20% off\n",
      "ROYAL SON  -  Polarized Rectangular Sunglasses (60)  -  ₹559  -  72% off\n",
      "kingsunglasses  -  UV Protection, Night Vision Wayfarer Sunglasses (Free S...  -  ₹284  -  81% off\n",
      "ROZZETTA CRAFT  -  UV Protection, Gradient Retro Square Sunglasses (Free S...  -  ₹314  -  84% off\n",
      "kingsunglasses  -  Mirrored, UV Protection Wayfarer, Rectangular Sunglasse...  -  ₹289  -  85% off\n",
      "ROYAL SON  -  UV Protection, Polarized Wayfarer Sunglasses (54)  -  ₹639  -  68% off\n",
      "Singco India  -  Riding Glasses, UV Protection Clubmaster, Wayfarer Sung...  -  ₹296  -  85% off\n",
      "kingsunglasses  -  Mirrored, UV Protection Wayfarer Sunglasses (53)  -  ₹284  -  85% off\n"
     ]
    }
   ],
   "source": [
    "body = driver.find_element(By.XPATH,\"//*[@id='container']/div/div[3]/div[1]/div[2]\")\n",
    "container = body.find_elements(By.CLASS_NAME, '_1xHGtK')\n",
    "\n",
    "flipkartGlasses = []\n",
    "\n",
    "for item in container:\n",
    "    data = {\n",
    "        \"Brand\":item.find_element(By.CLASS_NAME, '_2WkVRV').text,\n",
    "        \"Descriptoin\": item.find_element(By.CLASS_NAME, 'IRpwTa').text,\n",
    "        \"Price\": item.find_element(By.CLASS_NAME, '_30jeq3').text,\n",
    "        \"Discount\": item.find_element(By.CLASS_NAME, '_3Ay6Sb').text\n",
    "    }\n",
    "    flipkartGlasses.append(data)\n",
    "    \n",
    "for name in flipkartGlasses:\n",
    "    print(name['Brand'],' - ' ,name['Descriptoin'] ,' - ',name['Price'],' - ',name['Discount']) \n",
    "    "
   ]
  },
  {
   "cell_type": "code",
   "execution_count": null,
   "id": "59ef1570",
   "metadata": {},
   "outputs": [],
   "source": []
  },
  {
   "cell_type": "markdown",
   "id": "9b7ee9c1",
   "metadata": {},
   "source": [
    "# 6. Repeat this until you get data for 100 sunglasses."
   ]
  },
  {
   "cell_type": "code",
   "execution_count": 385,
   "id": "c9697fba",
   "metadata": {},
   "outputs": [],
   "source": [
    "WebDriverWait(driver, 20).until(EC.element_to_be_clickable((By.XPATH, \"//*[@id='container']/div/div[3]/div[1]/div[2]/div[12]/div/div/nav/a[12]\"))).click()"
   ]
  },
  {
   "cell_type": "code",
   "execution_count": 393,
   "id": "7f6930d3",
   "metadata": {},
   "outputs": [
    {
     "name": "stdout",
     "output_type": "stream",
     "text": [
      "AISLIN  -  UV Protection, Gradient Cat-eye Sunglasses (58)  -  ₹448  -  70% off\n",
      "VINCENT CHASE  -  Polarized, UV Protection Round Sunglasses (50)  -  ₹1,049  -  47% off\n",
      "Fastrack  -  UV Protection Wayfarer Sunglasses (56)  -  ₹989  -  23% off\n",
      "SUNBEE  -  UV Protection, Polarized, Mirrored Wayfarer Sunglasses ...  -  ₹268  -  79% off\n",
      "kingsunglasses  -  UV Protection, Others Round, Aviator Sunglasses (54)  -  ₹214  -  78% off\n",
      "Rich Club  -  UV Protection Cat-eye Sunglasses (48)  -  ₹263  -  62% off\n",
      "ROYAL SON  -  Polarized, UV Protection Sports Sunglasses (68)  -  ₹1,039  -  58% off\n",
      "Mi  -  Polarized Aviator Sunglasses (Free Size)  -  ₹799  -  33% off\n",
      "kingsunglasses  -  UV Protection, Mirrored Round Sunglasses (54)  -  ₹245  -  79% off\n",
      "CRYSTAL CART  -  Polarized, Gradient, UV Protection, Mirrored Over-sized...  -  ₹220  -  88% off\n",
      "VINCENT CHASE  -  by Lenskart Polarized, UV Protection Cat-eye Sunglasses...  -  ₹1,049  -  47% off\n",
      "ROYAL SON  -  UV Protection, Polarized Round Sunglasses (54)  -  ₹699  -  65% off\n",
      "VINCENT CHASE  -  by Lenskart Polarized, UV Protection Rectangular Sungla...  -  ₹749  -  62% off\n",
      "PIRASO  -  UV Protection Over-sized Sunglasses (65)  -  ₹383  -  85% off\n",
      "ROYAL SON  -  UV Protection Retro Square Sunglasses (60)  -  ₹479  -  76% off\n",
      "ROYAL SON  -  Others Retro Square Sunglasses (58)  -  ₹424  -  71% off\n",
      "LIZA ANGEL  -  Riding Glasses, Night Vision Retro Square, Spectacle S...  -  ₹189  -  81% off\n",
      "VINCENT CHASE  -  UV Protection Rectangular Sunglasses (52)  -  ₹699  -  65% off\n",
      "PIRASO  -  UV Protection Aviator Sunglasses (54)  -  ₹237  -  85% off\n",
      "GANSTA  -  Night Vision, Riding Glasses Rectangular Sunglasses (60...  -  ₹215  -  83% off\n"
     ]
    }
   ],
   "source": [
    "body = driver.find_element(By.XPATH,\"//*[@id='container']/div/div[3]/div[1]/div[2]\")\n",
    "container = body.find_elements(By.CLASS_NAME, '_1xHGtK')\n",
    "\n",
    "flipkartGlasses = []\n",
    "\n",
    "for item in container[0:20]:\n",
    "    data = {\n",
    "        \"Brand\":item.find_element(By.CLASS_NAME, '_2WkVRV').text,\n",
    "        \"Descriptoin\": item.find_element(By.CLASS_NAME, 'IRpwTa').text,\n",
    "        \"Price\": item.find_element(By.CLASS_NAME, '_30jeq3').text,\n",
    "        \"Discount\": item.find_element(By.CLASS_NAME, '_3Ay6Sb').text\n",
    "    }\n",
    "    flipkartGlasses.append(data)\n",
    "    \n",
    "for name in flipkartGlasses:\n",
    "    print(name['Brand'],' - ' ,name['Descriptoin'] ,' - ',name['Price'],' - ',name['Discount']) \n",
    "    "
   ]
  },
  {
   "cell_type": "code",
   "execution_count": null,
   "id": "a2fad219",
   "metadata": {},
   "outputs": [],
   "source": []
  },
  {
   "cell_type": "markdown",
   "id": "669663dc",
   "metadata": {},
   "source": [
    "# Q5: Scrape 100 reviews data from flipkart.com for iphone11 phone.\n",
    "This task will be done in following steps:\n",
    "1. First get the webpage https://www.flipkart.com/\n",
    "2. Enter “iphone 11” in “Search” field . \n",
    "3. Then click the search button"
   ]
  },
  {
   "cell_type": "code",
   "execution_count": 93,
   "id": "1a904a73",
   "metadata": {},
   "outputs": [],
   "source": [
    "driver.get(\"https://www.flipkart.com/\")"
   ]
  },
  {
   "cell_type": "code",
   "execution_count": 94,
   "id": "51aecd1f",
   "metadata": {},
   "outputs": [],
   "source": [
    "txtbox = driver.find_element(By.XPATH,\"//*[@id='container']/div/div[1]/div[1]/div[2]/div[2]/form/div/div/input\")\n",
    "a = txtbox.send_keys('iphone 11')\n"
   ]
  },
  {
   "cell_type": "code",
   "execution_count": 95,
   "id": "0327b329",
   "metadata": {},
   "outputs": [],
   "source": [
    "WebDriverWait(driver, 20).until(EC.element_to_be_clickable((By.XPATH, \"//*[@id='container']/div/div[1]/div[1]/div[2]/div[2]/form/div/button\"))).click()"
   ]
  },
  {
   "cell_type": "code",
   "execution_count": 96,
   "id": "a8e2c9be",
   "metadata": {},
   "outputs": [],
   "source": [
    "driver.find_element(By.XPATH,\"//*[@id='container']/div/div[3]/div[1]/div[2]/div[3]/div/div/div/a\").click()"
   ]
  },
  {
   "cell_type": "code",
   "execution_count": 97,
   "id": "1c7431e4",
   "metadata": {},
   "outputs": [
    {
     "ename": "AttributeError",
     "evalue": "'NoneType' object has no attribute 'click'",
     "output_type": "error",
     "traceback": [
      "\u001b[1;31m---------------------------------------------------------------------------\u001b[0m",
      "\u001b[1;31mAttributeError\u001b[0m                            Traceback (most recent call last)",
      "\u001b[1;32m~\\AppData\\Local\\Temp/ipykernel_10052/1605048204.py\u001b[0m in \u001b[0;36m<module>\u001b[1;34m\u001b[0m\n\u001b[0;32m      1\u001b[0m \u001b[1;31m#driver.find_element(By.XPATH,\"/html/body\").send_keys(Keys.COMMAND + 't')\u001b[0m\u001b[1;33m\u001b[0m\u001b[1;33m\u001b[0m\u001b[0m\n\u001b[0;32m      2\u001b[0m \u001b[0mdriver\u001b[0m\u001b[1;33m.\u001b[0m\u001b[0mswitch_to\u001b[0m\u001b[1;33m.\u001b[0m\u001b[0mwindow\u001b[0m\u001b[1;33m(\u001b[0m\u001b[0mdriver\u001b[0m\u001b[1;33m.\u001b[0m\u001b[0mwindow_handles\u001b[0m\u001b[1;33m[\u001b[0m\u001b[1;36m1\u001b[0m\u001b[1;33m]\u001b[0m\u001b[1;33m)\u001b[0m\u001b[1;33m\u001b[0m\u001b[1;33m\u001b[0m\u001b[0m\n\u001b[1;32m----> 3\u001b[1;33m \u001b[0mdriver\u001b[0m\u001b[1;33m.\u001b[0m\u001b[0mfind_element\u001b[0m\u001b[1;33m(\u001b[0m\u001b[0mBy\u001b[0m\u001b[1;33m.\u001b[0m\u001b[0mXPATH\u001b[0m\u001b[1;33m,\u001b[0m\u001b[1;34m\"//*[@id='container']/div/div[3]/div[1]/div[2]/div[9]/div[6]/div/a\"\u001b[0m\u001b[1;33m)\u001b[0m\u001b[1;33m.\u001b[0m\u001b[0mclick\u001b[0m\u001b[1;33m(\u001b[0m\u001b[1;33m)\u001b[0m\u001b[1;33m\u001b[0m\u001b[1;33m\u001b[0m\u001b[0m\n\u001b[0m",
      "\u001b[1;31mAttributeError\u001b[0m: 'NoneType' object has no attribute 'click'"
     ]
    }
   ],
   "source": [
    "#driver.find_element(By.XPATH,\"/html/body\").send_keys(Keys.COMMAND + 't') \n",
    "driver.switch_to.window(driver.window_handles[1])\n",
    "driver.find_element(By.XPATH,\"//*[@id='container']/div/div[3]/div[1]/div[2]/div[9]/div[6]/div/a\").click()\n"
   ]
  },
  {
   "cell_type": "code",
   "execution_count": null,
   "id": "9ae255b9",
   "metadata": {},
   "outputs": [],
   "source": [
    "body = driver.find_element(By.XPATH,\"//*[@id='container']/div/div[3]/div/div/div[2]\")\n",
    "#container = body.find_elements(By.CLASS_NAME, '_1xHGtK')\n",
    "\n",
    "rawLinks = body.find_elements(By.CLASS_NAME, 'ge-49M')\n",
    "\n",
    "actualLinks = []\n",
    "\n",
    "for link in rawLinks:\n",
    "    actualLink= link.get_attribute(\"href\")\n",
    "    actualLinks.append(actualLink)\n",
    "\n",
    "sneakers = [] \n",
    "\n",
    "for i in range(len(actualLinks)):\n",
    "    if len(sneakers) >= 100:\n",
    "        break\n",
    "    driver.get(actualLinks[i])\n",
    "    print(actualLinks[i])\n",
    "    products = driver.find_elements(By.CLASS_NAME,'_1xHGtK')\n",
    "    for product in products:\n",
    "        data = {\n",
    "            \"Brand\":product.find_element(By.CLASS_NAME, '_2WkVRV').text,\n",
    "            \"Descriptoin\": product.find_element(By.CLASS_NAME, 'IRpwTa').text,\n",
    "            \"Price\": product.find_element(By.CLASS_NAME, '_30jeq3').text,\n",
    "            \"Discount\": product.find_element(By.CLASS_NAME, '_3Ay6Sb').text\n",
    "        }\n",
    "        if len(sneakers) < 100:            \n",
    "            sneakers.append(data)\n",
    "    \n",
    "for name in sneakers:\n",
    "    print(name['Brand'],'-',name['Descriptoin'],'-',name['Price'],'-',name['Discount'])\n",
    "    "
   ]
  },
  {
   "cell_type": "code",
   "execution_count": 16,
   "id": "9b2a91bc",
   "metadata": {},
   "outputs": [
    {
     "name": "stdout",
     "output_type": "stream",
     "text": [
      "Executing\n",
      "1\n",
      "Success\n",
      "2\n",
      "failed\n",
      "3\n",
      "failed\n",
      "4\n",
      "failed\n",
      "5\n",
      "failed\n",
      "6\n",
      "failed\n",
      "7\n",
      "failed\n",
      "8\n",
      "failed\n",
      "9\n",
      "failed\n",
      "Simply awesome\n",
      "Perfect product!\n",
      "Best in the market!\n",
      "Worth every penny\n",
      "Highly recommended\n",
      "Fabulous!\n",
      "Great product\n",
      "Highly recommended\n",
      "Worth every penny\n",
      "Good choice\n",
      "Simply awesome\n",
      "Perfect product!\n",
      "Best in the market!\n",
      "Worth every penny\n",
      "Highly recommended\n",
      "Fabulous!\n",
      "Great product\n"
     ]
    }
   ],
   "source": [
    " \n",
    "body = driver.find_element(By.XPATH,\"//*[@id='container']/div/div[3]/div/div/div[2]\")\n",
    "container = body.find_elements(By.CLASS_NAME, '_2wzgFH')\n",
    "print('Executing')\n",
    "flipkartphone = []\n",
    "\n",
    "for i in range(1,10):\n",
    "    isSuccess = False\n",
    "    try:\n",
    "        for item in container:\n",
    "            data = {\n",
    "                \"Ratings\":item.find_element(By.CLASS_NAME, '_3LWZlK').text,\n",
    "                \"Summary\": item.find_element(By.CLASS_NAME, '_2-N8zT').text,\n",
    "                \"FullReview\": item.find_element(By.CLASS_NAME, 't-ZTKy').text               \n",
    "            }\n",
    "            flipkartphone.append(data)       \n",
    "        driver.find_element(By.CLASS_NAME,\"_1LKTO3\").click()\n",
    "        isSuccess = True\n",
    "        print(i)\n",
    "        print('Success')\n",
    "    except:\n",
    "        isSuccess = False\n",
    "        print(i)\n",
    "        print('failed')\n",
    "\n",
    "for name in flipkartphone:\n",
    "    print(name['Summary'])\n",
    "    #print(name['Ratings'],' - ' ,name['Summary'] ,' - ',name['FullReview'])    "
   ]
  },
  {
   "cell_type": "code",
   "execution_count": null,
   "id": "5dc90f8a",
   "metadata": {},
   "outputs": [],
   "source": []
  },
  {
   "cell_type": "code",
   "execution_count": null,
   "id": "3bdf140b",
   "metadata": {},
   "outputs": [],
   "source": []
  },
  {
   "cell_type": "markdown",
   "id": "8ed8ce05",
   "metadata": {},
   "source": [
    "# Q6: Scrape data for first 100 sneakers you find when you visit flipkart.com and search for “sneakers” in the \n",
    "search field.\n",
    "You have to scrape 4 attributes of each sneaker:\n",
    "1. Brand\n",
    "2. Product Description\n",
    "3. Price"
   ]
  },
  {
   "cell_type": "code",
   "execution_count": 64,
   "id": "a698e27f",
   "metadata": {},
   "outputs": [],
   "source": [
    "driver.get(\"https://www.flipkart.com/\")"
   ]
  },
  {
   "cell_type": "code",
   "execution_count": 65,
   "id": "6de445f7",
   "metadata": {},
   "outputs": [],
   "source": [
    "from time import sleep\n",
    "txtbox = driver.find_element(By.XPATH,\"//*[@id='container']/div/div[1]/div[1]/div[2]/div[2]/form/div/div/input\")\n",
    "a = txtbox.send_keys('sneakers')\n",
    "sleep(1)"
   ]
  },
  {
   "cell_type": "code",
   "execution_count": 66,
   "id": "d4bcf687",
   "metadata": {},
   "outputs": [],
   "source": [
    "WebDriverWait(driver, 20).until(EC.element_to_be_clickable((By.XPATH, \"//*[@id='container']/div/div[1]/div[1]/div[2]/div[2]/form/div/button\"))).click()"
   ]
  },
  {
   "cell_type": "code",
   "execution_count": 67,
   "id": "b506408d",
   "metadata": {},
   "outputs": [],
   "source": [
    "Brand_class='_2WkVRV'\n",
    "Description_class='IRpwTa'\n",
    "Price_class='_30jeq3'\n",
    "Discount_class='_3Ay6Sb'\n",
    "next_button='_1LKTO3'"
   ]
  },
  {
   "cell_type": "code",
   "execution_count": 92,
   "id": "ef2e71d2",
   "metadata": {},
   "outputs": [
    {
     "name": "stdout",
     "output_type": "stream",
     "text": [
      "https://www.flipkart.com/search?q=sneakers&otracker=search&otracker1=search&marketplace=FLIPKART&as-show=on&as=off&page=1\n",
      "https://www.flipkart.com/search?q=sneakers&otracker=search&otracker1=search&marketplace=FLIPKART&as-show=on&as=off&page=2\n",
      "https://www.flipkart.com/search?q=sneakers&otracker=search&otracker1=search&marketplace=FLIPKART&as-show=on&as=off&page=3\n",
      "Labbin - Sneakers For Men - ₹329 - 67% off\n",
      "BRUTON - Lightweight Pack Of 1 Trendy Sneakers Sneakers For Men - ₹179 - 70% off\n",
      "Chevit - Super Stylish & Trendy Combo Pack of 02 Pairs Sneakers ... - ₹498 - 73% off\n",
      "Shozie - Sneakers For Men - ₹389 - 61% off\n",
      "aadi - Sneakers For Men - ₹279 - 72% off\n",
      "TR - Sneakers For Men - ₹295 - 80% off\n",
      "Layasa - supr Sneakers For Men - ₹199 - 80% off\n",
      "BRUTON - Modern Trendy Sneakers Shoes Sneakers For Men - ₹231 - 82% off\n",
      "RapidBox - Sneakers For Men - ₹549 - 45% off\n",
      "Chevit - Unique & Perfect Collection Combo Pack of 02 Shoes for ... - ₹407 - 72% off\n",
      "Kzaara - Sneakers For Men - ₹233 - 76% off\n",
      "Layasa - supr Sneakers For Men - ₹199 - 80% off\n",
      "Deals4you - Sneakers For Women - ₹439 - 70% off\n",
      "HOTSTYLE - Sneakers For Men - ₹292 - 70% off\n",
      "BRUTON - Combo Pack of 2 Sports Running LightWeight Shoes, Sneak... - ₹634 - 84% off\n",
      "SCATCHITE - Sneakers Sneakers For Men - ₹360 - 63% off\n",
      "DUNKASTON - Casual Sneakers For Men - ₹299 - 80% off\n",
      "asian - Skypy-31 Walking Shoes,Training Shoes,Sneakers,Loafers,... - ₹419 - 47% off\n",
      "Kraasa - Casuals, Canvas, Partywear Sneakers For Men - ₹428 - 57% off\n",
      "BRUTON - Exclusive Sneaker Shoes Sneakers For Men - ₹319 - 75% off\n",
      "TR - Casual White Sneakers For Men - ₹299 - 80% off\n",
      "Shozie - Sneakers For Men - ₹399 - 60% off\n",
      "BRUTON - Modern Trendy Sneakers Shoes Sneakers For Men - ₹320 - 75% off\n",
      "Shozie - Sneakers For Men - ₹348 - 65% off\n",
      "DUNKASTON - Sneakers For Men - ₹299 - 80% off\n",
      "Deals4you - Sneakers For Women - ₹299 - 70% off\n",
      "Shozie - Breathable, Walking, Running, Casual, Gym Shoes Sneaker... - ₹379 - 62% off\n",
      "Magnolia - Sneakers For Men - ₹399 - 60% off\n",
      "Layasa - Sneakers For Men - ₹399 - 60% off\n",
      "ASTEROID - Original Luxury Branded Fashionable Men's Casual Walkin... - ₹449 - 77% off\n",
      "Layasa - Sneakers For Men - ₹394 - 60% off\n",
      "Kraasa - Series 7 Sneakers For Men - ₹428 - 57% off\n",
      "BRUTON - Lattest Sneakers Shoe Sneakers For Men - ₹239 - 81% off\n",
      "WHITE WALKERS - Stylish & Trending Outdoor Walking Comfortable Sneakers... - ₹509 - 57% off\n",
      "Xtoon - Modern Trendy Sneakers boot Sneakers For Men - ₹424 - 71% off\n",
      "KWIK FIT - Kwik FIT casual sneaker shoes and partywear shoes Casua... - ₹399 - 80% off\n",
      "Magnolia - Sneakers For Men - ₹396 - 60% off\n",
      "Robbie jones - Sneakers For Men - ₹394 - 60% off\n",
      "Deals4you - Sneakers For Women - ₹249 - 83% off\n",
      "Robbie jones - Casual Sneakers Canvas Shoes For Men Sneakers For Men - ₹394 - 60% off\n",
      "AMICO - Sneakers For Men - ₹406 - 59% off\n",
      "K- FOOTLANCE - Sneakers For Men - ₹376 - 62% off\n",
      "Sparx - Men White Sneakers Sneakers For Men - ₹619 - 27% off\n",
      "URBANBOX - Sneakers Sneakers For Men - ₹198 - 80% off\n",
      "BRUTON - Modern Trendy Sneakers Shoes Sneakers For Men - ₹315 - 75% off\n",
      "PUMA - BMW MMS A3ROCAT Sneakers For Men - ₹3,279 - 59% off\n",
      "BRUTON - Modern Trendy Sneakers Shoes Sneakers For Men - ₹352 - 72% off\n",
      "KNIGHT WALKERS - SS1100 Sneakers For Men - ₹664 - 66% off\n",
      "aadi - Mesh | Ultralightweight | Comfortable | Breathable Walk... - ₹399 - 80% off\n",
      "RapidBox - Sneakers For Men - ₹485 - 51% off\n",
      "Deals4you - Sneakers For Men - ₹383 - 74% off\n",
      "Zapatoz - Sneakers For Women - ₹299 - 70% off\n",
      "Deals4you - Sneakers For Men - ₹352 - 64% off\n",
      "Robbie jones - Sneakers For Men - ₹394 - 60% off\n",
      "Krors - Mens Sneakers Shoes, Casual Shoes Sneakers For Men - ₹499 - 50% off\n",
      "Dizzler - Sneakers For Men - ₹413 - 42% off\n",
      "HRX by Hrithik Roshan - Men White Grey Colour blocked Chunky Sneakers Sneakers ... - ₹1,629 - 66% off\n",
      "Kzaara - Sneakers For Men - ₹239 - 76% off\n",
      "D-SNEAKERZ - Casual , Partywear Sneakers Shoes For Men's And Boys Wh... - ₹296 - 55% off\n",
      "Layasa - Sneakers For Men - ₹399 - 60% off\n",
      "Real Bliss - Fashion Sneaker Shoes Sneakers For Men - ₹449 - 55% off\n",
      "Xtoon - Black casual shoes for men's, boot for men's,black boot... - ₹424 - 71% off\n",
      "Rzisbo - Sneakers For Men - ₹412 - 58% off\n",
      "Chevit - Modern Stylish Combo Pack of 3 Jogging, Walking, Gym Sh... - ₹568 - 76% off\n",
      "Deals4you - Sneakers For Women - ₹398 - 73% off\n",
      "World Wear Footwear - Latest Collection-1215 Stylish Casual Sports Sneakers F... - ₹249 - 50% off\n",
      "Sparx - Sneakers For Men - ₹656 - 27% off\n",
      "Xtoon - Modern Trendy Sneakers boot Sneakers For Men - ₹424 - 71% off\n",
      "LE GREEM - Comfortable & Ultra Light Weight Sneaker Sneakers For M... - ₹449 - 55% off\n",
      "ASTEROID - Original Luxury Branded Fashionable Men's Casual Walkin... - ₹449 - 55% off\n",
      "RapidBox - Sneakers For Men - ₹549 - 45% off\n",
      "PORT - Mesh | Ultralightweight | Comfortable | Breathable Walk... - ₹399 - 80% off\n",
      "bluemaker - casual for men Sneakers For Men - ₹479 - 52% off\n",
      "HOCKWOOD - Street Smart Sneakers For Men - ₹745 - 25% off\n",
      "Sparx - Sneakers For Men - ₹619 - 27% off\n",
      "aadi - Sneakers For Men - ₹399 - 60% off\n",
      "Layasa - Sneakers For Men - ₹399 - 60% off\n",
      "Layasa - Sneakers For Women - ₹579 - 71% off\n",
      "bluemaker - casual shoe for men Sneakers For Men - ₹479 - 52% off\n",
      "ONECENTRE - STR2 Sneakers For Men - ₹284 - 76% off\n",
      "Sparx - Sneakers For Men - ₹619 - 27% off\n",
      "Robbie jones - Sneakers For Men - ₹423 - 57% off\n",
      "DUCATI - Sneakers For Men - ₹1,031 - 71% off\n",
      "Shozie - Sneakers For Men - ₹448 - 55% off\n",
      "LE GREEM - Comfortable & Ultra Light Weight Sneaker Sneakers For M... - ₹449 - 55% off\n",
      "Robbie jones - Casual Sneakers White Shoes For Men Sneakers For Men - ₹423 - 57% off\n",
      "Krors - Men's Casual Walking Partywear Sneakers Running White S... - ₹499 - 50% off\n",
      "Vellinto - Casual Sneakrs For Men Sneakers For Men - ₹456 - 64% off\n",
      "T-ROCK - Stylish White Casual Walking Sneakers Shoes For Men and... - ₹413 - 58% off\n",
      "Chevit - Perfect & Affordable Combo Pack of 02 Pairs Sneakers Ou... - ₹559 - 68% off\n",
      "Layasa - Sneakers For Women - ₹445 - 55% off\n",
      "tigonis - Tigonis Casuals For Men Sneakers For Men (White) Sneake... - ₹450 - 69% off\n",
      "WHITE WALKERS - Stylish & Trending Outdoor Walking Comfortable Sneakers... - ₹509 - 57% off\n",
      "ACTION - Athleo ATG-424 Men's Black Mesh Best Comfort Running Gy... - ₹602 - 68% off\n",
      "Roadster - Sneakers For Men - ₹1,116 - 63% off\n",
      "Kraasa - Shark-41 Sneakers For Men - ₹419 - 58% off\n",
      "BIRDE - Premium Sneakers For Men Sneakers For Men - ₹450 - 69% off\n",
      "Sparx - SM-620 Sneakers For Men - ₹909 - 30% off\n",
      "KNIGHTWING - Stylish Comfortable Sneakers For Men Sneakers For Men - ₹799 - 55% off\n",
      "TUNER - Sneakers For Men - ₹429 - 57% off\n"
     ]
    }
   ],
   "source": [
    "body = driver.find_element(By.XPATH,\"//*[@id='container']/div/div[3]/div[1]/div[2]\")\n",
    "#container = body.find_elements(By.CLASS_NAME, '_1xHGtK')\n",
    "\n",
    "rawLinks = body.find_elements(By.CLASS_NAME, 'ge-49M')\n",
    "\n",
    "actualLinks = []\n",
    "\n",
    "for link in rawLinks:\n",
    "    actualLink= link.get_attribute(\"href\")\n",
    "    actualLinks.append(actualLink)\n",
    "\n",
    "sneakers = [] \n",
    "\n",
    "for i in range(len(actualLinks)):\n",
    "    if len(sneakers) >= 100:\n",
    "        break\n",
    "    driver.get(actualLinks[i])\n",
    "    print(actualLinks[i])\n",
    "    products = driver.find_elements(By.CLASS_NAME,'_1xHGtK')\n",
    "    for product in products:\n",
    "        data = {\n",
    "            \"Brand\":product.find_element(By.CLASS_NAME, '_2WkVRV').text,\n",
    "            \"Descriptoin\": product.find_element(By.CLASS_NAME, 'IRpwTa').text,\n",
    "            \"Price\": product.find_element(By.CLASS_NAME, '_30jeq3').text,\n",
    "            \"Discount\": product.find_element(By.CLASS_NAME, '_3Ay6Sb').text\n",
    "        }\n",
    "        if len(sneakers) < 100:            \n",
    "            sneakers.append(data)\n",
    "    \n",
    "for name in sneakers:\n",
    "    print(name['Brand'],'-',name['Descriptoin'],'-',name['Price'],'-',name['Discount'])\n",
    "    "
   ]
  },
  {
   "cell_type": "code",
   "execution_count": null,
   "id": "58267c43",
   "metadata": {},
   "outputs": [],
   "source": []
  },
  {
   "cell_type": "markdown",
   "id": "309fdc37",
   "metadata": {},
   "source": [
    "# Q7: Go to the link - https://www.myntra.com/shoes\n",
    "Set second Price filter and Color filter to “Black”, as shown in the below image.\n"
   ]
  },
  {
   "cell_type": "code",
   "execution_count": 250,
   "id": "171fdd92",
   "metadata": {},
   "outputs": [],
   "source": [
    "driver.get(\"https://www.myntra.com/shoes\")"
   ]
  },
  {
   "cell_type": "code",
   "execution_count": 251,
   "id": "08b85bef",
   "metadata": {},
   "outputs": [],
   "source": [
    "price = driver.find_elements(By.XPATH,\"//*[@id='mountRoot']/div/div[1]/main/div[3]/div[1]/section/div/div[5]/ul/li[2]/label/input\")\n",
    "for item in price:\n",
    "    driver.execute_script(\"arguments[0].click();\", item)"
   ]
  },
  {
   "cell_type": "code",
   "execution_count": 252,
   "id": "ee41d268",
   "metadata": {},
   "outputs": [],
   "source": [
    "color = driver.find_elements(By.XPATH,\"//*[@id='mountRoot']/div/div[1]/main/div[3]/div[1]/section/div/div[6]/ul/li[1]/label/div\")\n",
    "for item in color:\n",
    "    driver.execute_script(\"arguments[0].click();\", item)"
   ]
  },
  {
   "cell_type": "code",
   "execution_count": 256,
   "id": "d10cfd7e",
   "metadata": {},
   "outputs": [
    {
     "name": "stdout",
     "output_type": "stream",
     "text": [
      "https://www.myntra.com/shoes?f=Color%3ABlack_36454f&rf=Price%3A7164.0_14109.0_7164.0%20TO%2014109.0\n",
      "https://www.myntra.com/shoes?f=Color%3ABlack_36454f&rf=Price%3A7164.0_14109.0_7164.0%20TO%2014109.0&p=2\n",
      "Nike - Men ZOOM WINFLO8 Running Shoes - Rs. 7880Rs. 8295(5% OFF)\n",
      "ADIDAS Originals - Men Leather Niteball Sneakers - Rs. 10799Rs. 11999(10% OFF)\n",
      "ADIDAS Originals - Men Niteball II Sneakers - Rs. 9349Rs. 10999(15% OFF)\n",
      "Skechers - Men Sports Shoes - Rs. 8499\n",
      "ADIDAS Originals - Men Retropy F90 Sneakers - Rs. 9999\n",
      "Nike - Men React Infinity 3 Running - Rs. 13295Rs. 13995(5% OFF)\n",
      "Nike - Men Air Max Sneakers - Rs. 7880Rs. 8295(5% OFF)\n",
      "ADIDAS - Men Dropset Training Shoes - Rs. 12999\n",
      "Tommy Hilfiger - Men Solid Sneakers - Rs. 9999\n",
      "ADIDAS Originals - Men Ozrah Leather Sneakers - Rs. 11049Rs. 12999(15% OFF)\n",
      "Nike - Men JORDAN LOW Basketball Shoe - Rs. 12795\n",
      "UNDER ARMOUR - Men UA TriBase Reign4 Training - Rs. 10199Rs. 11999(15% OFF)\n",
      "Puma - Eternity Nitro Running Shoes - Rs. 12999\n",
      "ADIDAS Originals - Men Colorblocked Ozrah Sneaker - Rs. 11699Rs. 12999(10% OFF)\n",
      "Nike - Men REACT MILER 3 Running Shoe - Rs. 10495\n",
      "Tommy Hilfiger - Men Leather Sneakers - Rs. 8299\n",
      "Nike - Men SRG 3 FK Training Shoes - Rs. 8450Rs. 8895(5% OFF)\n",
      "UNDER ARMOUR - Men HOVR Sonic SE Running Shoe - Rs. 8499Rs. 9999(15% OFF)\n",
      "Nike - Men FREE RUN 2 Sneakers - Rs. 9210Rs. 9695(5% OFF)\n",
      "ADIDAS - Men Defiant Generation Tennis - Rs. 7999Rs. 9999(20% OFF)\n",
      "Nike - Air Max Axis Sneakers - Rs. 8355Rs. 8795(5% OFF)\n",
      "Nike - Men Running Shoes - Rs. 7495\n",
      "Puma - Men Liberate Running Shoes - Rs. 8799Rs. 10999(20% OFF)\n",
      "Puma - Men Deviate Nitro Shoes - Rs. 10499Rs. 14999(30% OFF)\n",
      "Nike - Women Running Shoes - Rs. 7880Rs. 8295(5% OFF)\n",
      "Nike - Kyrie Flytrap 5 Basketball - Rs. 8195\n",
      "ADIDAS - Men Entry Hiker 2.R.RDY Trek - Rs. 7649Rs. 8999(15% OFF)\n",
      "Puma - Men Nitro 2 WIDE Running Shoes - Rs. 9599Rs. 11999(20% OFF)\n",
      "Puma - Men Reverse Classics Sneakers - Rs. 7199Rs. 8999(20% OFF)\n",
      "Puma - Unisex Wild Rider Sneakers - Rs. 7199Rs. 8999(20% OFF)\n",
      "ASICS - Men GEL-CUMULUS 23 MK Running - Rs. 7499Rs. 9999(25% OFF)\n",
      "Nike - Men Zoom C Pro HC Tennis Shoes - Rs. 7560Rs. 8895(15% OFF)\n",
      "ADIDAS - Men Response Super 3.0 Run - Rs. 8999\n",
      "ADIDAS - Men Adizero Adios 7 Running - Rs. 9599Rs. 11999(20% OFF)\n",
      "Puma - Men M Nitro Running Shoess - Rs. 9099Rs. 12999(30% OFF)\n",
      "ADIDAS Originals - Men Solid Retropy F2 Sneakers - Rs. 8099Rs. 8999(10% OFF)\n",
      "ROSSO BRUNELLO - Men Textured Leather Loafers - Rs. 12999\n",
      "Tommy Hilfiger - Men Leather Sneakers - Rs. 7799\n",
      "Bugatti - Men Walking Shoes - Rs. 7499Rs. 9999(25% OFF)\n",
      "ADIDAS Originals - Men Woven Nmd_R1 Sneakers - Rs. 12999\n",
      "ADIDAS Originals - Men Woven NMD_31 Sneakers - Rs. 11199Rs. 13999(20% OFF)\n",
      "ADIDAS - Women Supernova Running Shoes - Rs. 9999\n",
      "ADIDAS Originals - Men ZX 22 BOOST Sneakers - Rs. 10799Rs. 11999(10% OFF)\n",
      "Puma - Unisex Eliminate Pro II Shoes - Rs. 7199Rs. 8999(20% OFF)\n",
      "ADIDAS Originals - Men Retropy F90 Sneakers - Rs. 9999\n",
      "Nike - Women React Escape Running - Rs. 9770Rs. 11495(15% OFF)\n",
      "Tommy Hilfiger - Men Leather Sneakers - Rs. 8999\n",
      "Puma - Men Velocity Nitro 2 Running - Rs. 8799Rs. 10999(20% OFF)\n",
      "Tommy Hilfiger - Men Solid Sneakers - Rs. 8299\n",
      "ADIDAS - Men 4DFWD_Pulse Running Shoes - Rs. 13599Rs. 15999(15% OFF)\n",
      "ADIDAS - Men 4DFWD_Pulse Running Shoes - Rs. 13599Rs. 15999(15% OFF)\n",
      "Tommy Hilfiger - Men Leather Sneakers - Rs. 8299\n",
      "ADIDAS Originals - Women Superstar Sneakers - Rs. 9999\n",
      "ADIDAS - Men Response Super 3.0 Run - Rs. 8999\n",
      "Reebok - Men Zig Dynamica2Adventure Run - Rs. 8999\n",
      "Skechers - Men GO WALK - TERRA Shoes - Rs. 8999Rs. 9999(10% OFF)\n",
      "Skechers - Men Sports Shoes - Rs. 8499\n",
      "Saint G - Leather Block Sandals with Buckles - Rs. 8505Rs. 10500(19% OFF)\n",
      "Skechers - Men Sports Shoes - Rs. 7999\n",
      "PUMA Hoops - Fives Blaze Court Basketball - Rs. 7699Rs. 10999(30% OFF)\n",
      "ADIDAS - Women Super 3.0 Running Shoes - Rs. 8999\n",
      "ASICS - Evoride 3 Running Shoes - Rs. 8499Rs. 9999(15% OFF)\n",
      "Columbia - PEAKFREAK OUTDRY Trekking Shoe - Rs. 9999\n",
      "fitflop - Embellished Leather Wedge Sandals - Rs. 7499\n",
      "Tommy Hilfiger - Men Leather Mid-Top Sneakers - Rs. 10999\n",
      "Tommy Hilfiger - Men Leather Sneakers - Rs. 10999\n",
      "Tommy Hilfiger - Women Leather Sneakers - Rs. 7599\n",
      "UNDER ARMOUR - Women Hovr Sonic SE Run Shoes - Rs. 8999Rs. 9999(10% OFF)\n",
      "ADIDAS Originals - Men Ozweego Sneakers - Rs. 10999\n",
      "ROSSO BRUNELLO - Men Leather Driving Shoes - Rs. 9999\n",
      "Skechers - Men Sky Vault Walking Shoes - Rs. 8999\n",
      "Tommy Hilfiger - Women Solid Slim Heel Sandals - Rs. 7299\n",
      "Saint G - Leather Ankle Boots - Rs. 9025Rs. 9500(5% OFF)\n",
      "Tommy Hilfiger - Men Leather Sneakers - Rs. 8799\n",
      "Puma - Women UltraRide Running Shoes - Rs. 8999\n",
      "Saint G - Suede Embellished Ankle Boots - Rs. 8455Rs. 8900(5% OFF)\n",
      "Tommy Hilfiger - Men Solid Sneakers - Rs. 8099Rs. 8999(10% OFF)\n",
      "Clarks - Men Woven Design Suede Flat Boots - Rs. 9999\n",
      "J.FONTINI - Men Textured Leather Loafers - Rs. 8490\n",
      "Calvin Klein - Men Leather Sneakers - Rs. 8999\n",
      "ECCO - Women Textured Leather Sneakers - Rs. 13999\n",
      "Tommy Hilfiger - Men Solid Sneakers - Rs. 7799\n",
      "Hush Puppies - Men Perforations Leather Slip-On Sneakers - Rs. 7999\n",
      "Saint G - Women Suede Chelsea Boot - Rs. 10925Rs. 11500(5% OFF)\n",
      "Hush Puppies - Men Solid Leather Formal Slip-Ons - Rs. 9999\n",
      "Saint G - Leather Block - Rs. 9975Rs. 10500(5% OFF)\n",
      "Geox - Women Leather Slip-On Sneakers - Rs. 11990\n",
      "Geox - Women Textured Leather Loafers - Rs. 9990\n",
      "Louis Philippe - Men Solid Leather Formal Loafers - Rs. 9999\n",
      "DAVINCHI - Men Solid Leather Formal Loafers - Rs. 8490\n",
      "Skechers - Women Printed Trekking Shoes - Rs. 8999\n",
      "J.FONTINI - Men Formal Shoes - Rs. 7490\n",
      "Tommy Hilfiger - Women Leather Sneakers - Rs. 8599\n",
      "Skechers - Women Arch Fit Slip-On Sneaker - Rs. 7999\n",
      "Tommy Hilfiger - Women Leather Kitten Sandals - Rs. 7199Rs. 7999(10% OFF)\n",
      "Columbia - Women REDMOND V2 TrekkingShoe - Rs. 7999\n",
      "ADIDAS - Women Solar Glide 5 Running - Rs. 9799Rs. 13999(30% OFF)\n",
      "UNDER ARMOUR - W omen TriBase Reign 4 Running - Rs. 8399Rs. 11999(30% OFF)\n",
      "ADIDAS - Women SL20.3 Running Shoes - Rs. 7799Rs. 11999(35% OFF)\n",
      "ADIDAS - Women Adizero Adios 7 Run Shoe - Rs. 9599Rs. 11999(20% OFF)\n"
     ]
    }
   ],
   "source": [
    "body = driver.find_element(By.XPATH,\"//*[@id='desktopSearchResults']/div[2]\")\n",
    "#container = body.find_elements(By.CLASS_NAME, '_1xHGtK')\n",
    "\n",
    "rawLinks = body.find_elements(By.CLASS_NAME, 'pagination-active')\n",
    "\n",
    "actualLinks = []\n",
    "\n",
    "for link in rawLinks:\n",
    "    actualLink= link.find_element(By.CSS_SELECTOR,\"a\").get_attribute(\"href\")    \n",
    "    actualLinks.append(actualLink)\n",
    "    \n",
    "rawLinks = body.find_elements(By.CLASS_NAME, 'pagination-number')\n",
    "\n",
    "for link in rawLinks:\n",
    "    actualLink= link.find_element(By.CSS_SELECTOR,\"a\").get_attribute(\"href\")    \n",
    "    actualLinks.append(actualLink)    \n",
    "\n",
    "shoes=[]\n",
    "\n",
    "for i in range(len(actualLinks)):\n",
    "    if len(shoes) >=100:\n",
    "        break\n",
    "    driver.get(actualLinks[i])\n",
    "    print(actualLinks[i])\n",
    "    products = driver.find_elements(By.CLASS_NAME,'product-base')\n",
    "    for product in products:\n",
    "        data = {\n",
    "            \"Brand\":product.find_element(By.CLASS_NAME, 'product-brand').text,\n",
    "            \"Descriptoin\": product.find_element(By.CLASS_NAME, 'product-product').text,\n",
    "            \"Price\": product.find_element(By.CLASS_NAME, 'product-price').text            \n",
    "        }\n",
    "        \n",
    "        if len(shoes) < 100:            \n",
    "            shoes.append(data)\n",
    "            \n",
    "for name in shoes:\n",
    "    print(name['Brand'],'-',name['Descriptoin'],'-',name['Price'])            "
   ]
  },
  {
   "cell_type": "code",
   "execution_count": null,
   "id": "93075ffb",
   "metadata": {},
   "outputs": [],
   "source": []
  },
  {
   "cell_type": "markdown",
   "id": "7a5e83b3",
   "metadata": {},
   "source": [
    "# Q8: Go to webpage https://www.amazon.in/\n",
    "Enter “Laptop” in the search field and then click the search icon.\n",
    "Then set CPU Type filter to “Intel Core i7” as shown in the below image:"
   ]
  },
  {
   "cell_type": "code",
   "execution_count": 268,
   "id": "47259485",
   "metadata": {},
   "outputs": [],
   "source": [
    "driver.get(\"https://www.amazon.in/\")"
   ]
  },
  {
   "cell_type": "code",
   "execution_count": 270,
   "id": "128368bf",
   "metadata": {},
   "outputs": [],
   "source": [
    "txtbox = driver.find_element(By.XPATH,\"//*[@id='twotabsearchtextbox']\")\n",
    "a = txtbox.send_keys('Laptop')"
   ]
  },
  {
   "cell_type": "code",
   "execution_count": 271,
   "id": "a421d5c5",
   "metadata": {},
   "outputs": [],
   "source": [
    "WebDriverWait(driver, 20).until(EC.element_to_be_clickable((By.XPATH, \"//*[@id='nav-search-submit-button']\"))).click()"
   ]
  },
  {
   "cell_type": "code",
   "execution_count": 272,
   "id": "4471e593",
   "metadata": {},
   "outputs": [],
   "source": [
    "core = driver.find_elements(By.XPATH,\"//*[@id='p_n_feature_thirteen_browse-bin/12598163031']/span/a/div/label/i\")\n",
    "for item in core:\n",
    "    driver.execute_script(\"arguments[0].click();\", item)"
   ]
  },
  {
   "cell_type": "code",
   "execution_count": 278,
   "id": "73e34196",
   "metadata": {},
   "outputs": [
    {
     "name": "stdout",
     "output_type": "stream",
     "text": [
      "Lenovo IdeaPad Slim 5 Intel Core i7 12th Gen 15.6\" (39.62cm) FHD IPS Thin & Light Laptop (16GB/512GB SSD/Windows 11/Office 2021/Backlit/FPR/3months Game Pass/Storm Grey/1.85Kg), 82SF008WIN -  - 82,990\n",
      "Lenovo IdeaPad Slim 5 Intel Core i7 12th Gen 15.6\" (39.62cm) FHD IPS Thin & Light Laptop (16GB/512GB SSD/Windows 11/Office 2021/Backlit/FPR/3months Game Pass/Storm Grey/1.85Kg), 82SF008WIN -  - 82,990\n",
      "Lenovo IdeaPad Slim 5 Intel Core i7 12th Gen 15.6\" (39.62cm) FHD IPS Thin & Light Laptop (16GB/512GB SSD/Windows 11/Office 2021/Backlit/FPR/3months Game Pass/Storm Grey/1.85Kg), 82SF008WIN -  - 82,990\n",
      "Lenovo IdeaPad Slim 5 Intel Core i7 12th Gen 15.6\" (39.62cm) FHD IPS Thin & Light Laptop (16GB/512GB SSD/Windows 11/Office 2021/Backlit/FPR/3months Game Pass/Storm Grey/1.85Kg), 82SF008WIN -  - 82,990\n",
      "Lenovo IdeaPad Slim 5 Intel Core i7 12th Gen 15.6\" (39.62cm) FHD IPS Thin & Light Laptop (16GB/512GB SSD/Windows 11/Office 2021/Backlit/FPR/3months Game Pass/Storm Grey/1.85Kg), 82SF008WIN -  - 82,990\n",
      "Lenovo IdeaPad Slim 5 Intel Core i7 12th Gen 15.6\" (39.62cm) FHD IPS Thin & Light Laptop (16GB/512GB SSD/Windows 11/Office 2021/Backlit/FPR/3months Game Pass/Storm Grey/1.85Kg), 82SF008WIN -  - 82,990\n",
      "Lenovo IdeaPad Slim 5 Intel Core i7 12th Gen 15.6\" (39.62cm) FHD IPS Thin & Light Laptop (16GB/512GB SSD/Windows 11/Office 2021/Backlit/FPR/3months Game Pass/Storm Grey/1.85Kg), 82SF008WIN -  - 82,990\n",
      "Lenovo IdeaPad Slim 5 Intel Core i7 12th Gen 15.6\" (39.62cm) FHD IPS Thin & Light Laptop (16GB/512GB SSD/Windows 11/Office 2021/Backlit/FPR/3months Game Pass/Storm Grey/1.85Kg), 82SF008WIN -  - 82,990\n",
      "Lenovo IdeaPad Slim 5 Intel Core i7 12th Gen 15.6\" (39.62cm) FHD IPS Thin & Light Laptop (16GB/512GB SSD/Windows 11/Office 2021/Backlit/FPR/3months Game Pass/Storm Grey/1.85Kg), 82SF008WIN -  - 82,990\n",
      "Lenovo IdeaPad Slim 5 Intel Core i7 12th Gen 15.6\" (39.62cm) FHD IPS Thin & Light Laptop (16GB/512GB SSD/Windows 11/Office 2021/Backlit/FPR/3months Game Pass/Storm Grey/1.85Kg), 82SF008WIN -  - 82,990\n",
      "Lenovo IdeaPad Slim 5 Intel Core i7 12th Gen 15.6\" (39.62cm) FHD IPS Thin & Light Laptop (16GB/512GB SSD/Windows 11/Office 2021/Backlit/FPR/3months Game Pass/Storm Grey/1.85Kg), 82SF008WIN -  - 82,990\n",
      "Lenovo IdeaPad Slim 5 Intel Core i7 12th Gen 15.6\" (39.62cm) FHD IPS Thin & Light Laptop (16GB/512GB SSD/Windows 11/Office 2021/Backlit/FPR/3months Game Pass/Storm Grey/1.85Kg), 82SF008WIN -  - 82,990\n",
      "Lenovo IdeaPad Slim 5 Intel Core i7 12th Gen 15.6\" (39.62cm) FHD IPS Thin & Light Laptop (16GB/512GB SSD/Windows 11/Office 2021/Backlit/FPR/3months Game Pass/Storm Grey/1.85Kg), 82SF008WIN -  - 82,990\n",
      "Lenovo IdeaPad Slim 5 Intel Core i7 12th Gen 15.6\" (39.62cm) FHD IPS Thin & Light Laptop (16GB/512GB SSD/Windows 11/Office 2021/Backlit/FPR/3months Game Pass/Storm Grey/1.85Kg), 82SF008WIN -  - 82,990\n",
      "Lenovo IdeaPad Slim 5 Intel Core i7 12th Gen 15.6\" (39.62cm) FHD IPS Thin & Light Laptop (16GB/512GB SSD/Windows 11/Office 2021/Backlit/FPR/3months Game Pass/Storm Grey/1.85Kg), 82SF008WIN -  - 82,990\n",
      "Lenovo IdeaPad Slim 5 Intel Core i7 12th Gen 15.6\" (39.62cm) FHD IPS Thin & Light Laptop (16GB/512GB SSD/Windows 11/Office 2021/Backlit/FPR/3months Game Pass/Storm Grey/1.85Kg), 82SF008WIN -  - 82,990\n",
      "Lenovo IdeaPad Slim 5 Intel Core i7 12th Gen 15.6\" (39.62cm) FHD IPS Thin & Light Laptop (16GB/512GB SSD/Windows 11/Office 2021/Backlit/FPR/3months Game Pass/Storm Grey/1.85Kg), 82SF008WIN -  - 82,990\n",
      "Lenovo IdeaPad Slim 5 Intel Core i7 12th Gen 15.6\" (39.62cm) FHD IPS Thin & Light Laptop (16GB/512GB SSD/Windows 11/Office 2021/Backlit/FPR/3months Game Pass/Storm Grey/1.85Kg), 82SF008WIN -  - 82,990\n",
      "Lenovo IdeaPad Slim 5 Intel Core i7 12th Gen 15.6\" (39.62cm) FHD IPS Thin & Light Laptop (16GB/512GB SSD/Windows 11/Office 2021/Backlit/FPR/3months Game Pass/Storm Grey/1.85Kg), 82SF008WIN -  - 82,990\n",
      "Lenovo IdeaPad Slim 5 Intel Core i7 12th Gen 15.6\" (39.62cm) FHD IPS Thin & Light Laptop (16GB/512GB SSD/Windows 11/Office 2021/Backlit/FPR/3months Game Pass/Storm Grey/1.85Kg), 82SF008WIN -  - 82,990\n",
      "Lenovo IdeaPad Slim 5 Intel Core i7 12th Gen 15.6\" (39.62cm) FHD IPS Thin & Light Laptop (16GB/512GB SSD/Windows 11/Office 2021/Backlit/FPR/3months Game Pass/Storm Grey/1.85Kg), 82SF008WIN -  - 82,990\n",
      "Lenovo IdeaPad Slim 5 Intel Core i7 12th Gen 15.6\" (39.62cm) FHD IPS Thin & Light Laptop (16GB/512GB SSD/Windows 11/Office 2021/Backlit/FPR/3months Game Pass/Storm Grey/1.85Kg), 82SF008WIN -  - 82,990\n",
      "Lenovo IdeaPad Slim 5 Intel Core i7 12th Gen 15.6\" (39.62cm) FHD IPS Thin & Light Laptop (16GB/512GB SSD/Windows 11/Office 2021/Backlit/FPR/3months Game Pass/Storm Grey/1.85Kg), 82SF008WIN -  - 82,990\n",
      "Lenovo IdeaPad Slim 5 Intel Core i7 12th Gen 15.6\" (39.62cm) FHD IPS Thin & Light Laptop (16GB/512GB SSD/Windows 11/Office 2021/Backlit/FPR/3months Game Pass/Storm Grey/1.85Kg), 82SF008WIN -  - 82,990\n",
      "Lenovo IdeaPad Slim 5 Intel Core i7 12th Gen 15.6\" (39.62cm) FHD IPS Thin & Light Laptop (16GB/512GB SSD/Windows 11/Office 2021/Backlit/FPR/3months Game Pass/Storm Grey/1.85Kg), 82SF008WIN -  - 82,990\n",
      "Lenovo IdeaPad Slim 5 Intel Core i7 12th Gen 15.6\" (39.62cm) FHD IPS Thin & Light Laptop (16GB/512GB SSD/Windows 11/Office 2021/Backlit/FPR/3months Game Pass/Storm Grey/1.85Kg), 82SF008WIN -  - 82,990\n",
      "Lenovo IdeaPad Slim 5 Intel Core i7 12th Gen 15.6\" (39.62cm) FHD IPS Thin & Light Laptop (16GB/512GB SSD/Windows 11/Office 2021/Backlit/FPR/3months Game Pass/Storm Grey/1.85Kg), 82SF008WIN -  - 82,990\n",
      "Lenovo IdeaPad Slim 5 Intel Core i7 12th Gen 15.6\" (39.62cm) FHD IPS Thin & Light Laptop (16GB/512GB SSD/Windows 11/Office 2021/Backlit/FPR/3months Game Pass/Storm Grey/1.85Kg), 82SF008WIN -  - 82,990\n",
      "Lenovo IdeaPad Slim 5 Intel Core i7 12th Gen 15.6\" (39.62cm) FHD IPS Thin & Light Laptop (16GB/512GB SSD/Windows 11/Office 2021/Backlit/FPR/3months Game Pass/Storm Grey/1.85Kg), 82SF008WIN -  - 82,990\n",
      "Lenovo IdeaPad Slim 5 Intel Core i7 12th Gen 15.6\" (39.62cm) FHD IPS Thin & Light Laptop (16GB/512GB SSD/Windows 11/Office 2021/Backlit/FPR/3months Game Pass/Storm Grey/1.85Kg), 82SF008WIN -  - 82,990\n",
      "Lenovo IdeaPad Slim 5 Intel Core i7 12th Gen 15.6\" (39.62cm) FHD IPS Thin & Light Laptop (16GB/512GB SSD/Windows 11/Office 2021/Backlit/FPR/3months Game Pass/Storm Grey/1.85Kg), 82SF008WIN -  - 82,990\n",
      "Lenovo IdeaPad Slim 5 Intel Core i7 12th Gen 15.6\" (39.62cm) FHD IPS Thin & Light Laptop (16GB/512GB SSD/Windows 11/Office 2021/Backlit/FPR/3months Game Pass/Storm Grey/1.85Kg), 82SF008WIN -  - 82,990\n",
      "Lenovo IdeaPad Slim 5 Intel Core i7 12th Gen 15.6\" (39.62cm) FHD IPS Thin & Light Laptop (16GB/512GB SSD/Windows 11/Office 2021/Backlit/FPR/3months Game Pass/Storm Grey/1.85Kg), 82SF008WIN -  - 82,990\n",
      "Lenovo IdeaPad Slim 5 Intel Core i7 12th Gen 15.6\" (39.62cm) FHD IPS Thin & Light Laptop (16GB/512GB SSD/Windows 11/Office 2021/Backlit/FPR/3months Game Pass/Storm Grey/1.85Kg), 82SF008WIN -  - 82,990\n",
      "Lenovo IdeaPad Slim 5 Intel Core i7 12th Gen 15.6\" (39.62cm) FHD IPS Thin & Light Laptop (16GB/512GB SSD/Windows 11/Office 2021/Backlit/FPR/3months Game Pass/Storm Grey/1.85Kg), 82SF008WIN -  - 82,990\n",
      "Lenovo IdeaPad Slim 5 Intel Core i7 12th Gen 15.6\" (39.62cm) FHD IPS Thin & Light Laptop (16GB/512GB SSD/Windows 11/Office 2021/Backlit/FPR/3months Game Pass/Storm Grey/1.85Kg), 82SF008WIN -  - 82,990\n",
      "Lenovo IdeaPad Slim 5 Intel Core i7 12th Gen 15.6\" (39.62cm) FHD IPS Thin & Light Laptop (16GB/512GB SSD/Windows 11/Office 2021/Backlit/FPR/3months Game Pass/Storm Grey/1.85Kg), 82SF008WIN -  - 82,990\n",
      "Lenovo IdeaPad Slim 5 Intel Core i7 12th Gen 15.6\" (39.62cm) FHD IPS Thin & Light Laptop (16GB/512GB SSD/Windows 11/Office 2021/Backlit/FPR/3months Game Pass/Storm Grey/1.85Kg), 82SF008WIN -  - 82,990\n",
      "Lenovo IdeaPad Slim 5 Intel Core i7 12th Gen 15.6\" (39.62cm) FHD IPS Thin & Light Laptop (16GB/512GB SSD/Windows 11/Office 2021/Backlit/FPR/3months Game Pass/Storm Grey/1.85Kg), 82SF008WIN -  - 82,990\n",
      "Lenovo IdeaPad Slim 5 Intel Core i7 12th Gen 15.6\" (39.62cm) FHD IPS Thin & Light Laptop (16GB/512GB SSD/Windows 11/Office 2021/Backlit/FPR/3months Game Pass/Storm Grey/1.85Kg), 82SF008WIN -  - 82,990\n",
      "Lenovo IdeaPad Slim 5 Intel Core i7 12th Gen 15.6\" (39.62cm) FHD IPS Thin & Light Laptop (16GB/512GB SSD/Windows 11/Office 2021/Backlit/FPR/3months Game Pass/Storm Grey/1.85Kg), 82SF008WIN -  - 82,990\n",
      "Lenovo IdeaPad Slim 5 Intel Core i7 12th Gen 15.6\" (39.62cm) FHD IPS Thin & Light Laptop (16GB/512GB SSD/Windows 11/Office 2021/Backlit/FPR/3months Game Pass/Storm Grey/1.85Kg), 82SF008WIN -  - 82,990\n",
      "Lenovo IdeaPad Slim 5 Intel Core i7 12th Gen 15.6\" (39.62cm) FHD IPS Thin & Light Laptop (16GB/512GB SSD/Windows 11/Office 2021/Backlit/FPR/3months Game Pass/Storm Grey/1.85Kg), 82SF008WIN -  - 82,990\n",
      "Lenovo IdeaPad Slim 5 Intel Core i7 12th Gen 15.6\" (39.62cm) FHD IPS Thin & Light Laptop (16GB/512GB SSD/Windows 11/Office 2021/Backlit/FPR/3months Game Pass/Storm Grey/1.85Kg), 82SF008WIN -  - 82,990\n",
      "Lenovo IdeaPad Slim 5 Intel Core i7 12th Gen 15.6\" (39.62cm) FHD IPS Thin & Light Laptop (16GB/512GB SSD/Windows 11/Office 2021/Backlit/FPR/3months Game Pass/Storm Grey/1.85Kg), 82SF008WIN -  - 82,990\n",
      "Lenovo IdeaPad Slim 5 Intel Core i7 12th Gen 15.6\" (39.62cm) FHD IPS Thin & Light Laptop (16GB/512GB SSD/Windows 11/Office 2021/Backlit/FPR/3months Game Pass/Storm Grey/1.85Kg), 82SF008WIN -  - 82,990\n",
      "Lenovo IdeaPad Slim 5 Intel Core i7 12th Gen 15.6\" (39.62cm) FHD IPS Thin & Light Laptop (16GB/512GB SSD/Windows 11/Office 2021/Backlit/FPR/3months Game Pass/Storm Grey/1.85Kg), 82SF008WIN -  - 82,990\n",
      "Lenovo IdeaPad Slim 5 Intel Core i7 12th Gen 15.6\" (39.62cm) FHD IPS Thin & Light Laptop (16GB/512GB SSD/Windows 11/Office 2021/Backlit/FPR/3months Game Pass/Storm Grey/1.85Kg), 82SF008WIN -  - 82,990\n",
      "Lenovo IdeaPad Slim 5 Intel Core i7 12th Gen 15.6\" (39.62cm) FHD IPS Thin & Light Laptop (16GB/512GB SSD/Windows 11/Office 2021/Backlit/FPR/3months Game Pass/Storm Grey/1.85Kg), 82SF008WIN -  - 82,990\n",
      "Lenovo IdeaPad Slim 5 Intel Core i7 12th Gen 15.6\" (39.62cm) FHD IPS Thin & Light Laptop (16GB/512GB SSD/Windows 11/Office 2021/Backlit/FPR/3months Game Pass/Storm Grey/1.85Kg), 82SF008WIN -  - 82,990\n",
      "Lenovo IdeaPad Slim 5 Intel Core i7 12th Gen 15.6\" (39.62cm) FHD IPS Thin & Light Laptop (16GB/512GB SSD/Windows 11/Office 2021/Backlit/FPR/3months Game Pass/Storm Grey/1.85Kg), 82SF008WIN -  - 82,990\n",
      "Lenovo IdeaPad Slim 5 Intel Core i7 12th Gen 15.6\" (39.62cm) FHD IPS Thin & Light Laptop (16GB/512GB SSD/Windows 11/Office 2021/Backlit/FPR/3months Game Pass/Storm Grey/1.85Kg), 82SF008WIN -  - 82,990\n",
      "Lenovo IdeaPad Slim 5 Intel Core i7 12th Gen 15.6\" (39.62cm) FHD IPS Thin & Light Laptop (16GB/512GB SSD/Windows 11/Office 2021/Backlit/FPR/3months Game Pass/Storm Grey/1.85Kg), 82SF008WIN -  - 82,990\n",
      "Lenovo IdeaPad Slim 5 Intel Core i7 12th Gen 15.6\" (39.62cm) FHD IPS Thin & Light Laptop (16GB/512GB SSD/Windows 11/Office 2021/Backlit/FPR/3months Game Pass/Storm Grey/1.85Kg), 82SF008WIN -  - 82,990\n"
     ]
    }
   ],
   "source": [
    "data = driver.find_elements(By.XPATH,\"//*[@id='search']/div[1]/div[1]/div/span[3]/div[2]\")\n",
    "\n",
    "laptop=[]\n",
    "for row in data[0:10]:\n",
    "    products = driver.find_elements(By.CLASS_NAME,'sg-row')\n",
    "    for product in products:\n",
    "        data = {\n",
    "            \"Title\":driver.find_element(By.CLASS_NAME, 'a-size-mini.a-spacing-none').text,\n",
    "            \"Ratings\": driver.find_element(By.CLASS_NAME, 'a-icon-alt').text,\n",
    "            \"Price\": driver.find_element(By.CLASS_NAME, 'a-price-whole').text            \n",
    "        }\n",
    "        laptop.append(data)\n",
    "        \n",
    "for name in laptop:\n",
    "    print(name['Title'],'-',name['Ratings'],'-',name['Price'])        "
   ]
  },
  {
   "cell_type": "code",
   "execution_count": null,
   "id": "b5980371",
   "metadata": {},
   "outputs": [],
   "source": []
  },
  {
   "cell_type": "markdown",
   "id": "00af405e",
   "metadata": {},
   "source": [
    "# Q9: Write a python program to scrape data for first 10 job results for Data Scientist Designation in Noida \n",
    "location. You have to scrape company name, No. of days ago when job was posted, Rating of the company. \n",
    "This task will be done in following steps:\n",
    "1. First get the webpage https://www.ambitionbox.com/\n",
    "2. Click on the Job option as shown in the image\n",
    "3. After reaching to the next webpage, In place of “Search by Designations, Companies, Skills” enter\n",
    "“Data Scientist” and click on search button.\n",
    "ASSIGNMENT 2\n",
    "4. You will reach to the following web page click on location and in place of “Search location” enter\n",
    "“Noida” and select location “Noida”.\n",
    "5. Then scrape the data for the first 10 jobs results you get on the above shown page.\n",
    "6. Finally create a dataframe of the scraped data."
   ]
  },
  {
   "cell_type": "code",
   "execution_count": 279,
   "id": "e4e74b7f",
   "metadata": {},
   "outputs": [],
   "source": [
    "driver.get(\"https://www.ambitionbox.com/\")"
   ]
  },
  {
   "cell_type": "code",
   "execution_count": 280,
   "id": "9c746106",
   "metadata": {},
   "outputs": [],
   "source": [
    "WebDriverWait(driver, 20).until(EC.element_to_be_clickable((By.XPATH, \"//*[@id='ambitionbox-header']/nav/ul/li[5]/a\"))).click()"
   ]
  },
  {
   "cell_type": "code",
   "execution_count": 281,
   "id": "4bfee98b",
   "metadata": {},
   "outputs": [],
   "source": [
    "txtbox = driver.find_element(By.XPATH,\"//*[@id='jobs-typeahead']/span/input\")\n",
    "a = txtbox.send_keys('Data Scientist')"
   ]
  },
  {
   "cell_type": "code",
   "execution_count": 282,
   "id": "1a87486e",
   "metadata": {},
   "outputs": [],
   "source": [
    "WebDriverWait(driver, 20).until(EC.element_to_be_clickable((By.XPATH, \"//*[@id='jobs']/div[2]/div[1]/div[1]/div/div/div/button/span\"))).click()"
   ]
  },
  {
   "cell_type": "code",
   "execution_count": 283,
   "id": "c65ee5f7",
   "metadata": {},
   "outputs": [],
   "source": [
    "WebDriverWait(driver, 20).until(EC.element_to_be_clickable((By.XPATH, \"//*[@id='filters-row']/div/div/div[2]/div[1]/i\"))).click()"
   ]
  },
  {
   "cell_type": "code",
   "execution_count": 284,
   "id": "8738d34a",
   "metadata": {},
   "outputs": [],
   "source": [
    "location = driver.find_elements(By.XPATH,\"//*[@id='filters-row']/div/div/div[2]/div[2]/div/div[3]/div[1]/div[8]/div/label\")\n",
    "for item in location:\n",
    "    driver.execute_script(\"arguments[0].click();\", item)"
   ]
  },
  {
   "cell_type": "code",
   "execution_count": 294,
   "id": "d943e459",
   "metadata": {},
   "outputs": [
    {
     "name": "stdout",
     "output_type": "stream",
     "text": [
      "Optum Global Solutions (India) Private Limited 2-7 Yrs 4.1\n",
      "BARCLAYS GLOBAL SERVICE CENTRE PRIVATE LIMITED 2-7 Yrs 4.3\n",
      "EY GDS 10-20 Yrs 3.8\n",
      "GLOBALLOGIC INDIA PRIVATE LIMITED 8-10 Yrs 4.0\n",
      "GENPACT India Private Limited 7-12 Yrs 4.0\n",
      "Genpact 6-10 Yrs 4.0\n",
      "Ericsson India Global Services Pvt. Ltd. 4-12 Yrs 4.3\n",
      "Dew Solutions Pvt. Ltd. 3-8 Yrs 4.3\n",
      "One97 Communications Limited 1-2 Yrs 3.8\n",
      "EY 3-8 Yrs 3.8\n"
     ]
    }
   ],
   "source": [
    "data = driver.find_elements(By.XPATH,\"//*[@id='jobsList']/div[2]/div[2]/div\")\n",
    "\n",
    "jobs=[]\n",
    "for row in data:\n",
    "    products = driver.find_elements(By.CLASS_NAME,'jobInfoCard')\n",
    "    for product in products:\n",
    "        data = {\n",
    "            \"Title\":product.find_element(By.CLASS_NAME, 'company.body-medium').text,\n",
    "            \"Time\":product.find_element(By.CLASS_NAME, 'body-small-l').text,\n",
    "            \"Ratings\":product.find_element(By.CLASS_NAME, 'body-small').text\n",
    "        }\n",
    "        jobs.append(data)\n",
    "        \n",
    "for name in jobs:\n",
    "    print(name['Title'],name['Time'],name['Ratings'])        "
   ]
  },
  {
   "cell_type": "code",
   "execution_count": 295,
   "id": "e370e727",
   "metadata": {},
   "outputs": [
    {
     "data": {
      "text/html": [
       "<div>\n",
       "<style scoped>\n",
       "    .dataframe tbody tr th:only-of-type {\n",
       "        vertical-align: middle;\n",
       "    }\n",
       "\n",
       "    .dataframe tbody tr th {\n",
       "        vertical-align: top;\n",
       "    }\n",
       "\n",
       "    .dataframe thead th {\n",
       "        text-align: right;\n",
       "    }\n",
       "</style>\n",
       "<table border=\"1\" class=\"dataframe\">\n",
       "  <thead>\n",
       "    <tr style=\"text-align: right;\">\n",
       "      <th></th>\n",
       "      <th>Title</th>\n",
       "      <th>Time</th>\n",
       "      <th>Ratings</th>\n",
       "    </tr>\n",
       "  </thead>\n",
       "  <tbody>\n",
       "    <tr>\n",
       "      <th>0</th>\n",
       "      <td>Optum Global Solutions (India) Private Limited</td>\n",
       "      <td>2-7 Yrs</td>\n",
       "      <td>4.1</td>\n",
       "    </tr>\n",
       "    <tr>\n",
       "      <th>1</th>\n",
       "      <td>BARCLAYS GLOBAL SERVICE CENTRE PRIVATE LIMITED</td>\n",
       "      <td>2-7 Yrs</td>\n",
       "      <td>4.3</td>\n",
       "    </tr>\n",
       "    <tr>\n",
       "      <th>2</th>\n",
       "      <td>EY GDS</td>\n",
       "      <td>10-20 Yrs</td>\n",
       "      <td>3.8</td>\n",
       "    </tr>\n",
       "    <tr>\n",
       "      <th>3</th>\n",
       "      <td>GLOBALLOGIC INDIA PRIVATE LIMITED</td>\n",
       "      <td>8-10 Yrs</td>\n",
       "      <td>4.0</td>\n",
       "    </tr>\n",
       "    <tr>\n",
       "      <th>4</th>\n",
       "      <td>GENPACT India Private Limited</td>\n",
       "      <td>7-12 Yrs</td>\n",
       "      <td>4.0</td>\n",
       "    </tr>\n",
       "    <tr>\n",
       "      <th>5</th>\n",
       "      <td>Genpact</td>\n",
       "      <td>6-10 Yrs</td>\n",
       "      <td>4.0</td>\n",
       "    </tr>\n",
       "    <tr>\n",
       "      <th>6</th>\n",
       "      <td>Ericsson India Global Services Pvt. Ltd.</td>\n",
       "      <td>4-12 Yrs</td>\n",
       "      <td>4.3</td>\n",
       "    </tr>\n",
       "    <tr>\n",
       "      <th>7</th>\n",
       "      <td>Dew Solutions Pvt. Ltd.</td>\n",
       "      <td>3-8 Yrs</td>\n",
       "      <td>4.3</td>\n",
       "    </tr>\n",
       "    <tr>\n",
       "      <th>8</th>\n",
       "      <td>One97 Communications Limited</td>\n",
       "      <td>1-2 Yrs</td>\n",
       "      <td>3.8</td>\n",
       "    </tr>\n",
       "    <tr>\n",
       "      <th>9</th>\n",
       "      <td>EY</td>\n",
       "      <td>3-8 Yrs</td>\n",
       "      <td>3.8</td>\n",
       "    </tr>\n",
       "  </tbody>\n",
       "</table>\n",
       "</div>"
      ],
      "text/plain": [
       "                                            Title       Time Ratings\n",
       "0  Optum Global Solutions (India) Private Limited    2-7 Yrs     4.1\n",
       "1  BARCLAYS GLOBAL SERVICE CENTRE PRIVATE LIMITED    2-7 Yrs     4.3\n",
       "2                                          EY GDS  10-20 Yrs     3.8\n",
       "3               GLOBALLOGIC INDIA PRIVATE LIMITED   8-10 Yrs     4.0\n",
       "4                   GENPACT India Private Limited   7-12 Yrs     4.0\n",
       "5                                         Genpact   6-10 Yrs     4.0\n",
       "6        Ericsson India Global Services Pvt. Ltd.   4-12 Yrs     4.3\n",
       "7                         Dew Solutions Pvt. Ltd.    3-8 Yrs     4.3\n",
       "8                    One97 Communications Limited    1-2 Yrs     3.8\n",
       "9                                              EY    3-8 Yrs     3.8"
      ]
     },
     "execution_count": 295,
     "metadata": {},
     "output_type": "execute_result"
    }
   ],
   "source": [
    "df=pd.DataFrame(jobs)\n",
    "df"
   ]
  },
  {
   "cell_type": "code",
   "execution_count": null,
   "id": "fd6eb405",
   "metadata": {},
   "outputs": [],
   "source": []
  },
  {
   "cell_type": "markdown",
   "id": "8ab6cf24",
   "metadata": {},
   "source": [
    "# Q10: Write a python program to scrape the salary data for Data Scientist designation.\n",
    "You have to scrape Company name, Number of salaries, Average salary, Minsalary, Max Salary. \n",
    "The above task will be, done as shown in the below steps:\n",
    "1. First get the webpage https://www.ambitionbox.com/\n",
    "2. Click on the salaries option as shown in the image.\n",
    "3. After reaching to the following webpage, In place of “Search Job Profile” enters “Data Scientist” and \n",
    "then click on “Data Scientist”.\n",
    "4. Scrape the data for the first 10 companies. Scrape the company name, total salary record, average \n",
    "salary, minimum salary, maximum salary, experience required.\n",
    "5. Store the data in a dataframe."
   ]
  },
  {
   "cell_type": "code",
   "execution_count": 304,
   "id": "db04c9b1",
   "metadata": {},
   "outputs": [],
   "source": [
    "driver.get(\"https://www.ambitionbox.com/\")"
   ]
  },
  {
   "cell_type": "code",
   "execution_count": 308,
   "id": "ffdd33cc",
   "metadata": {},
   "outputs": [],
   "source": [
    "WebDriverWait(driver, 20).until(EC.element_to_be_clickable((By.XPATH, \"//*[@id='ambitionbox-header']/nav/ul/li[3]/div/ul/li[1]/div/div[2]/a\"))).click()"
   ]
  },
  {
   "cell_type": "code",
   "execution_count": 312,
   "id": "f8a08ce0",
   "metadata": {},
   "outputs": [],
   "source": [
    "txtbox = driver.find_element(By.XPATH,\"//*[@id='jobProfileSearchbox']\")\n",
    "a = txtbox.send_keys('Data Scientist')"
   ]
  },
  {
   "cell_type": "code",
   "execution_count": 313,
   "id": "d8fe0b0b",
   "metadata": {},
   "outputs": [],
   "source": [
    "WebDriverWait(driver, 20).until(EC.element_to_be_clickable((By.XPATH, \"//*[@id='jobProfileSearchbox']\"))).click()"
   ]
  },
  {
   "cell_type": "code",
   "execution_count": 315,
   "id": "2a37f061",
   "metadata": {},
   "outputs": [
    {
     "name": "stdout",
     "output_type": "stream",
     "text": [
      "Google\n",
      "Software Engineer Salary\n",
      "1-4 yrs experience (based on 58 salaries) (based on 58 salaries) ₹ 35.5L ₹ 12.7L ₹ 12.7L 1-4 yrs experience (based on 58 salaries)\n",
      "Microsoft Corporation\n",
      "Software Engineer Salary\n",
      "1-4 yrs experience (based on 338 salaries) (based on 338 salaries) ₹ 23.8L ₹ 13.2L ₹ 13.2L 1-4 yrs experience (based on 338 salaries)\n",
      "Goldman Sachs\n",
      "Software Engineer Salary\n",
      "1-2 yrs experience (based on 36 salaries) (based on 36 salaries) ₹ 22.9L ₹ 12.0L ₹ 12.0L 1-2 yrs experience (based on 36 salaries)\n",
      "Arista Networks\n",
      "Software Engineer Salary\n",
      "1-4 yrs experience (based on 51 salaries) (based on 51 salaries) ₹ 22.3L ₹ 5.0L ₹ 5.0L 1-4 yrs experience (based on 51 salaries)\n",
      "Tekion\n",
      "Software Engineer Salary\n",
      "2-4 yrs experience (based on 50 salaries) (based on 50 salaries) ₹ 21.9L ₹ 11.7L ₹ 11.7L 2-4 yrs experience (based on 50 salaries)\n",
      "Amazon\n",
      "Software Engineer Salary\n",
      "1-4 yrs experience (based on 140 salaries) (based on 140 salaries) ₹ 21.2L ₹ 8.7L ₹ 8.7L 1-4 yrs experience (based on 140 salaries)\n",
      "Servicenow Software Development India\n",
      "Software Engineer Salary\n",
      "2-4 yrs experience (based on 79 salaries) (based on 79 salaries) ₹ 21.1L ₹ 14.0L ₹ 14.0L 2-4 yrs experience (based on 79 salaries)\n",
      "Walmart\n",
      "Software Engineer Salary\n",
      "1-4 yrs experience (based on 110 salaries) (based on 110 salaries) ₹ 20.2L ₹ 12.0L ₹ 12.0L 1-4 yrs experience (based on 110 salaries)\n",
      "PayPal\n",
      "Software Engineer Salary\n",
      "1-2 yrs experience (based on 29 salaries) (based on 29 salaries) ₹ 19.6L ₹ 12.0L ₹ 12.0L 1-2 yrs experience (based on 29 salaries)\n",
      "Arcesium\n",
      "Software Engineer Salary\n",
      "1-2 yrs experience (based on 69 salaries) (based on 69 salaries) ₹ 19.5L ₹ 12.0L ₹ 12.0L 1-2 yrs experience (based on 69 salaries)\n"
     ]
    }
   ],
   "source": [
    "data = driver.find_elements(By.XPATH,\"//*[@id='sal-table']/div[2]\")\n",
    "\n",
    "jobs=[]\n",
    "for row in data:\n",
    "    products = driver.find_elements(By.CLASS_NAME,'result-row')\n",
    "    for product in products:\n",
    "        data = {\n",
    "            \"CompanyName\":product.find_element(By.CLASS_NAME, 'company-info').text,\n",
    "            \"Salary\":product.find_element(By.CLASS_NAME, 'datapoints').text,\n",
    "            \"Average\":product.find_element(By.CLASS_NAME, 'averageCtc').text,\n",
    "            \"Minimum\":product.find_element(By.CLASS_NAME, 'value.body-medium').text,\n",
    "            \"Maximum\":product.find_element(By.CLASS_NAME, 'value.body-medium').text,\n",
    "            \"Experience\":product.find_element(By.CLASS_NAME, 'sbold-list-header').text,\n",
    "        }\n",
    "        jobs.append(data)\n",
    "        \n",
    "for name in jobs:\n",
    "    print(name['CompanyName'],name['Salary'],name['Average'],name['Minimum'],name['Maximum'],name['Experience'])  "
   ]
  },
  {
   "cell_type": "code",
   "execution_count": 316,
   "id": "f6e3afdd",
   "metadata": {},
   "outputs": [
    {
     "data": {
      "text/html": [
       "<div>\n",
       "<style scoped>\n",
       "    .dataframe tbody tr th:only-of-type {\n",
       "        vertical-align: middle;\n",
       "    }\n",
       "\n",
       "    .dataframe tbody tr th {\n",
       "        vertical-align: top;\n",
       "    }\n",
       "\n",
       "    .dataframe thead th {\n",
       "        text-align: right;\n",
       "    }\n",
       "</style>\n",
       "<table border=\"1\" class=\"dataframe\">\n",
       "  <thead>\n",
       "    <tr style=\"text-align: right;\">\n",
       "      <th></th>\n",
       "      <th>CompanyName</th>\n",
       "      <th>Salary</th>\n",
       "      <th>Average</th>\n",
       "      <th>Minimum</th>\n",
       "      <th>Maximum</th>\n",
       "      <th>Experience</th>\n",
       "    </tr>\n",
       "  </thead>\n",
       "  <tbody>\n",
       "    <tr>\n",
       "      <th>0</th>\n",
       "      <td>Google\\nSoftware Engineer Salary\\n1-4 yrs expe...</td>\n",
       "      <td>(based on 58 salaries)</td>\n",
       "      <td>₹ 35.5L</td>\n",
       "      <td>₹ 12.7L</td>\n",
       "      <td>₹ 12.7L</td>\n",
       "      <td>1-4 yrs experience (based on 58 salaries)</td>\n",
       "    </tr>\n",
       "    <tr>\n",
       "      <th>1</th>\n",
       "      <td>Microsoft Corporation\\nSoftware Engineer Salar...</td>\n",
       "      <td>(based on 338 salaries)</td>\n",
       "      <td>₹ 23.8L</td>\n",
       "      <td>₹ 13.2L</td>\n",
       "      <td>₹ 13.2L</td>\n",
       "      <td>1-4 yrs experience (based on 338 salaries)</td>\n",
       "    </tr>\n",
       "    <tr>\n",
       "      <th>2</th>\n",
       "      <td>Goldman Sachs\\nSoftware Engineer Salary\\n1-2 y...</td>\n",
       "      <td>(based on 36 salaries)</td>\n",
       "      <td>₹ 22.9L</td>\n",
       "      <td>₹ 12.0L</td>\n",
       "      <td>₹ 12.0L</td>\n",
       "      <td>1-2 yrs experience (based on 36 salaries)</td>\n",
       "    </tr>\n",
       "    <tr>\n",
       "      <th>3</th>\n",
       "      <td>Arista Networks\\nSoftware Engineer Salary\\n1-4...</td>\n",
       "      <td>(based on 51 salaries)</td>\n",
       "      <td>₹ 22.3L</td>\n",
       "      <td>₹ 5.0L</td>\n",
       "      <td>₹ 5.0L</td>\n",
       "      <td>1-4 yrs experience (based on 51 salaries)</td>\n",
       "    </tr>\n",
       "    <tr>\n",
       "      <th>4</th>\n",
       "      <td>Tekion\\nSoftware Engineer Salary\\n2-4 yrs expe...</td>\n",
       "      <td>(based on 50 salaries)</td>\n",
       "      <td>₹ 21.9L</td>\n",
       "      <td>₹ 11.7L</td>\n",
       "      <td>₹ 11.7L</td>\n",
       "      <td>2-4 yrs experience (based on 50 salaries)</td>\n",
       "    </tr>\n",
       "    <tr>\n",
       "      <th>5</th>\n",
       "      <td>Amazon\\nSoftware Engineer Salary\\n1-4 yrs expe...</td>\n",
       "      <td>(based on 140 salaries)</td>\n",
       "      <td>₹ 21.2L</td>\n",
       "      <td>₹ 8.7L</td>\n",
       "      <td>₹ 8.7L</td>\n",
       "      <td>1-4 yrs experience (based on 140 salaries)</td>\n",
       "    </tr>\n",
       "    <tr>\n",
       "      <th>6</th>\n",
       "      <td>Servicenow Software Development India\\nSoftwar...</td>\n",
       "      <td>(based on 79 salaries)</td>\n",
       "      <td>₹ 21.1L</td>\n",
       "      <td>₹ 14.0L</td>\n",
       "      <td>₹ 14.0L</td>\n",
       "      <td>2-4 yrs experience (based on 79 salaries)</td>\n",
       "    </tr>\n",
       "    <tr>\n",
       "      <th>7</th>\n",
       "      <td>Walmart\\nSoftware Engineer Salary\\n1-4 yrs exp...</td>\n",
       "      <td>(based on 110 salaries)</td>\n",
       "      <td>₹ 20.2L</td>\n",
       "      <td>₹ 12.0L</td>\n",
       "      <td>₹ 12.0L</td>\n",
       "      <td>1-4 yrs experience (based on 110 salaries)</td>\n",
       "    </tr>\n",
       "    <tr>\n",
       "      <th>8</th>\n",
       "      <td>PayPal\\nSoftware Engineer Salary\\n1-2 yrs expe...</td>\n",
       "      <td>(based on 29 salaries)</td>\n",
       "      <td>₹ 19.6L</td>\n",
       "      <td>₹ 12.0L</td>\n",
       "      <td>₹ 12.0L</td>\n",
       "      <td>1-2 yrs experience (based on 29 salaries)</td>\n",
       "    </tr>\n",
       "    <tr>\n",
       "      <th>9</th>\n",
       "      <td>Arcesium\\nSoftware Engineer Salary\\n1-2 yrs ex...</td>\n",
       "      <td>(based on 69 salaries)</td>\n",
       "      <td>₹ 19.5L</td>\n",
       "      <td>₹ 12.0L</td>\n",
       "      <td>₹ 12.0L</td>\n",
       "      <td>1-2 yrs experience (based on 69 salaries)</td>\n",
       "    </tr>\n",
       "  </tbody>\n",
       "</table>\n",
       "</div>"
      ],
      "text/plain": [
       "                                         CompanyName                   Salary  \\\n",
       "0  Google\\nSoftware Engineer Salary\\n1-4 yrs expe...   (based on 58 salaries)   \n",
       "1  Microsoft Corporation\\nSoftware Engineer Salar...  (based on 338 salaries)   \n",
       "2  Goldman Sachs\\nSoftware Engineer Salary\\n1-2 y...   (based on 36 salaries)   \n",
       "3  Arista Networks\\nSoftware Engineer Salary\\n1-4...   (based on 51 salaries)   \n",
       "4  Tekion\\nSoftware Engineer Salary\\n2-4 yrs expe...   (based on 50 salaries)   \n",
       "5  Amazon\\nSoftware Engineer Salary\\n1-4 yrs expe...  (based on 140 salaries)   \n",
       "6  Servicenow Software Development India\\nSoftwar...   (based on 79 salaries)   \n",
       "7  Walmart\\nSoftware Engineer Salary\\n1-4 yrs exp...  (based on 110 salaries)   \n",
       "8  PayPal\\nSoftware Engineer Salary\\n1-2 yrs expe...   (based on 29 salaries)   \n",
       "9  Arcesium\\nSoftware Engineer Salary\\n1-2 yrs ex...   (based on 69 salaries)   \n",
       "\n",
       "   Average  Minimum  Maximum                                  Experience  \n",
       "0  ₹ 35.5L  ₹ 12.7L  ₹ 12.7L   1-4 yrs experience (based on 58 salaries)  \n",
       "1  ₹ 23.8L  ₹ 13.2L  ₹ 13.2L  1-4 yrs experience (based on 338 salaries)  \n",
       "2  ₹ 22.9L  ₹ 12.0L  ₹ 12.0L   1-2 yrs experience (based on 36 salaries)  \n",
       "3  ₹ 22.3L   ₹ 5.0L   ₹ 5.0L   1-4 yrs experience (based on 51 salaries)  \n",
       "4  ₹ 21.9L  ₹ 11.7L  ₹ 11.7L   2-4 yrs experience (based on 50 salaries)  \n",
       "5  ₹ 21.2L   ₹ 8.7L   ₹ 8.7L  1-4 yrs experience (based on 140 salaries)  \n",
       "6  ₹ 21.1L  ₹ 14.0L  ₹ 14.0L   2-4 yrs experience (based on 79 salaries)  \n",
       "7  ₹ 20.2L  ₹ 12.0L  ₹ 12.0L  1-4 yrs experience (based on 110 salaries)  \n",
       "8  ₹ 19.6L  ₹ 12.0L  ₹ 12.0L   1-2 yrs experience (based on 29 salaries)  \n",
       "9  ₹ 19.5L  ₹ 12.0L  ₹ 12.0L   1-2 yrs experience (based on 69 salaries)  "
      ]
     },
     "execution_count": 316,
     "metadata": {},
     "output_type": "execute_result"
    }
   ],
   "source": [
    "df=pd.DataFrame(jobs)\n",
    "df"
   ]
  },
  {
   "cell_type": "code",
   "execution_count": null,
   "id": "085da0e8",
   "metadata": {},
   "outputs": [],
   "source": []
  }
 ],
 "metadata": {
  "kernelspec": {
   "display_name": "Python 3 (ipykernel)",
   "language": "python",
   "name": "python3"
  },
  "language_info": {
   "codemirror_mode": {
    "name": "ipython",
    "version": 3
   },
   "file_extension": ".py",
   "mimetype": "text/x-python",
   "name": "python",
   "nbconvert_exporter": "python",
   "pygments_lexer": "ipython3",
   "version": "3.9.7"
  }
 },
 "nbformat": 4,
 "nbformat_minor": 5
}
