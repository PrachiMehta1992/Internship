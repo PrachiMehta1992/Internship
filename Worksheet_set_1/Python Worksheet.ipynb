{
 "cells": [
  {
   "cell_type": "code",
   "execution_count": 3,
   "id": "e3216da1",
   "metadata": {},
   "outputs": [],
   "source": [
    "#11. Write a python program to find the factorial of a number."
   ]
  },
  {
   "cell_type": "code",
   "execution_count": 10,
   "id": "498b2cee",
   "metadata": {},
   "outputs": [],
   "source": [
    "def factorial(n):\n",
    "    return 1 if (n==0 or n==1) else n*factorial(n-1);"
   ]
  },
  {
   "cell_type": "code",
   "execution_count": 11,
   "id": "9a7b097f",
   "metadata": {},
   "outputs": [
    {
     "name": "stdout",
     "output_type": "stream",
     "text": [
      "Enter any number:4\n",
      "Factorial of 4 is 24\n"
     ]
    }
   ],
   "source": [
    "num= int(input(\"Enter any number:\"))\n",
    "print('Factorial of',num,'is',factorial(num))"
   ]
  },
  {
   "cell_type": "code",
   "execution_count": 6,
   "id": "d30d5c24",
   "metadata": {},
   "outputs": [],
   "source": [
    "#12. Write a python program to find whether a number is prime or composite."
   ]
  },
  {
   "cell_type": "code",
   "execution_count": 16,
   "id": "87274aba",
   "metadata": {},
   "outputs": [
    {
     "name": "stdout",
     "output_type": "stream",
     "text": [
      "Enter any number:4\n",
      "4 is not Prime but Composite\n"
     ]
    }
   ],
   "source": [
    "n=int(input(\"Enter any number:\"))\n",
    "if(n==0 or n==1):\n",
    "    print(n,\"Number is neither Prime nor Composite\")\n",
    "elif n>1:\n",
    "    for i in range(2,n):\n",
    "        if(n%i==0):\n",
    "            print(n,\"is not Prime but Composite\")\n",
    "            break\n",
    "    else:\n",
    "        print(n,\"is Prime but not Composite\")\n",
    "else:\n",
    "    print(\"Please enter Positive number only\")"
   ]
  },
  {
   "cell_type": "code",
   "execution_count": 17,
   "id": "e8daf2da",
   "metadata": {},
   "outputs": [],
   "source": [
    "#13. Write a python program to check whether a given string is palindrome or not."
   ]
  },
  {
   "cell_type": "code",
   "execution_count": 22,
   "id": "50be53d4",
   "metadata": {},
   "outputs": [
    {
     "name": "stdout",
     "output_type": "stream",
     "text": [
      "Enter any String :malayalam\n",
      "Yes\n"
     ]
    }
   ],
   "source": [
    "def ispalindrome(s):\n",
    "    return s==s[::-1]\n",
    "s=input(\"Enter any String :\")\n",
    "ans=ispalindrome(s)\n",
    "if ans:\n",
    "    print(\"Yes\")\n",
    "else:\n",
    "    print(\"No\")"
   ]
  },
  {
   "cell_type": "code",
   "execution_count": 23,
   "id": "f9f9df73",
   "metadata": {},
   "outputs": [],
   "source": [
    "#14. Write a Python program to get the third side of right-angled triangle from two given sides."
   ]
  },
  {
   "cell_type": "code",
   "execution_count": 29,
   "id": "d2efb71a",
   "metadata": {},
   "outputs": [
    {
     "name": "stdout",
     "output_type": "stream",
     "text": [
      "Enter Side1: 5\n",
      "Enter Side2: 6\n",
      "Hypotenuse = 7.810249675906654\n"
     ]
    }
   ],
   "source": [
    "import math\n",
    "\n",
    "a = float(input(\"Enter Side1: \"))\n",
    "b = float(input(\"Enter Side2: \"))\n",
    "\n",
    "c = math.sqrt(a ** 2 + b ** 2)\n",
    "\n",
    "print(\"Hypotenuse =\", c)"
   ]
  },
  {
   "cell_type": "code",
   "execution_count": 30,
   "id": "7ddbef9d",
   "metadata": {},
   "outputs": [],
   "source": [
    "#15. Write a python program to print the frequency of each of the characters present in a given string."
   ]
  },
  {
   "cell_type": "code",
   "execution_count": 34,
   "id": "d1f79c0a",
   "metadata": {},
   "outputs": [
    {
     "name": "stdout",
     "output_type": "stream",
     "text": [
      "Enter any String :abbbaaa\n",
      "Count of all characters in abbbaaaCounter({'a': 4, 'b': 3})\n"
     ]
    }
   ],
   "source": [
    "from collections import Counter\n",
    "string=input(\"Enter any String :\")\n",
    "res=Counter(string)\n",
    "print(\"Count of all characters in\", string + str(res))"
   ]
  },
  {
   "cell_type": "code",
   "execution_count": null,
   "id": "7b3afbe8",
   "metadata": {},
   "outputs": [],
   "source": []
  }
 ],
 "metadata": {
  "kernelspec": {
   "display_name": "Python 3 (ipykernel)",
   "language": "python",
   "name": "python3"
  },
  "language_info": {
   "codemirror_mode": {
    "name": "ipython",
    "version": 3
   },
   "file_extension": ".py",
   "mimetype": "text/x-python",
   "name": "python",
   "nbconvert_exporter": "python",
   "pygments_lexer": "ipython3",
   "version": "3.9.7"
  }
 },
 "nbformat": 4,
 "nbformat_minor": 5
}
