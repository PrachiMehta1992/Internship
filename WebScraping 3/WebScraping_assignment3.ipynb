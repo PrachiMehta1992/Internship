{
 "cells": [
  {
   "cell_type": "code",
   "execution_count": 1,
   "id": "3ee0d87f",
   "metadata": {},
   "outputs": [
    {
     "name": "stdout",
     "output_type": "stream",
     "text": [
      "Requirement already satisfied: selenium in c:\\users\\prachi\\anaconda3\\lib\\site-packages (4.4.3)\n",
      "Requirement already satisfied: trio~=0.17 in c:\\users\\prachi\\anaconda3\\lib\\site-packages (from selenium) (0.21.0)\n",
      "Requirement already satisfied: certifi>=2021.10.8 in c:\\users\\prachi\\anaconda3\\lib\\site-packages (from selenium) (2021.10.8)\n",
      "Requirement already satisfied: urllib3[socks]~=1.26 in c:\\users\\prachi\\anaconda3\\lib\\site-packages (from selenium) (1.26.7)\n",
      "Requirement already satisfied: trio-websocket~=0.9 in c:\\users\\prachi\\anaconda3\\lib\\site-packages (from selenium) (0.9.2)\n",
      "Requirement already satisfied: outcome in c:\\users\\prachi\\anaconda3\\lib\\site-packages (from trio~=0.17->selenium) (1.2.0)\n",
      "Requirement already satisfied: sniffio in c:\\users\\prachi\\anaconda3\\lib\\site-packages (from trio~=0.17->selenium) (1.2.0)\n",
      "Requirement already satisfied: sortedcontainers in c:\\users\\prachi\\anaconda3\\lib\\site-packages (from trio~=0.17->selenium) (2.4.0)\n",
      "Requirement already satisfied: idna in c:\\users\\prachi\\anaconda3\\lib\\site-packages (from trio~=0.17->selenium) (3.2)\n",
      "Requirement already satisfied: cffi>=1.14 in c:\\users\\prachi\\anaconda3\\lib\\site-packages (from trio~=0.17->selenium) (1.14.6)\n",
      "Requirement already satisfied: async-generator>=1.9 in c:\\users\\prachi\\anaconda3\\lib\\site-packages (from trio~=0.17->selenium) (1.10)\n",
      "Requirement already satisfied: attrs>=19.2.0 in c:\\users\\prachi\\anaconda3\\lib\\site-packages (from trio~=0.17->selenium) (21.2.0)\n",
      "Requirement already satisfied: pycparser in c:\\users\\prachi\\anaconda3\\lib\\site-packages (from cffi>=1.14->trio~=0.17->selenium) (2.20)\n",
      "Requirement already satisfied: wsproto>=0.14 in c:\\users\\prachi\\anaconda3\\lib\\site-packages (from trio-websocket~=0.9->selenium) (1.2.0)\n",
      "Requirement already satisfied: PySocks!=1.5.7,<2.0,>=1.5.6 in c:\\users\\prachi\\anaconda3\\lib\\site-packages (from urllib3[socks]~=1.26->selenium) (1.7.1)\n",
      "Requirement already satisfied: h11<1,>=0.9.0 in c:\\users\\prachi\\anaconda3\\lib\\site-packages (from wsproto>=0.14->trio-websocket~=0.9->selenium) (0.13.0)\n",
      "Note: you may need to restart the kernel to use updated packages.\n"
     ]
    },
    {
     "name": "stderr",
     "output_type": "stream",
     "text": [
      "WARNING: Ignoring invalid distribution -atplotlib (c:\\users\\prachi\\anaconda3\\lib\\site-packages)\n",
      "WARNING: Ignoring invalid distribution -atplotlib (c:\\users\\prachi\\anaconda3\\lib\\site-packages)\n",
      "WARNING: Ignoring invalid distribution -atplotlib (c:\\users\\prachi\\anaconda3\\lib\\site-packages)\n",
      "WARNING: Ignoring invalid distribution -atplotlib (c:\\users\\prachi\\anaconda3\\lib\\site-packages)\n",
      "WARNING: Ignoring invalid distribution -atplotlib (c:\\users\\prachi\\anaconda3\\lib\\site-packages)\n",
      "WARNING: Ignoring invalid distribution -atplotlib (c:\\users\\prachi\\anaconda3\\lib\\site-packages)\n"
     ]
    }
   ],
   "source": [
    "pip install selenium"
   ]
  },
  {
   "cell_type": "code",
   "execution_count": 485,
   "id": "24e159d6",
   "metadata": {},
   "outputs": [],
   "source": [
    "from selenium import webdriver\n",
    "from selenium.webdriver.common.keys import Keys\n",
    "import pandas as pd\n",
    "import urllib"
   ]
  },
  {
   "cell_type": "code",
   "execution_count": 486,
   "id": "e2c176da",
   "metadata": {},
   "outputs": [
    {
     "name": "stderr",
     "output_type": "stream",
     "text": [
      "C:\\Users\\Prachi\\AppData\\Local\\Temp/ipykernel_11708/2163838404.py:1: DeprecationWarning: executable_path has been deprecated, please pass in a Service object\n",
      "  driver = webdriver.Chrome(executable_path=\"E:\\\\prachi datatrained\\\\FlipRoboTech\\\\chromedriver.exe\")\n"
     ]
    }
   ],
   "source": [
    "driver = webdriver.Chrome(executable_path=\"E:\\\\prachi datatrained\\\\FlipRoboTech\\\\chromedriver.exe\")"
   ]
  },
  {
   "cell_type": "code",
   "execution_count": 452,
   "id": "04d7982d",
   "metadata": {},
   "outputs": [
    {
     "name": "stdout",
     "output_type": "stream",
     "text": [
      "<class 'selenium.webdriver.chrome.webdriver.WebDriver'>\n"
     ]
    }
   ],
   "source": [
    "print(type(driver))"
   ]
  },
  {
   "cell_type": "markdown",
   "id": "3df6f939",
   "metadata": {},
   "source": [
    "# 1. Write a python program which searches all the product under a particular product from www.amazon.in. The product to be searched will be taken as input from user. For e.g. If user input is ‘guitar’. Then search for guitars."
   ]
  },
  {
   "cell_type": "code",
   "execution_count": 6,
   "id": "d0c06725",
   "metadata": {},
   "outputs": [],
   "source": [
    "driver.get(\"https://www.amazon.in\")"
   ]
  },
  {
   "cell_type": "code",
   "execution_count": 11,
   "id": "1e626d8d",
   "metadata": {},
   "outputs": [],
   "source": [
    "from selenium.webdriver.common.by import By"
   ]
  },
  {
   "cell_type": "code",
   "execution_count": 14,
   "id": "5e42b589",
   "metadata": {},
   "outputs": [
    {
     "name": "stdout",
     "output_type": "stream",
     "text": [
      "<selenium.webdriver.remote.webelement.WebElement (session=\"be73eb765285fed8b835ece5f57e7eed\", element=\"e2e690aa-7097-498e-9952-19389be6de4d\")>\n"
     ]
    }
   ],
   "source": [
    "textboxes=driver.find_element(By.XPATH,\"//*[@id='twotabsearchtextbox']\")\n",
    "print(textboxes)\n",
    "textboxes.send_keys(\"bagpack\")"
   ]
  },
  {
   "cell_type": "code",
   "execution_count": 16,
   "id": "62c45b3c",
   "metadata": {},
   "outputs": [],
   "source": [
    "from selenium.webdriver.support.ui import WebDriverWait \n",
    "from selenium.webdriver.support import expected_conditions as EC"
   ]
  },
  {
   "cell_type": "code",
   "execution_count": 17,
   "id": "39a90a8b",
   "metadata": {},
   "outputs": [],
   "source": [
    "WebDriverWait(driver, 20).until(EC.element_to_be_clickable((By.XPATH, \"//*[@id='nav-search-submit-button']\"))).click()"
   ]
  },
  {
   "cell_type": "markdown",
   "id": "b13200d3",
   "metadata": {},
   "source": [
    "# 2. In the above question, now scrape the following details of each product listed in first 3 pages of your search results and save it in a data frame and csv. In case if any product has less than 3 pages in search results then scrape all the products available under that product name. Details to be scraped are: \"Brand Name\", \"Name of the Product\", \"Price\", \"Return/Exchange\", \"Expected Delivery\", \"Availability\" and “Product URL”. In case, if any of the details are missing for any of the product then replace it by “-“"
   ]
  },
  {
   "cell_type": "code",
   "execution_count": 327,
   "id": "1fabfbbf",
   "metadata": {},
   "outputs": [
    {
     "ename": "NoSuchElementException",
     "evalue": "Message: no such element: Unable to locate element: {\"method\":\"xpath\",\"selector\":\"//*[@id='search']/div[1]/div[1]/div/span[3]/div[2]\"}\n  (Session info: chrome=105.0.5195.102)\nStacktrace:\nBacktrace:\n\tOrdinal0 [0x005CDF13+2219795]\n\tOrdinal0 [0x00562841+1779777]\n\tOrdinal0 [0x0047423D+803389]\n\tOrdinal0 [0x004A3025+995365]\n\tOrdinal0 [0x004A31EB+995819]\n\tOrdinal0 [0x004D0F52+1183570]\n\tOrdinal0 [0x004BE844+1108036]\n\tOrdinal0 [0x004CF192+1175954]\n\tOrdinal0 [0x004BE616+1107478]\n\tOrdinal0 [0x00497F89+950153]\n\tOrdinal0 [0x00498F56+954198]\n\tGetHandleVerifier [0x008C2CB2+3040210]\n\tGetHandleVerifier [0x008B2BB4+2974420]\n\tGetHandleVerifier [0x00666A0A+565546]\n\tGetHandleVerifier [0x00665680+560544]\n\tOrdinal0 [0x00569A5C+1808988]\n\tOrdinal0 [0x0056E3A8+1827752]\n\tOrdinal0 [0x0056E495+1827989]\n\tOrdinal0 [0x005780A4+1867940]\n\tBaseThreadInitThunk [0x76EFFA29+25]\n\tRtlGetAppContainerNamedObjectPath [0x77AB7B5E+286]\n\tRtlGetAppContainerNamedObjectPath [0x77AB7B2E+238]\n",
     "output_type": "error",
     "traceback": [
      "\u001b[1;31m---------------------------------------------------------------------------\u001b[0m",
      "\u001b[1;31mNoSuchElementException\u001b[0m                    Traceback (most recent call last)",
      "\u001b[1;32m~\\AppData\\Local\\Temp/ipykernel_11708/763194942.py\u001b[0m in \u001b[0;36m<module>\u001b[1;34m\u001b[0m\n\u001b[1;32m----> 1\u001b[1;33m \u001b[0mdata\u001b[0m \u001b[1;33m=\u001b[0m \u001b[0mdriver\u001b[0m\u001b[1;33m.\u001b[0m\u001b[0mfind_element\u001b[0m\u001b[1;33m(\u001b[0m\u001b[0mBy\u001b[0m\u001b[1;33m.\u001b[0m\u001b[0mXPATH\u001b[0m\u001b[1;33m,\u001b[0m\u001b[1;34m\"//*[@id='search']/div[1]/div[1]/div/span[3]/div[2]\"\u001b[0m\u001b[1;33m)\u001b[0m\u001b[1;33m\u001b[0m\u001b[1;33m\u001b[0m\u001b[0m\n\u001b[0m\u001b[0;32m      2\u001b[0m \u001b[1;33m\u001b[0m\u001b[0m\n\u001b[0;32m      3\u001b[0m \u001b[0mrawLinks\u001b[0m \u001b[1;33m=\u001b[0m \u001b[0mdata\u001b[0m\u001b[1;33m.\u001b[0m\u001b[0mfind_elements\u001b[0m\u001b[1;33m(\u001b[0m\u001b[0mBy\u001b[0m\u001b[1;33m.\u001b[0m\u001b[0mCLASS_NAME\u001b[0m\u001b[1;33m,\u001b[0m \u001b[1;34m's-pagination-item.s-pagination-button'\u001b[0m\u001b[1;33m)\u001b[0m\u001b[1;33m\u001b[0m\u001b[1;33m\u001b[0m\u001b[0m\n\u001b[0;32m      4\u001b[0m \u001b[1;33m\u001b[0m\u001b[0m\n\u001b[0;32m      5\u001b[0m \u001b[0mactualLinks\u001b[0m \u001b[1;33m=\u001b[0m \u001b[1;33m[\u001b[0m\u001b[1;33m]\u001b[0m\u001b[1;33m\u001b[0m\u001b[1;33m\u001b[0m\u001b[0m\n",
      "\u001b[1;32m~\\anaconda3\\lib\\site-packages\\selenium\\webdriver\\remote\\webdriver.py\u001b[0m in \u001b[0;36mfind_element\u001b[1;34m(self, by, value)\u001b[0m\n\u001b[0;32m    853\u001b[0m             \u001b[0mvalue\u001b[0m \u001b[1;33m=\u001b[0m \u001b[1;34m'[name=\"%s\"]'\u001b[0m \u001b[1;33m%\u001b[0m \u001b[0mvalue\u001b[0m\u001b[1;33m\u001b[0m\u001b[1;33m\u001b[0m\u001b[0m\n\u001b[0;32m    854\u001b[0m \u001b[1;33m\u001b[0m\u001b[0m\n\u001b[1;32m--> 855\u001b[1;33m         return self.execute(Command.FIND_ELEMENT, {\n\u001b[0m\u001b[0;32m    856\u001b[0m             \u001b[1;34m'using'\u001b[0m\u001b[1;33m:\u001b[0m \u001b[0mby\u001b[0m\u001b[1;33m,\u001b[0m\u001b[1;33m\u001b[0m\u001b[1;33m\u001b[0m\u001b[0m\n\u001b[0;32m    857\u001b[0m             'value': value})['value']\n",
      "\u001b[1;32m~\\anaconda3\\lib\\site-packages\\selenium\\webdriver\\remote\\webdriver.py\u001b[0m in \u001b[0;36mexecute\u001b[1;34m(self, driver_command, params)\u001b[0m\n\u001b[0;32m    426\u001b[0m         \u001b[0mresponse\u001b[0m \u001b[1;33m=\u001b[0m \u001b[0mself\u001b[0m\u001b[1;33m.\u001b[0m\u001b[0mcommand_executor\u001b[0m\u001b[1;33m.\u001b[0m\u001b[0mexecute\u001b[0m\u001b[1;33m(\u001b[0m\u001b[0mdriver_command\u001b[0m\u001b[1;33m,\u001b[0m \u001b[0mparams\u001b[0m\u001b[1;33m)\u001b[0m\u001b[1;33m\u001b[0m\u001b[1;33m\u001b[0m\u001b[0m\n\u001b[0;32m    427\u001b[0m         \u001b[1;32mif\u001b[0m \u001b[0mresponse\u001b[0m\u001b[1;33m:\u001b[0m\u001b[1;33m\u001b[0m\u001b[1;33m\u001b[0m\u001b[0m\n\u001b[1;32m--> 428\u001b[1;33m             \u001b[0mself\u001b[0m\u001b[1;33m.\u001b[0m\u001b[0merror_handler\u001b[0m\u001b[1;33m.\u001b[0m\u001b[0mcheck_response\u001b[0m\u001b[1;33m(\u001b[0m\u001b[0mresponse\u001b[0m\u001b[1;33m)\u001b[0m\u001b[1;33m\u001b[0m\u001b[1;33m\u001b[0m\u001b[0m\n\u001b[0m\u001b[0;32m    429\u001b[0m             response['value'] = self._unwrap_value(\n\u001b[0;32m    430\u001b[0m                 response.get('value', None))\n",
      "\u001b[1;32m~\\anaconda3\\lib\\site-packages\\selenium\\webdriver\\remote\\errorhandler.py\u001b[0m in \u001b[0;36mcheck_response\u001b[1;34m(self, response)\u001b[0m\n\u001b[0;32m    241\u001b[0m                 \u001b[0malert_text\u001b[0m \u001b[1;33m=\u001b[0m \u001b[0mvalue\u001b[0m\u001b[1;33m[\u001b[0m\u001b[1;34m'alert'\u001b[0m\u001b[1;33m]\u001b[0m\u001b[1;33m.\u001b[0m\u001b[0mget\u001b[0m\u001b[1;33m(\u001b[0m\u001b[1;34m'text'\u001b[0m\u001b[1;33m)\u001b[0m\u001b[1;33m\u001b[0m\u001b[1;33m\u001b[0m\u001b[0m\n\u001b[0;32m    242\u001b[0m             \u001b[1;32mraise\u001b[0m \u001b[0mexception_class\u001b[0m\u001b[1;33m(\u001b[0m\u001b[0mmessage\u001b[0m\u001b[1;33m,\u001b[0m \u001b[0mscreen\u001b[0m\u001b[1;33m,\u001b[0m \u001b[0mstacktrace\u001b[0m\u001b[1;33m,\u001b[0m \u001b[0malert_text\u001b[0m\u001b[1;33m)\u001b[0m  \u001b[1;31m# type: ignore[call-arg]  # mypy is not smart enough here\u001b[0m\u001b[1;33m\u001b[0m\u001b[1;33m\u001b[0m\u001b[0m\n\u001b[1;32m--> 243\u001b[1;33m         \u001b[1;32mraise\u001b[0m \u001b[0mexception_class\u001b[0m\u001b[1;33m(\u001b[0m\u001b[0mmessage\u001b[0m\u001b[1;33m,\u001b[0m \u001b[0mscreen\u001b[0m\u001b[1;33m,\u001b[0m \u001b[0mstacktrace\u001b[0m\u001b[1;33m)\u001b[0m\u001b[1;33m\u001b[0m\u001b[1;33m\u001b[0m\u001b[0m\n\u001b[0m",
      "\u001b[1;31mNoSuchElementException\u001b[0m: Message: no such element: Unable to locate element: {\"method\":\"xpath\",\"selector\":\"//*[@id='search']/div[1]/div[1]/div/span[3]/div[2]\"}\n  (Session info: chrome=105.0.5195.102)\nStacktrace:\nBacktrace:\n\tOrdinal0 [0x005CDF13+2219795]\n\tOrdinal0 [0x00562841+1779777]\n\tOrdinal0 [0x0047423D+803389]\n\tOrdinal0 [0x004A3025+995365]\n\tOrdinal0 [0x004A31EB+995819]\n\tOrdinal0 [0x004D0F52+1183570]\n\tOrdinal0 [0x004BE844+1108036]\n\tOrdinal0 [0x004CF192+1175954]\n\tOrdinal0 [0x004BE616+1107478]\n\tOrdinal0 [0x00497F89+950153]\n\tOrdinal0 [0x00498F56+954198]\n\tGetHandleVerifier [0x008C2CB2+3040210]\n\tGetHandleVerifier [0x008B2BB4+2974420]\n\tGetHandleVerifier [0x00666A0A+565546]\n\tGetHandleVerifier [0x00665680+560544]\n\tOrdinal0 [0x00569A5C+1808988]\n\tOrdinal0 [0x0056E3A8+1827752]\n\tOrdinal0 [0x0056E495+1827989]\n\tOrdinal0 [0x005780A4+1867940]\n\tBaseThreadInitThunk [0x76EFFA29+25]\n\tRtlGetAppContainerNamedObjectPath [0x77AB7B5E+286]\n\tRtlGetAppContainerNamedObjectPath [0x77AB7B2E+238]\n"
     ]
    }
   ],
   "source": [
    "data = driver.find_element(By.XPATH,\"//*[@id='search']/div[1]/div[1]/div/span[3]/div[2]\")\n",
    "\n",
    "rawLinks = data.find_elements(By.CLASS_NAME, 's-pagination-item.s-pagination-button')\n",
    "\n",
    "actualLinks = []\n",
    "i = 0\n",
    "for link in rawLinks:\n",
    "    actualLink= link.get_attribute(\"href\")\n",
    "    actualLinks.append(actualLink)\n",
    "    i = i + 1\n",
    "    print(len(actualLinks))\n",
    "    print(actualLink)\n",
    "    if (i >= 3):\n",
    "        break\n",
    "    \n",
    "bagpack = []\n",
    "\n",
    "for i in range(len(actualLinks)):\n",
    "    driver.get(actualLinks[i])\n",
    "    products = driver.find_elements(By.CLASS_NAME,'a-section.a-spacing-base.a-text-center')\n",
    "    for product in products:\n",
    "\n",
    "        try:\n",
    "            price = product.find_element(By.CLASS_NAME, 'a-price-whole').text\n",
    "        except Exception as ex:\n",
    "            price = 'Unavailable'\n",
    "        try:\n",
    "            delivery = product.find_element(By.CLASS_NAME, 'a-color-base.a-text-bold').text\n",
    "        except Exception as ex:\n",
    "            delivery = '-' \n",
    "        try:\n",
    "            availability = product.find_element(By.CLASS_NAME, 'a-color-base.a-text-bold').text\n",
    "        except Exception as ex:\n",
    "            availability = '-' \n",
    "        bags = {\n",
    "            \"Price\": price,\n",
    "            \"BrandName\":product.find_element(By.CLASS_NAME, 's-line-clamp-1').text,\n",
    "            \"ProductName\": product.find_element(By.CLASS_NAME, 'a-size-mini.a-spacing-none.a-color-base.s-line-clamp-2').text,\n",
    "            \"Return\": '-',\n",
    "            \"Delivery\":delivery,\n",
    "            \"Availability\": availability,\n",
    "            \"URL\": product.find_element(By.CLASS_NAME, 's-image').get_attribute(\"src\")\n",
    "         }\n",
    "        bagpack.append(bags)\n",
    "\n",
    "for name in bagpack:\n",
    "    print(name['BrandName'],name['ProductName'],name['Price'],name['Return'],name['Delivery'],name['Availability'],name['URL'])\n",
    "\n"
   ]
  },
  {
   "cell_type": "code",
   "execution_count": 143,
   "id": "a0b27f6a",
   "metadata": {},
   "outputs": [
    {
     "data": {
      "text/html": [
       "<div>\n",
       "<style scoped>\n",
       "    .dataframe tbody tr th:only-of-type {\n",
       "        vertical-align: middle;\n",
       "    }\n",
       "\n",
       "    .dataframe tbody tr th {\n",
       "        vertical-align: top;\n",
       "    }\n",
       "\n",
       "    .dataframe thead th {\n",
       "        text-align: right;\n",
       "    }\n",
       "</style>\n",
       "<table border=\"1\" class=\"dataframe\">\n",
       "  <thead>\n",
       "    <tr style=\"text-align: right;\">\n",
       "      <th></th>\n",
       "      <th>Price</th>\n",
       "      <th>BrandName</th>\n",
       "      <th>ProductName</th>\n",
       "      <th>Return</th>\n",
       "      <th>Delivery</th>\n",
       "      <th>Availability</th>\n",
       "      <th>URL</th>\n",
       "    </tr>\n",
       "  </thead>\n",
       "  <tbody>\n",
       "    <tr>\n",
       "      <th>0</th>\n",
       "      <td>5,290</td>\n",
       "      <td>MOKOBARA</td>\n",
       "      <td>Backpack Pro 15.6\" Inch Laptop Backpack For Me...</td>\n",
       "      <td>-</td>\n",
       "      <td>-</td>\n",
       "      <td>-</td>\n",
       "      <td>https://m.media-amazon.com/images/I/71JLR0SSo8...</td>\n",
       "    </tr>\n",
       "    <tr>\n",
       "      <th>1</th>\n",
       "      <td>499</td>\n",
       "      <td>Genie</td>\n",
       "      <td>Miami Casual Backpacks for Women, 14 inch, Sty...</td>\n",
       "      <td>-</td>\n",
       "      <td>-</td>\n",
       "      <td>-</td>\n",
       "      <td>https://m.media-amazon.com/images/I/71DPD4B-1n...</td>\n",
       "    </tr>\n",
       "    <tr>\n",
       "      <th>2</th>\n",
       "      <td>4,290</td>\n",
       "      <td>MOKOBARA</td>\n",
       "      <td>Backpack 15.5\" Inch Laptop Backpack For Women ...</td>\n",
       "      <td>-</td>\n",
       "      <td>-</td>\n",
       "      <td>-</td>\n",
       "      <td>https://m.media-amazon.com/images/I/61gL6wcGLN...</td>\n",
       "    </tr>\n",
       "    <tr>\n",
       "      <th>3</th>\n",
       "      <td>1,399</td>\n",
       "      <td>AmazonBasics</td>\n",
       "      <td>Amazon Basics Laptop Backpack - 21.5L, Water R...</td>\n",
       "      <td>-</td>\n",
       "      <td>-</td>\n",
       "      <td>-</td>\n",
       "      <td>https://m.media-amazon.com/images/I/71jnIz60Ck...</td>\n",
       "    </tr>\n",
       "    <tr>\n",
       "      <th>4</th>\n",
       "      <td>699</td>\n",
       "      <td>American Tourister</td>\n",
       "      <td>American Tourister 51 cms Black Casual Backpac...</td>\n",
       "      <td>-</td>\n",
       "      <td>Sunday, September 25</td>\n",
       "      <td>Sunday, September 25</td>\n",
       "      <td>https://m.media-amazon.com/images/I/91FvDEE9sC...</td>\n",
       "    </tr>\n",
       "    <tr>\n",
       "      <th>...</th>\n",
       "      <td>...</td>\n",
       "      <td>...</td>\n",
       "      <td>...</td>\n",
       "      <td>...</td>\n",
       "      <td>...</td>\n",
       "      <td>...</td>\n",
       "      <td>...</td>\n",
       "    </tr>\n",
       "    <tr>\n",
       "      <th>191</th>\n",
       "      <td>449</td>\n",
       "      <td>FUR JADEN</td>\n",
       "      <td>15.6 Inch Laptop Backpack 25 LTR Bag for Schoo...</td>\n",
       "      <td>-</td>\n",
       "      <td>-</td>\n",
       "      <td>-</td>\n",
       "      <td>https://m.media-amazon.com/images/I/71B9yD-tdN...</td>\n",
       "    </tr>\n",
       "    <tr>\n",
       "      <th>192</th>\n",
       "      <td>1,698</td>\n",
       "      <td>KILLER</td>\n",
       "      <td>Louis 38L Large Laptop Backpack With 3 Compart...</td>\n",
       "      <td>-</td>\n",
       "      <td>-</td>\n",
       "      <td>-</td>\n",
       "      <td>https://m.media-amazon.com/images/I/71KP2C00gC...</td>\n",
       "    </tr>\n",
       "    <tr>\n",
       "      <th>193</th>\n",
       "      <td>889</td>\n",
       "      <td>Genie</td>\n",
       "      <td>36 Ltrs Maroon Casual Backpack (Blush)</td>\n",
       "      <td>-</td>\n",
       "      <td>-</td>\n",
       "      <td>-</td>\n",
       "      <td>https://m.media-amazon.com/images/I/91saQB9Wsu...</td>\n",
       "    </tr>\n",
       "    <tr>\n",
       "      <th>194</th>\n",
       "      <td>1,400</td>\n",
       "      <td>uppercase</td>\n",
       "      <td>Medium 17L Vegan Leather Laptop Backpack 2300E...</td>\n",
       "      <td>-</td>\n",
       "      <td>-</td>\n",
       "      <td>-</td>\n",
       "      <td>https://m.media-amazon.com/images/I/51yld7nYqm...</td>\n",
       "    </tr>\n",
       "    <tr>\n",
       "      <th>195</th>\n",
       "      <td>1,199</td>\n",
       "      <td>AmazonBasics</td>\n",
       "      <td>Amazon Basics Backpack - 27.5L, Water Repellen...</td>\n",
       "      <td>-</td>\n",
       "      <td>-</td>\n",
       "      <td>-</td>\n",
       "      <td>https://m.media-amazon.com/images/I/91IF48ndSS...</td>\n",
       "    </tr>\n",
       "  </tbody>\n",
       "</table>\n",
       "<p>196 rows × 7 columns</p>\n",
       "</div>"
      ],
      "text/plain": [
       "     Price           BrandName  \\\n",
       "0    5,290            MOKOBARA   \n",
       "1      499               Genie   \n",
       "2    4,290            MOKOBARA   \n",
       "3    1,399        AmazonBasics   \n",
       "4      699  American Tourister   \n",
       "..     ...                 ...   \n",
       "191    449           FUR JADEN   \n",
       "192  1,698              KILLER   \n",
       "193    889               Genie   \n",
       "194  1,400           uppercase   \n",
       "195  1,199        AmazonBasics   \n",
       "\n",
       "                                           ProductName Return  \\\n",
       "0    Backpack Pro 15.6\" Inch Laptop Backpack For Me...      -   \n",
       "1    Miami Casual Backpacks for Women, 14 inch, Sty...      -   \n",
       "2    Backpack 15.5\" Inch Laptop Backpack For Women ...      -   \n",
       "3    Amazon Basics Laptop Backpack - 21.5L, Water R...      -   \n",
       "4    American Tourister 51 cms Black Casual Backpac...      -   \n",
       "..                                                 ...    ...   \n",
       "191  15.6 Inch Laptop Backpack 25 LTR Bag for Schoo...      -   \n",
       "192  Louis 38L Large Laptop Backpack With 3 Compart...      -   \n",
       "193             36 Ltrs Maroon Casual Backpack (Blush)      -   \n",
       "194  Medium 17L Vegan Leather Laptop Backpack 2300E...      -   \n",
       "195  Amazon Basics Backpack - 27.5L, Water Repellen...      -   \n",
       "\n",
       "                 Delivery          Availability  \\\n",
       "0                       -                     -   \n",
       "1                       -                     -   \n",
       "2                       -                     -   \n",
       "3                       -                     -   \n",
       "4    Sunday, September 25  Sunday, September 25   \n",
       "..                    ...                   ...   \n",
       "191                     -                     -   \n",
       "192                     -                     -   \n",
       "193                     -                     -   \n",
       "194                     -                     -   \n",
       "195                     -                     -   \n",
       "\n",
       "                                                   URL  \n",
       "0    https://m.media-amazon.com/images/I/71JLR0SSo8...  \n",
       "1    https://m.media-amazon.com/images/I/71DPD4B-1n...  \n",
       "2    https://m.media-amazon.com/images/I/61gL6wcGLN...  \n",
       "3    https://m.media-amazon.com/images/I/71jnIz60Ck...  \n",
       "4    https://m.media-amazon.com/images/I/91FvDEE9sC...  \n",
       "..                                                 ...  \n",
       "191  https://m.media-amazon.com/images/I/71B9yD-tdN...  \n",
       "192  https://m.media-amazon.com/images/I/71KP2C00gC...  \n",
       "193  https://m.media-amazon.com/images/I/91saQB9Wsu...  \n",
       "194  https://m.media-amazon.com/images/I/51yld7nYqm...  \n",
       "195  https://m.media-amazon.com/images/I/91IF48ndSS...  \n",
       "\n",
       "[196 rows x 7 columns]"
      ]
     },
     "execution_count": 143,
     "metadata": {},
     "output_type": "execute_result"
    }
   ],
   "source": [
    "df=pd.DataFrame(bagpack)\n",
    "df"
   ]
  },
  {
   "cell_type": "code",
   "execution_count": 145,
   "id": "81e6cba7",
   "metadata": {},
   "outputs": [],
   "source": [
    "df=pd.DataFrame(bagpack)\n",
    "df.to_csv('Q1_Q2.csv',index=False)"
   ]
  },
  {
   "cell_type": "markdown",
   "id": "733bc20d",
   "metadata": {},
   "source": [
    "# 3. Write a python program to access the search bar and search button on images.google.com and scrape 10 images each for keywords ‘fruits’, ‘cars’ and ‘Machine Learning’, ‘Guitar’, ‘Cakes’."
   ]
  },
  {
   "cell_type": "code",
   "execution_count": 146,
   "id": "e82492f6",
   "metadata": {},
   "outputs": [],
   "source": [
    "driver.get(\"https://images.google.com\")"
   ]
  },
  {
   "cell_type": "markdown",
   "id": "ccb7688d",
   "metadata": {},
   "source": [
    "# Fruits"
   ]
  },
  {
   "cell_type": "code",
   "execution_count": 175,
   "id": "08c1133a",
   "metadata": {},
   "outputs": [
    {
     "name": "stdout",
     "output_type": "stream",
     "text": [
      "<selenium.webdriver.remote.webelement.WebElement (session=\"be73eb765285fed8b835ece5f57e7eed\", element=\"8315f07e-ba49-4c3b-8f4b-2afdaa488c11\")>\n"
     ]
    }
   ],
   "source": [
    "textboxes=driver.find_element(By.CLASS_NAME,\"gLFyf.gsfi\")\n",
    "print(textboxes)\n",
    "textboxes.send_keys(\"fruits\")"
   ]
  },
  {
   "cell_type": "code",
   "execution_count": 176,
   "id": "5b995029",
   "metadata": {},
   "outputs": [],
   "source": [
    "WebDriverWait(driver, 20).until(EC.element_to_be_clickable((By.CLASS_NAME, \"zgAlFc\"))).click()"
   ]
  },
  {
   "cell_type": "code",
   "execution_count": 177,
   "id": "2f008ffd",
   "metadata": {},
   "outputs": [],
   "source": [
    "url = (\"https://www.google.com/search?q={s}&tbm=isch&tbs=sur%3Afc&hl=en&ved=0CAIQpwVqFwoTCKCa1c6s4-oCFQAAAAAdAAAAABAC&biw=1251&bih=568\")"
   ]
  },
  {
   "cell_type": "code",
   "execution_count": 178,
   "id": "f96d8e04",
   "metadata": {},
   "outputs": [],
   "source": [
    "driver.get(url.format(s='fruits'))"
   ]
  },
  {
   "cell_type": "code",
   "execution_count": 179,
   "id": "35a77a89",
   "metadata": {},
   "outputs": [],
   "source": [
    "import time\n",
    "driver.execute_script(\"window.scrollTo(0,document.body.scrollHeight);\")\n",
    "time.sleep(5)"
   ]
  },
  {
   "cell_type": "code",
   "execution_count": 180,
   "id": "0ea82898",
   "metadata": {},
   "outputs": [],
   "source": [
    "imgResults = driver.find_elements(By.XPATH,\"//img[contains(@class,'Q4LuWd')]\")"
   ]
  },
  {
   "cell_type": "code",
   "execution_count": 181,
   "id": "605f6bc4",
   "metadata": {},
   "outputs": [],
   "source": [
    "src = []\n",
    "for img in imgResults:\n",
    "    src.append(img.get_attribute('src'))"
   ]
  },
  {
   "cell_type": "code",
   "execution_count": 182,
   "id": "aa60354e",
   "metadata": {},
   "outputs": [
    {
     "name": "stdout",
     "output_type": "stream",
     "text": [
      "('Fruits/fruit0.jpg', <email.message.Message object at 0x000001C7979467F0>)\n",
      "('Fruits/fruit1.jpg', <email.message.Message object at 0x000001C797946580>)\n",
      "('Fruits/fruit2.jpg', <email.message.Message object at 0x000001C797946C70>)\n",
      "('Fruits/fruit3.jpg', <email.message.Message object at 0x000001C797946340>)\n",
      "('Fruits/fruit4.jpg', <email.message.Message object at 0x000001C797946AF0>)\n",
      "('Fruits/fruit5.jpg', <email.message.Message object at 0x000001C7979467F0>)\n",
      "('Fruits/fruit6.jpg', <email.message.Message object at 0x000001C797946280>)\n",
      "('Fruits/fruit7.jpg', <email.message.Message object at 0x000001C797946340>)\n",
      "('Fruits/fruit8.jpg', <email.message.Message object at 0x000001C797946C70>)\n",
      "('Fruits/fruit9.jpg', <email.message.Message object at 0x000001C797946AF0>)\n"
     ]
    }
   ],
   "source": [
    "for i in range(10):    \n",
    "    print(urllib.request.urlretrieve(str(src[i]),\"Fruits/fruit{}.jpg\".format(i)))"
   ]
  },
  {
   "cell_type": "markdown",
   "id": "7f466661",
   "metadata": {},
   "source": [
    "# Cars"
   ]
  },
  {
   "cell_type": "code",
   "execution_count": 164,
   "id": "5f72ac77",
   "metadata": {},
   "outputs": [
    {
     "name": "stdout",
     "output_type": "stream",
     "text": [
      "<selenium.webdriver.remote.webelement.WebElement (session=\"be73eb765285fed8b835ece5f57e7eed\", element=\"92c266c7-f062-4792-b034-d92c1cfe7289\")>\n"
     ]
    }
   ],
   "source": [
    "textboxes=driver.find_element(By.CLASS_NAME,\"gLFyf.gsfi\")\n",
    "print(textboxes)\n",
    "textboxes.send_keys(\"cars\")"
   ]
  },
  {
   "cell_type": "code",
   "execution_count": 165,
   "id": "e00754d2",
   "metadata": {},
   "outputs": [],
   "source": [
    "WebDriverWait(driver, 20).until(EC.element_to_be_clickable((By.CLASS_NAME, \"zgAlFc\"))).click()"
   ]
  },
  {
   "cell_type": "code",
   "execution_count": 166,
   "id": "d1f64e81",
   "metadata": {},
   "outputs": [],
   "source": [
    "url = (\"https://www.google.com/search?q={s}&tbm=isch&tbs=sur%3Afc&hl=en&ved=0CAIQpwVqFwoTCKCa1c6s4-oCFQAAAAAdAAAAABAC&biw=1251&bih=568\")"
   ]
  },
  {
   "cell_type": "code",
   "execution_count": 167,
   "id": "2299ada1",
   "metadata": {},
   "outputs": [],
   "source": [
    "import time\n",
    "driver.execute_script(\"window.scrollTo(0,document.body.scrollHeight);\")\n",
    "time.sleep(5)"
   ]
  },
  {
   "cell_type": "code",
   "execution_count": 168,
   "id": "01e7edda",
   "metadata": {},
   "outputs": [],
   "source": [
    "imgResults = driver.find_elements(By.XPATH,\"//img[contains(@class,'Q4LuWd')]\")"
   ]
  },
  {
   "cell_type": "code",
   "execution_count": 169,
   "id": "4c4ec02f",
   "metadata": {},
   "outputs": [],
   "source": [
    "src = []\n",
    "for img in imgResults:\n",
    "    src.append(img.get_attribute('src'))"
   ]
  },
  {
   "cell_type": "code",
   "execution_count": 172,
   "id": "7fad385e",
   "metadata": {},
   "outputs": [
    {
     "name": "stdout",
     "output_type": "stream",
     "text": [
      "('Cars/car0.jpg', <email.message.Message object at 0x000001C7979430A0>)\n",
      "('Cars/car1.jpg', <email.message.Message object at 0x000001C797943A00>)\n",
      "('Cars/car2.jpg', <email.message.Message object at 0x000001C7979433D0>)\n",
      "('Cars/car3.jpg', <email.message.Message object at 0x000001C797943970>)\n",
      "('Cars/car4.jpg', <email.message.Message object at 0x000001C7979439A0>)\n",
      "('Cars/car5.jpg', <email.message.Message object at 0x000001C797943130>)\n",
      "('Cars/car6.jpg', <email.message.Message object at 0x000001C797943C40>)\n",
      "('Cars/car7.jpg', <email.message.Message object at 0x000001C797943DF0>)\n",
      "('Cars/car8.jpg', <email.message.Message object at 0x000001C7979433D0>)\n",
      "('Cars/car9.jpg', <email.message.Message object at 0x000001C797943CD0>)\n"
     ]
    }
   ],
   "source": [
    "for i in range(10):    \n",
    "    print(urllib.request.urlretrieve(str(src[i]),\"Cars/car{}.jpg\".format(i)))"
   ]
  },
  {
   "cell_type": "markdown",
   "id": "b51fd27a",
   "metadata": {},
   "source": [
    "# Machine Learning"
   ]
  },
  {
   "cell_type": "code",
   "execution_count": 183,
   "id": "ff547506",
   "metadata": {},
   "outputs": [
    {
     "name": "stdout",
     "output_type": "stream",
     "text": [
      "<selenium.webdriver.remote.webelement.WebElement (session=\"be73eb765285fed8b835ece5f57e7eed\", element=\"41e32d79-05b2-4f81-88b5-9e7c1e7bfaf3\")>\n"
     ]
    }
   ],
   "source": [
    "textboxes=driver.find_element(By.CLASS_NAME,\"gLFyf.gsfi\")\n",
    "print(textboxes)\n",
    "textboxes.send_keys(\"Machine Learning\")\n",
    "WebDriverWait(driver, 20).until(EC.element_to_be_clickable((By.CLASS_NAME, \"zgAlFc\"))).click()"
   ]
  },
  {
   "cell_type": "code",
   "execution_count": 184,
   "id": "9e66d1e3",
   "metadata": {},
   "outputs": [],
   "source": [
    "url = (\"https://www.google.com/search?q={s}&tbm=isch&tbs=sur%3Afc&hl=en&ved=0CAIQpwVqFwoTCKCa1c6s4-oCFQAAAAAdAAAAABAC&biw=1251&bih=568\")"
   ]
  },
  {
   "cell_type": "code",
   "execution_count": 185,
   "id": "c0859196",
   "metadata": {},
   "outputs": [],
   "source": [
    "import time\n",
    "driver.execute_script(\"window.scrollTo(0,document.body.scrollHeight);\")\n",
    "time.sleep(5)"
   ]
  },
  {
   "cell_type": "code",
   "execution_count": 186,
   "id": "347d11a9",
   "metadata": {},
   "outputs": [],
   "source": [
    "imgResults = driver.find_elements(By.XPATH,\"//img[contains(@class,'Q4LuWd')]\")"
   ]
  },
  {
   "cell_type": "code",
   "execution_count": 187,
   "id": "c45c24fd",
   "metadata": {},
   "outputs": [],
   "source": [
    "src = []\n",
    "for img in imgResults:\n",
    "    src.append(img.get_attribute('src'))"
   ]
  },
  {
   "cell_type": "code",
   "execution_count": 188,
   "id": "e05b74dd",
   "metadata": {},
   "outputs": [
    {
     "name": "stdout",
     "output_type": "stream",
     "text": [
      "('Machine_Learning/ML0.jpg', <email.message.Message object at 0x000001C797943760>)\n",
      "('Machine_Learning/ML1.jpg', <email.message.Message object at 0x000001C7979432E0>)\n",
      "('Machine_Learning/ML2.jpg', <email.message.Message object at 0x000001C797946EB0>)\n",
      "('Machine_Learning/ML3.jpg', <email.message.Message object at 0x000001C797946EB0>)\n",
      "('Machine_Learning/ML4.jpg', <email.message.Message object at 0x000001C797943310>)\n",
      "('Machine_Learning/ML5.jpg', <email.message.Message object at 0x000001C797943F40>)\n",
      "('Machine_Learning/ML6.jpg', <email.message.Message object at 0x000001C7979437C0>)\n",
      "('Machine_Learning/ML7.jpg', <email.message.Message object at 0x000001C797943160>)\n",
      "('Machine_Learning/ML8.jpg', <email.message.Message object at 0x000001C797943C40>)\n",
      "('Machine_Learning/ML9.jpg', <email.message.Message object at 0x000001C797943580>)\n"
     ]
    }
   ],
   "source": [
    "for i in range(10):    \n",
    "    print(urllib.request.urlretrieve(str(src[i]),\"Machine_Learning/ML{}.jpg\".format(i)))"
   ]
  },
  {
   "cell_type": "markdown",
   "id": "8ab155b0",
   "metadata": {},
   "source": [
    "# Guitar"
   ]
  },
  {
   "cell_type": "code",
   "execution_count": 189,
   "id": "d55c782b",
   "metadata": {},
   "outputs": [
    {
     "name": "stdout",
     "output_type": "stream",
     "text": [
      "<selenium.webdriver.remote.webelement.WebElement (session=\"be73eb765285fed8b835ece5f57e7eed\", element=\"a8f9959c-1304-47bc-bc61-1a3136c4aee3\")>\n"
     ]
    }
   ],
   "source": [
    "textboxes=driver.find_element(By.CLASS_NAME,\"gLFyf.gsfi\")\n",
    "print(textboxes)\n",
    "textboxes.send_keys(\"Guitar\")\n",
    "WebDriverWait(driver, 20).until(EC.element_to_be_clickable((By.CLASS_NAME, \"zgAlFc\"))).click()"
   ]
  },
  {
   "cell_type": "code",
   "execution_count": 190,
   "id": "6940a3ac",
   "metadata": {},
   "outputs": [],
   "source": [
    "url = (\"https://www.google.com/search?q={s}&tbm=isch&tbs=sur%3Afc&hl=en&ved=0CAIQpwVqFwoTCKCa1c6s4-oCFQAAAAAdAAAAABAC&biw=1251&bih=568\")\n",
    "import time\n",
    "driver.execute_script(\"window.scrollTo(0,document.body.scrollHeight);\")\n",
    "time.sleep(5)"
   ]
  },
  {
   "cell_type": "code",
   "execution_count": 191,
   "id": "d2ebeeb9",
   "metadata": {},
   "outputs": [
    {
     "name": "stdout",
     "output_type": "stream",
     "text": [
      "('Guitar/guitar0.jpg', <email.message.Message object at 0x000001C797946B80>)\n",
      "('Guitar/guitar1.jpg', <email.message.Message object at 0x000001C7979467F0>)\n",
      "('Guitar/guitar2.jpg', <email.message.Message object at 0x000001C797946310>)\n",
      "('Guitar/guitar3.jpg', <email.message.Message object at 0x000001C797946610>)\n",
      "('Guitar/guitar4.jpg', <email.message.Message object at 0x000001C7979468B0>)\n",
      "('Guitar/guitar5.jpg', <email.message.Message object at 0x000001C797946D30>)\n",
      "('Guitar/guitar6.jpg', <email.message.Message object at 0x000001C797946760>)\n",
      "('Guitar/guitar7.jpg', <email.message.Message object at 0x000001C797946220>)\n",
      "('Guitar/guitar8.jpg', <email.message.Message object at 0x000001C797946E50>)\n",
      "('Guitar/guitar9.jpg', <email.message.Message object at 0x000001C7979460D0>)\n"
     ]
    }
   ],
   "source": [
    "imgResults = driver.find_elements(By.XPATH,\"//img[contains(@class,'Q4LuWd')]\")\n",
    "src = []\n",
    "for img in imgResults:\n",
    "    src.append(img.get_attribute('src'))\n",
    "for i in range(10):    \n",
    "    print(urllib.request.urlretrieve(str(src[i]),\"Guitar/guitar{}.jpg\".format(i)))    "
   ]
  },
  {
   "cell_type": "markdown",
   "id": "11adc2eb",
   "metadata": {},
   "source": [
    "# Cakes"
   ]
  },
  {
   "cell_type": "code",
   "execution_count": 192,
   "id": "8ff32d8b",
   "metadata": {},
   "outputs": [
    {
     "name": "stdout",
     "output_type": "stream",
     "text": [
      "<selenium.webdriver.remote.webelement.WebElement (session=\"be73eb765285fed8b835ece5f57e7eed\", element=\"5015e34b-cab3-4630-bdd7-9708e15c4198\")>\n"
     ]
    }
   ],
   "source": [
    "textboxes=driver.find_element(By.CLASS_NAME,\"gLFyf.gsfi\")\n",
    "print(textboxes)\n",
    "textboxes.send_keys(\"Guitar\")\n",
    "WebDriverWait(driver, 20).until(EC.element_to_be_clickable((By.CLASS_NAME, \"zgAlFc\"))).click()"
   ]
  },
  {
   "cell_type": "code",
   "execution_count": 193,
   "id": "0fed2e8f",
   "metadata": {},
   "outputs": [],
   "source": [
    "url = (\"https://www.google.com/search?q={s}&tbm=isch&tbs=sur%3Afc&hl=en&ved=0CAIQpwVqFwoTCKCa1c6s4-oCFQAAAAAdAAAAABAC&biw=1251&bih=568\")\n",
    "import time\n",
    "driver.execute_script(\"window.scrollTo(0,document.body.scrollHeight);\")\n",
    "time.sleep(5)"
   ]
  },
  {
   "cell_type": "code",
   "execution_count": 194,
   "id": "b1b78664",
   "metadata": {},
   "outputs": [
    {
     "name": "stdout",
     "output_type": "stream",
     "text": [
      "('Cakes/cake0.jpg', <email.message.Message object at 0x000001C7977F1EE0>)\n",
      "('Cakes/cake1.jpg', <email.message.Message object at 0x000001C7977F17C0>)\n",
      "('Cakes/cake2.jpg', <email.message.Message object at 0x000001C7977F1AF0>)\n",
      "('Cakes/cake3.jpg', <email.message.Message object at 0x000001C7977F1580>)\n",
      "('Cakes/cake4.jpg', <email.message.Message object at 0x000001C7977F17C0>)\n",
      "('Cakes/cake5.jpg', <email.message.Message object at 0x000001C7977F1910>)\n",
      "('Cakes/cake6.jpg', <email.message.Message object at 0x000001C7977F1EB0>)\n",
      "('Cakes/cake7.jpg', <email.message.Message object at 0x000001C7977F1370>)\n",
      "('Cakes/cake8.jpg', <email.message.Message object at 0x000001C7977F1EE0>)\n",
      "('Cakes/cake9.jpg', <email.message.Message object at 0x000001C7977F1580>)\n"
     ]
    }
   ],
   "source": [
    "imgResults = driver.find_elements(By.XPATH,\"//img[contains(@class,'Q4LuWd')]\")\n",
    "src = []\n",
    "for img in imgResults:\n",
    "    src.append(img.get_attribute('src'))\n",
    "for i in range(10):    \n",
    "    print(urllib.request.urlretrieve(str(src[i]),\"Cakes/cake{}.jpg\".format(i)))    "
   ]
  },
  {
   "cell_type": "markdown",
   "id": "4cb8fc3d",
   "metadata": {},
   "source": [
    "# 4. Write a python program to search for a smartphone(e.g.: Oneplus Nord, pixel 4A, etc.) on www.flipkart.com and scrape following details for all the search results displayed on 1st page. \n",
    "Details to be scraped: “Brand Name”, “Smartphone name”, “Colour”, “RAM”, “Storage(ROM)”, “Primary Camera”, \n",
    "“Secondary Camera”, “Display Size”, “Battery Capacity”, “Price”, “Product URL”. Incase if any of the \n",
    "details is missing then replace it by “- “. Save your results in a dataframe and CSV.\n"
   ]
  },
  {
   "cell_type": "code",
   "execution_count": 316,
   "id": "2af6c3f4",
   "metadata": {},
   "outputs": [],
   "source": [
    "driver.get(\"https://www.flipkart.com\")"
   ]
  },
  {
   "cell_type": "code",
   "execution_count": 198,
   "id": "11a61bee",
   "metadata": {},
   "outputs": [
    {
     "name": "stdout",
     "output_type": "stream",
     "text": [
      "<selenium.webdriver.remote.webelement.WebElement (session=\"be73eb765285fed8b835ece5f57e7eed\", element=\"0a6bf9d6-95f4-4268-887b-6b756be0d7ab\")>\n"
     ]
    }
   ],
   "source": [
    "textboxes=driver.find_element(By.XPATH,\"//*[@id='container']/div/div[1]/div[1]/div[2]/div[2]/form/div/div/input\")\n",
    "print(textboxes)\n",
    "textboxes.send_keys(\"smartphone\")"
   ]
  },
  {
   "cell_type": "code",
   "execution_count": 201,
   "id": "b4286ac9",
   "metadata": {},
   "outputs": [],
   "source": [
    "WebDriverWait(driver, 20).until(EC.element_to_be_clickable((By.CLASS_NAME, \"L0Z3Pu\"))).click()"
   ]
  },
  {
   "cell_type": "code",
   "execution_count": 292,
   "id": "c612ac42",
   "metadata": {},
   "outputs": [
    {
     "name": "stdout",
     "output_type": "stream",
     "text": [
      "APPLE\n",
      "iPhone11\n",
      "Black\n",
      " 128 GB\n",
      "APPLE\n",
      "iPhone11\n",
      "White\n",
      " 128 GB\n",
      "SAMSUNG\n",
      "GalaxyF13\n",
      "Waterfall Blue\n",
      " 64 GB\n",
      "I\n",
      "KallZ15\n",
      "SKY Blue\n",
      " 64 GB\n",
      "APPLE\n",
      "iPhone11\n",
      "White\n",
      " 64 GB\n",
      "SAMSUNG\n",
      "GalaxyF13\n",
      "Sunrise Copper\n",
      " 64 GB\n",
      "APPLE\n",
      "iPhone11\n",
      "Black\n",
      " 64 GB\n",
      "I\n",
      "KallK401PRO\n",
      "SKY BLUE\n",
      " 64 GB\n",
      "APPLE\n",
      "iPhone11\n",
      "Purple\n",
      " 128 GB\n",
      "APPLE\n",
      "iPhone11\n",
      "Green\n",
      " 128 GB\n",
      "APPLE\n",
      "iPhone11\n",
      "Red\n",
      " 64 GB\n",
      "I\n",
      "KallZ8\n",
      "Grey\n",
      " 16 GB\n",
      "POCO\n",
      "C31\n",
      "Royal Blue\n",
      " 32 GB\n",
      "REDMI\n",
      "10\n",
      "Pacific Blue\n",
      " 64 GB\n",
      "SAMSUNG\n",
      "GalaxyF13\n",
      "Nightsky Green\n",
      " 64 GB\n",
      "I\n",
      "KallK401\n",
      "Green\n",
      " 64 GB\n",
      "APPLE\n",
      "iPhone11\n",
      "Purple\n",
      " 64 GB\n",
      "REDMI\n",
      "10\n",
      "Midnight Black\n",
      " 64 GB\n",
      "POCO\n",
      "C31\n",
      "Royal Blue\n",
      " 64 GB\n",
      "I\n",
      "KallK401\n",
      "Dark Blue\n",
      " 64 GB\n",
      "POCO\n",
      "C31\n",
      "Shadow Gray\n",
      " 32 GB\n",
      "realme\n",
      "C35\n",
      "Glowing Black\n",
      " 64 GB\n",
      "APPLE\n",
      "iPhone12\n",
      "Blue\n",
      " 64 GB\n",
      "I\n",
      "KallZ14\n",
      "Grey\n",
      " 64 GB\n",
      "128 GB ROM\n",
      "128 GB ROM\n",
      "4 GB RAM | 64 GB ROM | Expandable Upto 1 TB\n",
      "4 GB RAM | 64 GB ROM | Expandable Upto 64 GB\n",
      "64 GB ROM\n",
      "4 GB RAM | 64 GB ROM | Expandable Upto 1 TB\n",
      "64 GB ROM\n",
      "4 GB RAM | 64 GB ROM | Expandable Upto 64 GB\n",
      "128 GB ROM\n",
      "128 GB ROM\n",
      "64 GB ROM\n",
      "3 GB RAM | 16 GB ROM\n",
      "3 GB RAM | 32 GB ROM | Expandable Upto 512 GB\n",
      "4 GB RAM | 64 GB ROM | Expandable Upto 1 TB\n",
      "4 GB RAM | 64 GB ROM | Expandable Upto 1 TB\n",
      "4 GB RAM | 64 GB ROM\n",
      "64 GB ROM\n",
      "4 GB RAM | 64 GB ROM | Expandable Upto 1 TB\n",
      "4 GB RAM | 64 GB ROM | Expandable Upto 512 GB\n",
      "4 GB RAM | 64 GB ROM | Expandable Upto 64 GB\n",
      "3 GB RAM | 32 GB ROM | Expandable Upto 512 GB\n",
      "4 GB RAM | 64 GB ROM | Expandable Upto 1 TB\n",
      "64 GB ROM\n",
      "4 GB RAM | 64 GB ROM | Expandable Upto 64 GB\n"
     ]
    }
   ],
   "source": [
    "body = driver.find_element(By.XPATH,\"//*[@id='container']/div/div[3]/div[1]/div[2]\")\n",
    "container = body.find_elements(By.CLASS_NAME,'_13oc-S')\n",
    "\n",
    "for phone in container:\n",
    "    Name = item.find_element(By.CLASS_NAME, '_4rR01T').text\n",
    "    features = item.find_elements(By.CLASS_NAME, 'rgWa7D')\n",
    "    for feature in features:\n",
    "        feature.text\n",
    "\n",
    "smartphone=[]         \n",
    "        \n",
    "    #print(item.find_elements(By.CLASS_NAME, 'rgWa7D').text)\n",
    "    data = {\n",
    "        \"FullName\":item.find_element(By.CLASS_NAME, '_4rR01T').text.split(\"(\"),\n",
    "        \"ROM\":item.find_element(By.CLASS_NAME, 'rgWa7D').text,\n",
    "        \"Camera\":item.find_element(By.CLASS_NAME, 'rgWa7D').text\n",
    "        \n",
    "    }\n",
    "    smartphone.append(data)\n",
    "    \n",
    "for name in smartphone:\n",
    "    x=name['FullName'] \n",
    "    \n",
    "    x1=x[0].split()\n",
    "    x2=x[1].replace(')','').split(',')    \n",
    "    Brandname=x1[0]\n",
    "    PhoneName1=x1[1]\n",
    "    try:\n",
    "        PhoneName2=x1[2]    \n",
    "        PhoneName=PhoneName1+PhoneName2    \n",
    "    except:\n",
    "        PhoneName=PhoneName1\n",
    "    print(Brandname)\n",
    "    print(PhoneName)\n",
    "    \n",
    "    color=x2[0]\n",
    "    print(color)\n",
    "    RAM=x2[1]\n",
    "    print(RAM)\n",
    "    \n",
    "for phones in smartphone:\n",
    "    print(phones['ROM'])"
   ]
  },
  {
   "cell_type": "code",
   "execution_count": null,
   "id": "f2046648",
   "metadata": {},
   "outputs": [],
   "source": []
  },
  {
   "cell_type": "markdown",
   "id": "c467bbd7",
   "metadata": {},
   "source": [
    "# 5. Write a program to scrap geospatial coordinates (latitude, longitude) of a city searched on google maps"
   ]
  },
  {
   "cell_type": "code",
   "execution_count": 293,
   "id": "92799744",
   "metadata": {},
   "outputs": [],
   "source": [
    "driver.get(\"https://www.googlemaps.com\")"
   ]
  },
  {
   "cell_type": "code",
   "execution_count": 294,
   "id": "56256ac7",
   "metadata": {},
   "outputs": [
    {
     "name": "stdout",
     "output_type": "stream",
     "text": [
      "<selenium.webdriver.remote.webelement.WebElement (session=\"be73eb765285fed8b835ece5f57e7eed\", element=\"6038c716-7ec1-4683-83d9-5b61fb67ee4c\")>\n"
     ]
    }
   ],
   "source": [
    "textboxes=driver.find_element(By.XPATH,\"//*[@id='searchboxinput']\")\n",
    "print(textboxes)\n",
    "textboxes.send_keys(\"Vadodara\")"
   ]
  },
  {
   "cell_type": "code",
   "execution_count": 295,
   "id": "7cb9751e",
   "metadata": {},
   "outputs": [],
   "source": [
    "WebDriverWait(driver, 20).until(EC.element_to_be_clickable((By.CLASS_NAME, \"pzfvzf\"))).click()"
   ]
  },
  {
   "cell_type": "code",
   "execution_count": 299,
   "id": "362073a8",
   "metadata": {},
   "outputs": [],
   "source": [
    "from time import sleep\n",
    "sleep(2)"
   ]
  },
  {
   "cell_type": "code",
   "execution_count": 305,
   "id": "d5870968",
   "metadata": {
    "scrolled": true
   },
   "outputs": [
    {
     "name": "stdout",
     "output_type": "stream",
     "text": [
      "https://www.google.com/maps/place/Vadodara,+Gujarat/@22.3223601,73.0329981,11z/data=!4m5!3m4!1s0x395fc8ab91a3ddab:0xac39d3bfe1473fb8!8m2!3d22.3071588!4d73.1812187\n",
      "22.3223601\n",
      "73.0329981\n"
     ]
    }
   ],
   "source": [
    "#s = driver.find_element(By.XPATH, '/html/...').get_attribute('href')\n",
    "#lat = float(s.split(',')[0].split('=')[1])\n",
    "#lng = float(s.split(',')[1].split('&')[0])\n",
    "\n",
    "currentULR = driver.current_url\n",
    "print(currentULR)\n",
    "splitURLs=currentULR.split('@')\n",
    "coordinates=splitURLs[1].split(',')\n",
    "print(coordinates[0])\n",
    "print(coordinates[1])"
   ]
  },
  {
   "cell_type": "markdown",
   "id": "892711ce",
   "metadata": {},
   "source": [
    "# 6. Write a program to scrap details of all the funding deals for second quarter (i.e Jan 21 – March 21) from trak.in."
   ]
  },
  {
   "cell_type": "code",
   "execution_count": 317,
   "id": "6e2faf14",
   "metadata": {},
   "outputs": [],
   "source": [
    "driver.get(\"https://trak.in./\")"
   ]
  },
  {
   "cell_type": "code",
   "execution_count": 318,
   "id": "e9ecaa30",
   "metadata": {},
   "outputs": [],
   "source": [
    "WebDriverWait(driver, 20).until(EC.element_to_be_clickable((By.XPATH, \"//*[@id='menu-item-51510']/a\"))).click()"
   ]
  },
  {
   "cell_type": "markdown",
   "id": "5c1da4af",
   "metadata": {},
   "source": [
    "# Jan-21"
   ]
  },
  {
   "cell_type": "code",
   "execution_count": 374,
   "id": "7e712ec2",
   "metadata": {},
   "outputs": [
    {
     "name": "stdout",
     "output_type": "stream",
     "text": [
      "1 15/01/2021 Digit Insurance Financial Services Insurance Services Bengaluru A91 Partners, Faering Capital, TVS Capital Funds Venture 1,80,00,000\n",
      "2 28/01/2021 Bombay Shaving Company Consumer Goods Company Shave care, beard care, and skincare products New Delhi Reckitt Benckiser Venture 6,172,258.50\n",
      "3 19/01/2021 DeHaat AgriTech Startup online marketplace for farm products and services Patna Prosus Ventures Series C 30,000,000\n",
      "4 19/01/2021 Darwinbox SaaS HR Tech Mumbai Salesforce Ventures Seed 15,000,000\n",
      "5 18/01/2021 mfine Health Tech Startup AI-powered telemedicine mobile app Bengaluru Heritas Capital Management Venture Round 16,000,000\n",
      "6 18/01/2021 Udayy EdTech Online learning platform for kids in class 1-5 Gurgaon Sequoia Capital Seed Funding 15,000,000\n",
      "7 11/01/2021 True Elements Food Startup Whole Food plant based Nashta Pune SIDBI Venture Capital Series 100,000,000\n",
      "8 13/01/2021 Saveo B2B E-commerce Pharmacies Bengaluru Matrix Partners India, RTP Global, others Seed 4,000,000\n"
     ]
    }
   ],
   "source": [
    "JanTable = []\n",
    "\n",
    "# Obtain the number of rows in body\n",
    "#print(JanTable)\n",
    "rows = driver.find_elements(By.XPATH,\"//*[@id='tablepress-54']/tbody/tr\")\n",
    "for row in rows:\n",
    "    cols = row.find_elements(By.TAG_NAME,\"td\")\n",
    "    data = {\n",
    "        \"Sr No\":cols[0].text,\n",
    "        \"Date\":cols[1].text,\n",
    "        \"Startup Name\":cols[2].text,\n",
    "        \"Industry/Vehical\": cols[3].text,\n",
    "        \"Sub-Vertical\":cols[4].text,\n",
    "        \"City/Location\":cols[5].text,\n",
    "        \"Investors Name\": cols[6].text,\n",
    "        \"Investment Type\":cols[7].text,\n",
    "        \"Amount\":cols[8].text,\n",
    "    }\n",
    "    JanTable.append(data)\n",
    "\n",
    "for name in JanTable:\n",
    "    print(name['Sr No'],name['Date'],name['Startup Name'],name['Industry/Vehical'],name['Sub-Vertical'],name['City/Location'],name['Investors Name'],name['Investment Type'],name['Amount'])\n",
    "    \n",
    "df=pd.DataFrame(JanTable) \n",
    "df.to_csv('JanTable.csv',index=False)"
   ]
  },
  {
   "cell_type": "markdown",
   "id": "fc2df5ab",
   "metadata": {},
   "source": [
    "# Feb 21"
   ]
  },
  {
   "cell_type": "code",
   "execution_count": 376,
   "id": "4ae5a521",
   "metadata": {},
   "outputs": [
    {
     "name": "stdout",
     "output_type": "stream",
     "text": [
      "1 11/02/2021 Doubtnut Edu Tech E-Learning Platform Gurgaon SIG Global, Sequoia Capital, WaterBridge Ventures and ON Mauritius Series B 2,500,000\n",
      "2 22/02/2021 Zomato Hospitality Online Food Delivery Platform Gurgaon Tiger Global, Kora Venture 250,000,000\n",
      "3 19/02/2021 Fingerlix Hospitality Semi-cooked food delivery app Mumbai Rhodium Trust, Accel Partners and Swiggy Series C 2,747,045.20\n",
      "4 17/02/2021 Zolve FinTech Global Neobank Venture Mumbai Accel Partners and Lightspeed Venture Partners Seed 1,50,00,000\n",
      "5 15/02/2021 KreditBee Finance Digital lending platform Bengaluru Azim Premji’s PremjiInvest and South Korea’s Mirae Asset Venture Series C 75,000,000\n",
      "6 12/02/2021 Pepperfry E-commerce Multi-brand furniture brand Mumbai InnoVen Capital Debt Financing 4,773,958\n",
      "7 12/02/2021 Grofers E-Commerce Online supermarket Gurgaon SoftBank Vision Fund (SVF) Unspecified 55,000,000\n",
      "8 09/02/2021 Nothing Technology Consumer Technology Venture London GV Series A 15,000,000\n",
      "9 09/02/2021 SplashLearn EdTech Game-based learning programme Gurgaon Owl Ventures Series C 18,000,000\n"
     ]
    }
   ],
   "source": [
    "FebTable = []\n",
    "\n",
    "rows = driver.find_elements(By.XPATH,\"//*[@id='tablepress-55']/tbody/tr\")\n",
    "for row in rows:\n",
    "    cols = row.find_elements(By.TAG_NAME,\"td\")\n",
    "    data = {\n",
    "        \"Sr No\":cols[0].text,\n",
    "        \"Date\":cols[1].text,\n",
    "        \"Startup Name\":cols[2].text,\n",
    "        \"Industry/Vehical\": cols[3].text,\n",
    "        \"Sub-Vertical\":cols[4].text,\n",
    "        \"City/Location\":cols[5].text,\n",
    "        \"Investors Name\": cols[6].text,\n",
    "        \"Investment Type\":cols[7].text,\n",
    "        \"Amount\":cols[8].text,\n",
    "    }\n",
    "    FebTable.append(data)\n",
    "    \n",
    "for name in FebTable:\n",
    "    print(name['Sr No'],name['Date'],name['Startup Name'],name['Industry/Vehical'],name['Sub-Vertical'],name['City/Location'],name['Investors Name'],name['Investment Type'],name['Amount'])\n",
    "    \n",
    "df=pd.DataFrame(FebTable) \n",
    "df.to_csv('FebTable.csv',index=False)    "
   ]
  },
  {
   "cell_type": "markdown",
   "id": "e4e4ecd5",
   "metadata": {},
   "source": [
    "# Mar 21"
   ]
  },
  {
   "cell_type": "code",
   "execution_count": 377,
   "id": "870c7e5f",
   "metadata": {},
   "outputs": [
    {
     "name": "stdout",
     "output_type": "stream",
     "text": [
      "1 04/03/2021 DealShare E-commerce Online shopping platform Jaipur, Rajasthan Innoven Capital Debt Financing 250,000,000\n",
      "2 31/03/2021 Uniphore Technology Conversational Service Automation (CSA) Palo Alto Sorenson Capital Partners Series D 140,000,000\n",
      "3 30/03/2021 Dunzo E-commerce Hyper-local delivery app Bengaluru Krishtal Advisors Pte Ltd Series E 8,000,000\n",
      "4 30/03/2021 BYJU’S Edu-tech Online tutoring Bengaluru MC Global Edtech, B Capital, Baron, others Series F 460,000,000\n",
      "5 23/03/2021 SkilloVilla Edu-tech Career and job-oriented upskilling. Bengaluru Titan Capital, others Seed 300,000,000\n",
      "6 25/03/2021 CityMall E-commerce Social ecommerce and online grocery platform Gurgaon Accel Partners Series A 11,000,000\n",
      "7 26/03/2021 DotPe FinTech Commerce and payments platform to offline enterprise businesses. Gurgaon PayU Series A 27,500,000\n"
     ]
    }
   ],
   "source": [
    "MarTable = []\n",
    "\n",
    "rows = driver.find_elements(By.XPATH,\"//*[@id='tablepress-56']/tbody/tr\")\n",
    "for row in rows:\n",
    "    cols = row.find_elements(By.TAG_NAME,\"td\")\n",
    "    data = {\n",
    "        \"Sr No\":cols[0].text,\n",
    "        \"Date\":cols[1].text,\n",
    "        \"Startup Name\":cols[2].text,\n",
    "        \"Industry/Vehical\": cols[3].text,\n",
    "        \"Sub-Vertical\":cols[4].text,\n",
    "        \"City/Location\":cols[5].text,\n",
    "        \"Investors Name\": cols[6].text,\n",
    "        \"Investment Type\":cols[7].text,\n",
    "        \"Amount\":cols[8].text,\n",
    "    }\n",
    "    MarTable.append(data)\n",
    "    \n",
    "for name in MarTable:\n",
    "    print(name['Sr No'],name['Date'],name['Startup Name'],name['Industry/Vehical'],name['Sub-Vertical'],name['City/Location'],name['Investors Name'],name['Investment Type'],name['Amount'])\n",
    "    \n",
    "df=pd.DataFrame(MarTable) \n",
    "df.to_csv('MarTable.csv',index=False) "
   ]
  },
  {
   "cell_type": "markdown",
   "id": "108c90c5",
   "metadata": {},
   "source": [
    "# 7. Write a program to scrap all the available details of best gaming laptops from digit.in"
   ]
  },
  {
   "cell_type": "code",
   "execution_count": 432,
   "id": "b6aa9353",
   "metadata": {},
   "outputs": [],
   "source": [
    "driver.get(\"https://www.digit.in/\")"
   ]
  },
  {
   "cell_type": "code",
   "execution_count": 433,
   "id": "1ed133fc",
   "metadata": {},
   "outputs": [],
   "source": [
    "WebDriverWait(driver, 20).until(EC.element_to_be_clickable((By.XPATH, \"/html/body/div[3]/div/div[2]/div[2]/div[7]/ul/li[9]/a\"))).click()"
   ]
  },
  {
   "cell_type": "code",
   "execution_count": 443,
   "id": "8e07e63a",
   "metadata": {},
   "outputs": [
    {
     "name": "stdout",
     "output_type": "stream",
     "text": [
      "12th Gen Intel Core i9-12900HX 16 core processor 17.3″ (3840 x 2160) screen, 120 Hz refresh rate Windows 11 Home 64 GB DDR5 RAM & 2 TB SSD 16 GB DDR6 NVIDIA GeForce RTX 3080 Ti Graphics card 397 x 330 x 23 mm dimension & 3.3 kg weight\n",
      "12th Gen Intel Core i9-12900H 14 core processor with 5 GHz clock speed 17.3″ (1920 x 1080) screen, 360 Hz refresh rate Windows 11 Home 32 GB DDR5 RAM & 1 TB SSD 16 GB DDR6 NVIDIA GEFORCE RTX 3080 Ti Graphics card 299 x 359 x 21 mm dimension & 2.96 kg weight\n",
      "12th Gen Intel Core i7-12700H 14 core processor with 3.50 GHz clock speed 16″ (2560 x 1600) screen, 240 Hz refresh rate Windows 11 Home 32 GB DDR5 RAM & 2 TB SSD 8 GB DDR6 NVIDIA GeForce RTXTM 3070 Ti Graphics card 358 x 262 x 19.9 mm dimension & 2.4 kg weight\n",
      "12th Gen Intel Core i7-12700H 14 core processor with 4.7 GHz clock speed 16.1″ (2560 x 1440) screen Windows 11 Home 8 GB DDR5 RAM & 1 TB SSD 8 GB GDDR6 NVIDIA GeForce RTX 3070 Graphics card 369 x 248 x 23 mm dimension & 2.32 kg weight\n",
      "AMD Ryzen 9-5900HX 8 core processor 15.6″ (2560 x 1440) screen, 165 Hz refresh rate Windows 11 Home 16 GB DDR4 RAM & 512 GB SSD 8 GB DDR6 NVIDIA GeForce RTX 3070 Graphics card 363 x 255 x 23.9 mm dimension & 2.4 kg weight\n",
      "AMD 5th Gen Ryzen 9-5900HX 8 core processor with 3.3GHz clock speed 15.6″ (1920 x 1080) screen, 240Hz refresh rate Windows 11 Home 16 GB DDR4 RAM & 1 TB SSD 10 GB DDR6 AMD Radeon RX 6700M Graphics card 357 x 247 x 19 mm dimension & 1.9 kg weight\n",
      "AMD Ryzen™ 9 5900HX 8 core processor with 3.3 GHz clock speed 16.1″ (2560 x 1440) screen Windows 11 Home 16 GB DDR4 RAM & 1 TB NVMe 8 GB GDDR6 AMD Radeon™ RX 6600M Graphics card 36.92 x 24.8 x 2.3 mm dimension & 2.3 kg weight\n",
      "12th Gen Intel Core i7-12700H 14 core processor with 2.3 GHz clock speed 16″ (2560 x 1600) screen, 165 Hz refresh rate Windows 11 Home 16 GB DDR5 RAM & 1 TB SSD 6 GB DDR6 NVIDIA GeForce RTX 3060 Graphics card 360 x 264 x 20 mm dimension & 2.49 kg weight\n",
      "AMD Ryzen R7-5800H 8 core processor with 4.40 GHz clock speed 15.6″ (1920 x 1080) screen, 165Hz refresh rate Windows 11 Home 16 GB DDR4 RAM & 512 GB SSD 6 GB DDR6 NVIDIA GeForce RTX 3060 Graphics card 356.2 x 272.5 x 22.85 mm dimension & 2.69 kg weight\n",
      "Lenovo Ryzen 7-5800H processor with 3.2 GHz clock speed 15.6″ screen, 165 Hz refresh rate Windows 11 Home 16 GB DDR4 RAM & 1 TB SSD 6 GB DDR6 NVIDIA GeForce 3060 Max-Q Graphics card 356 x 252 x 16 mm dimension & 1.9 kg weight\n"
     ]
    }
   ],
   "source": [
    "body = driver.find_element(By.XPATH,\"/html/body/div[5]/div[1]/div[3]/div[2]\")\n",
    "laptop=[]\n",
    "products = driver.find_elements(By.CLASS_NAME,'specfpro_details_cont')\n",
    "for product in products:\n",
    "    #print(product.find_elements(By.CLASS_NAME, 'TopNumbeHeading'))\n",
    "    rows = product.find_elements(By.CLASS_NAME,\"Spcs-details\")\n",
    "    for row in rows:\n",
    "        cols = row.find_elements(By.TAG_NAME,\"td\")\n",
    "\n",
    "        data =  { \n",
    "            #\"Name\":product.find_elements(By.CLASS_NAME, 'TopNumbeHeading').text,\n",
    "            \"Processor\":cols[2].text,\n",
    "            \"Display\":cols[5].text,\n",
    "            \"OS\":cols[8].text,\n",
    "            \"Memory\":cols[11].text,\n",
    "            \"Graphics Processor\":cols[14].text,\n",
    "            \"Body\":cols[17].text\n",
    "            }\n",
    "        laptop.append(data)\n",
    "\n",
    "        \n",
    "for name in laptop:\n",
    "    print(name['Processor'],name['Display'],name['OS'],name['Memory'],name['Graphics Processor'],name['Body'])\n",
    "\n",
    "df=pd.DataFrame(laptop)    "
   ]
  },
  {
   "cell_type": "code",
   "execution_count": null,
   "id": "4a7150ba",
   "metadata": {},
   "outputs": [],
   "source": []
  },
  {
   "cell_type": "markdown",
   "id": "c4c392e5",
   "metadata": {},
   "source": [
    "# 8. Write a python program to scrape the details for all billionaires from www.forbes.com. Details to be scrapped: “Rank”, “Name”, “Net worth”, “Age”, “Citizenship”, “Source”, “Industry”."
   ]
  },
  {
   "cell_type": "code",
   "execution_count": 453,
   "id": "a6943bb5",
   "metadata": {},
   "outputs": [],
   "source": [
    "driver.get(\"http://www.forbes.com/\")"
   ]
  },
  {
   "cell_type": "code",
   "execution_count": 454,
   "id": "6ec4f6b3",
   "metadata": {},
   "outputs": [],
   "source": [
    "WebDriverWait(driver, 20).until(EC.element_to_be_clickable((By.XPATH, \"//*[@id='globalHeaderMenu']/div/div[2]/ul/li[1]/div[2]/div[2]/ul/li[1]/a\"))).click()"
   ]
  },
  {
   "cell_type": "code",
   "execution_count": 467,
   "id": "6f54f008",
   "metadata": {},
   "outputs": [
    {
     "name": "stdout",
     "output_type": "stream",
     "text": [
      "1. Elon Musk $219 B 50 United States Tesla, SpaceX Automotive\n",
      "2. Jeff Bezos $171 B 58 United States Amazon Technology\n",
      "3. Bernard Arnault & family $158 B 73 France LVMH Fashion & Retail\n",
      "4. Bill Gates $129 B 66 United States Microsoft Technology\n",
      "5. Warren Buffett $118 B 91 United States Berkshire Hathaway Finance & Investments\n",
      "6. Larry Page $111 B 49 United States Google Technology\n",
      "7. Sergey Brin $107 B 48 United States Google Technology\n",
      "8. Larry Ellison $106 B 77 United States software Technology\n",
      "9. Steve Ballmer $91.4 B 66 United States Microsoft Technology\n",
      "10. Mukesh Ambani $90.7 B 64 India diversified Diversified\n",
      "11. Gautam Adani & family $90 B 59 India infrastructure, commodities Diversified\n",
      "12. Michael Bloomberg $82 B 80 United States Bloomberg LP Media & Entertainment\n",
      "13. Carlos Slim Helu & family $81.2 B 82 Mexico telecom Telecom\n",
      "14. Francoise Bettencourt Meyers & family $74.8 B 68 France L'Oréal Fashion & Retail\n",
      "15. Mark Zuckerberg $67.3 B 37 United States Facebook Technology\n",
      "16. Jim Walton $66.2 B 73 United States Walmart Fashion & Retail\n",
      "17. Zhong Shanshan $65.7 B 67 China beverages, pharmaceuticals Food & Beverage\n",
      "18. Alice Walton $65.3 B 72 United States Walmart Fashion & Retail\n",
      "19. Rob Walton $65 B 77 United States Walmart Fashion & Retail\n",
      "19. Changpeng Zhao $65 B 44 Canada cryptocurrency exchange Finance & Investments\n",
      "21. Charles Koch $60 B 86 United States Koch Industries Diversified\n",
      "21. Julia Koch & family $60 B 59 United States Koch Industries Diversified\n",
      "23. Amancio Ortega $59.6 B 86 Spain Zara Fashion & Retail\n",
      "24. Michael Dell $55.1 B 57 United States Dell computers Technology\n",
      "25. Zhang Yiming $50 B 38 China TikTok Media & Entertainment\n",
      "26. David Thomson & family $49.2 B 64 Canada media Media & Entertainment\n",
      "27. Phil Knight & family $47.3 B 84 United States Nike Fashion & Retail\n",
      "28. Dieter Schwarz $47.1 B 82 Germany retail Fashion & Retail\n",
      "29. Robin Zeng $44.8 B 53 Hong Kong batteries Automotive\n",
      "30. MacKenzie Scott $43.6 B 51 United States Amazon Technology\n",
      "31. Rodolphe Saadé & family $41.4 B 52 France shipping Logistics\n",
      "32. François Pinault & family $40.4 B 85 France luxury goods Fashion & Retail\n",
      "33. Klaus-Michael Kuehne $37.3 B 84 Germany shipping Logistics\n",
      "34. Ma Huateng $37.2 B 50 China internet media Technology\n",
      "35. Beate Heister & Karl Albrecht Jr. & family $36.8 B N/A Germany supermarkets Fashion & Retail\n",
      "36. Giovanni Ferrero $36.2 B 57 Italy Nutella, chocolates Food & Beverage\n",
      "37. Li Ka-shing $34.8 B 93 Hong Kong diversified Diversified\n",
      "37. Stephen Schwarzman $34.8 B 75 United States investments Finance & Investments\n",
      "39. Lee Shau Kee $32.6 B 94 Hong Kong real estate Real Estate\n",
      "40. Len Blavatnik $32.5 B 64 United States music, chemicals Diversified\n",
      "41. Jacqueline Mars $31.7 B 82 United States candy, pet food Food & Beverage\n",
      "41. John Mars $31.7 B 86 United States candy, pet food Food & Beverage\n",
      "43. Alain Wertheimer $31.2 B 73 France Chanel Fashion & Retail\n",
      "43. Gerard Wertheimer $31.2 B 71 France Chanel Fashion & Retail\n",
      "45. German Larrea Mota Velasco & family $30.8 B 68 Mexico mining Metals & Mining\n",
      "46. Gina Rinehart $30.2 B 68 Australia mining Metals & Mining\n",
      "47. Shiv Nadar $28.7 B 76 India software services Technology\n",
      "48. Jim Simons $28.6 B 83 United States hedge funds Finance & Investments\n",
      "49. He Xiangjian $28.3 B 79 China home appliances Manufacturing\n",
      "50. Miriam Adelson $27.5 B 76 United States casinos Gambling & Casinos\n",
      "51. Dietrich Mateschitz $27.4 B 77 Austria Red Bull Food & Beverage\n",
      "52. Leonardo Del Vecchio & family $27.3 B 86 Italy eyeglasses Fashion & Retail\n",
      "53. Ken Griffin $27.2 B 53 United States hedge funds Finance & Investments\n",
      "54. Tadashi Yanai & family $26.1 B 73 Japan fashion retail Fashion & Retail\n",
      "55. William Lei Ding $25.2 B 50 China online games Technology\n",
      "56. Susanne Klatten $24.3 B 59 Germany BMW, pharmaceuticals Automotive\n",
      "56. Cyrus Poonawalla $24.3 B 80 India vaccines Healthcare\n",
      "56. Wang Wei $24.3 B 51 China package delivery Service\n",
      "59. Qin Yinglin $24.1 B 56 China pig breeding Food & Beverage\n",
      "60. Sam Bankman-Fried $24 B 30 United States cryptocurrency exchange Finance & Investments\n",
      "61. Takemitsu Takizaki $23.9 B 76 Japan sensors Manufacturing\n",
      "62. Li Shufu $23.7 B 58 China automobiles Automotive\n",
      "63. Emmanuel Besnier $23.5 B 51 France cheese Food & Beverage\n",
      "64. R. Budi Hartono $23.2 B 81 Indonesia banking, tobacco Finance & Investments\n",
      "65. Leonard Lauder $23.1 B 89 United States Estee Lauder Fashion & Retail\n",
      "66. Guillaume Pousaz $23 B 40 Switzerland fintech Finance & Investments\n",
      "67. Iris Fontbona & family $22.8 B 79 Chile mining Metals & Mining\n",
      "67. Jack Ma $22.8 B 57 China e-commerce Technology\n",
      "69. Michael Hartono $22.3 B 82 Indonesia banking, tobacco Manufacturing\n",
      "70. Eric Schmidt $22.1 B 66 United States Google Technology\n",
      "71. Ray Dalio $22 B 72 United States hedge funds Finance & Investments\n",
      "71. Daniel Gilbert $22 B 60 United States Quicken Loans Finance & Investments\n",
      "73. Thomas Frist, Jr. & family $21.8 B 83 United States hospitals Healthcare\n",
      "74. Masayoshi Son $21.3 B 64 Japan internet, telecom Telecom\n",
      "75. Abigail Johnson $21.2 B 60 United States money management Finance & Investments\n",
      "76. Rupert Murdoch & family $20.8 B 91 United States newspapers, TV network Media & Entertainment\n",
      "77. Stefan Quandt $20.7 B 55 Germany BMW Automotive\n",
      "78. Jensen Huang $20.6 B 59 United States semiconductors Technology\n",
      "79. Huang Shilin $20.3 B 55 China batteries Automotive\n",
      "80. Thomas Peterffy $20.1 B 77 United States discount brokerage Finance & Investments\n",
      "81. Radhakishan Damani $20 B 67 India retail, investments Fashion & Retail\n",
      "82. Pang Kang $19.6 B 66 China soy sauce Food & Beverage\n",
      "83. Wang Chuanfu $19.5 B 56 China batteries, automobiles Automotive\n",
      "84. Reinhold Wuerth & family $19 B 86 Germany fasteners Manufacturing\n",
      "85. Theo Albrecht, Jr. & family $18.7 B 71 Germany Aldi, Trader Joe's Fashion & Retail\n",
      "85. Yang Huiyan & family $18.7 B 40 China real estate Real Estate\n",
      "87. Vladimir Lisin $18.4 B 65 Russia steel, transport Metals & Mining\n",
      "88. Fan Hongwei & family $18.2 B 55 China petrochemicals Energy\n",
      "89. Lakshmi Mittal $17.9 B 71 India steel Metals & Mining\n",
      "90. Andrew Forrest $17.8 B 60 Australia mining Metals & Mining\n",
      "91. Jiang Rensheng & family $17.7 B 68 China vaccines Healthcare\n",
      "91. Savitri Jindal & family $17.7 B 72 India steel Metals & Mining\n",
      "91. Wang Wenyin $17.7 B 54 China mining, copper products Metals & Mining\n",
      "94. Li Xiting $17.6 B 71 Singapore medical devices Healthcare\n",
      "94. Stefan Persson $17.6 B 74 Sweden H&M Fashion & Retail\n",
      "96. Steve Cohen $17.4 B 65 United States hedge funds Finance & Investments\n",
      "97. Vladimir Potanin $17.3 B 61 Russia metals Metals & Mining\n",
      "98. Harold Hamm & family $17.2 B 76 United States oil & gas Energy\n",
      "99. Sun Piaoyang $17.1 B 63 China pharmaceuticals Healthcare\n",
      "100. Luo Liguo & family $17 B 66 China chemicals Manufacturing\n",
      "100. Peter Woo $17 B 75 Hong Kong real estate Real Estate\n",
      "102. Gianluigi & Rafaela Aponte $16.8 B 81 Switzerland Shipping Logistics\n",
      "103. David Tepper $16.7 B 64 United States hedge funds Finance & Investments\n",
      "104. Renata Kellnerova & family $16.6 B 54 Czechia finance, telecommunications Finance & Investments\n",
      "104. John Menard, Jr. $16.6 B 82 United States home improvement stores Fashion & Retail\n",
      "106. Kumar Birla $16.5 B 54 India commodities Diversified\n",
      "106. Carl Icahn $16.5 B 86 United States investments Finance & Investments\n",
      "106. Hank & Doug Meijer $16.5 B N/A United States supermarkets Fashion & Retail\n",
      "106. Lukas Walton $16.5 B 35 United States Walmart Fashion & Retail\n",
      "110. Laurene Powell Jobs & family $16.4 B 58 United States Apple, Disney Technology\n",
      "111. James Ratcliffe $16.3 B 69 United Kingdom chemicals Manufacturing\n",
      "112. Donald Bren $16.2 B 89 United States real estate Real Estate\n",
      "113. Xu Hang $16.1 B 55 Hong Kong medical devices Healthcare\n",
      "114. Lu Xiangyang $15.7 B 59 China automobiles, batteries Automotive\n",
      "115. Dilip Shanghvi $15.6 B 66 India pharmaceuticals Healthcare\n",
      "116. Wei Jianjun & family $15.5 B 58 China automobiles Automotive\n",
      "117. Jorge Paulo Lemann & family $15.4 B 82 Brazil beer Food & Beverage\n",
      "117. Eyal Ofer $15.4 B 71 Israel real estate, shipping Diversified\n",
      "119. Mike Cannon-Brookes $15.3 B 42 Australia software Technology\n",
      "119. Wu Yajun $15.3 B 58 China real estate Real Estate\n",
      "121. Charlene de Carvalho-Heineken & family $15.2 B 67 Netherlands Heineken Food & Beverage\n",
      "121. Michael Platt $15.2 B 54 United Kingdom hedge funds Finance & Investments\n",
      "123. Pavel Durov $15.1 B 37 United Arab Emirates messaging app Technology\n",
      "123. Scott Farquhar $15.1 B 42 Australia software Technology\n",
      "125. Pallonji Mistry $15 B 92 Ireland construction Construction & Engineering\n",
      "126. Dang Yanbao $14.8 B 49 China coal Metals & Mining\n",
      "127. Robert Pera $14.6 B 44 United States wireless networking gear Technology\n",
      "128. Donald Newhouse $14.4 B 92 United States media Media & Entertainment\n",
      "129. Uday Kotak $14.3 B 63 India banking Finance & Investments\n",
      "130. Aliko Dangote $14 B 64 Nigeria cement, sugar Manufacturing\n",
      "130. Leonid Mikhelson $14 B 66 Russia gas, chemicals Energy\n",
      "132. Sunil Mittal & family $13.9 B 64 India telecom Telecom\n",
      "133. Robert & Philip Ng $13.7 B N/A Singapore real estate Real Estate\n",
      "134. Liu Hanyuan $13.65 B 58 China agribusiness Food & Beverage\n",
      "135. Joseph Lau $13.6 B 70 Hong Kong real estate Real Estate\n",
      "135. Anders Holch Povlsen $13.6 B 49 Denmark fashion retail Fashion & Retail\n",
      "137. Dhanin Chearavanont $13.5 B 82 Thailand diversified Diversified\n",
      "138. Gong Hongjia & family $13.2 B 57 Hong Kong video surveillance Finance & Investments\n",
      "138. Liu Yongxing $13.2 B 73 China diversified Service\n",
      "138. Alexey Mordashov $13.2 B 56 Russia steel, investments Metals & Mining\n",
      "138. Wang Jianlin $13.2 B 67 China real estate Real Estate\n",
      "142. David Duffield $12.9 B 81 United States business software Technology\n",
      "142. Li Zhenguo & family $12.9 B 54 China solar wafers and modules Manufacturing\n",
      "144. Harry Triguboff $12.8 B 89 Australia real estate Real Estate\n",
      "144. Zhang Zhidong $12.8 B 50 China internet media Technology\n",
      "146. Chen Bang $12.7 B 56 China hospitals Healthcare\n",
      "146. John Doerr $12.7 B 70 United States venture capital Technology\n",
      "146. Hinduja brothers $12.7 B N/A United Kingdom diversified Diversified\n",
      "149. Kwong Siu-hing $12.6 B 92 Hong Kong real estate Real Estate\n",
      "150. Pei Zhenhua $12.5 B 63 China batteries Energy\n",
      "151. Ricardo Salinas Pliego & family $12.4 B 66 Mexico retail, media Fashion & Retail\n",
      "152. Jim Pattison $12.2 B 93 Canada diversified Diversified\n",
      "152. Charles Schwab $12.2 B 84 United States discount brokerage Finance & Investments\n",
      "154. Goh Cheng Liang $12.1 B 94 Singapore paints Manufacturing\n",
      "154. Lin Jianhua & family $12.1 B 59 China solar panel components Manufacturing\n",
      "156. Charoen Sirivadhanabhakdi $12 B 77 Thailand alcohol, real estate Food & Beverage\n",
      "156. Jeff Yass $12 B 63 United States trading, investments Finance & Investments\n",
      "158. John Fredriksen $11.9 B 77 Cyprus shipping Logistics\n",
      "158. Andreas Struengmann & family $11.9 B 72 Germany pharmaceuticals Healthcare\n",
      "158. Thomas Struengmann & family $11.9 B 72 Germany pharmaceuticals Healthcare\n",
      "161. Mikhail Fridman $11.8 B 57 Russia oil, banking, telecom Energy\n",
      "161. Sarath Ratanavadi $11.8 B 56 Thailand energy Energy\n",
      "163. Robert Kuok $11.7 B 98 Malaysia palm oil, shipping, property Diversified\n",
      "163. Lei Jun $11.7 B 52 China smartphones Technology\n",
      "163. Zhang Congyuan $11.7 B 74 Taiwan shoes Fashion & Retail\n",
      "166. Lui Che Woo $11.6 B 93 Hong Kong casinos/hotels Gambling & Casinos\n",
      "167. Brian Chesky $11.5 B 40 United States Airbnb Technology\n",
      "167. Israel Englander $11.5 B 73 United States hedge funds Finance & Investments\n",
      "167. Dustin Moskovitz $11.5 B 37 United States Facebook Technology\n",
      "167. Alisher Usmanov $11.5 B 68 Russia steel, telecom, investments Metals & Mining\n",
      "171. Jay Chaudhry $11.4 B 62 United States security software Technology\n",
      "171. Anthony Pratt $11.4 B 61 Australia manufacturing Manufacturing\n",
      "173. Colin Zheng Huang $11.3 B 42 China e-commerce Technology\n",
      "173. Jin Baofang $11.3 B 69 China solar panels Energy\n",
      "173. Pierre Omidyar $11.3 B 54 United States eBay, PayPal Technology\n",
      "173. Gennady Timchenko $11.3 B 69 Russia oil, gas Energy\n",
      "177. Carl Cook $11.1 B 59 United States medical devices Healthcare\n",
      "177. Andrey Melnichenko $11.1 B 50 Russia coal, fertilizers Metals & Mining\n",
      "179. Xing Wang $11 B 43 China e-commerce Technology\n",
      "180. Philip Anschutz $10.9 B 82 United States investments Finance & Investments\n",
      "180. David Cheriton $10.9 B 71 Canada Google Technology\n",
      "180. Alexander Otto $10.9 B 54 Germany real estate Real Estate\n",
      "183. Diane Hendricks $10.7 B 75 United States roofing Construction & Engineering\n",
      "183. Stanley Kroenke $10.7 B 74 United States sports, real estate Sports\n",
      "185. Jerry Jones $10.6 B 79 United States Dallas Cowboys Sports\n",
      "185. Quek Leng Chan $10.6 B 80 Malaysia banking, property Diversified\n",
      "185. Eduardo Saverin $10.6 B 40 Brazil Facebook Media & Entertainment\n",
      "188. Vagit Alekperov $10.5 B 71 Russia oil Energy\n",
      "188. Richard Liu $10.5 B 48 China e-commerce Technology\n",
      "188. Idan Ofer $10.5 B 66 Israel shipping Diversified\n",
      "191. Melker Schorling & family $10.4 B 74 Sweden investments Finance & Investments\n",
      "192. Chase Coleman, III. $10.3 B 46 United States investments Finance & Investments\n",
      "192. Shuirong Li $10.3 B 65 China petrochemicals Manufacturing\n",
      "192. Stefano Pessina $10.3 B 80 Monaco drugstores Fashion & Retail\n",
      "192. Mikhail Prokhorov $10.3 B 56 Russia investments Finance & Investments\n",
      "192. Marcel Herrmann Telles $10.3 B 72 Brazil beer Food & Beverage\n",
      "197. Leon Black $10 B 70 United States private equity Finance & Investments\n",
      "197. Joe Gebbia $10 B 40 United States Airbnb Technology\n",
      "197. David Geffen $10 B 79 United States movies, record labels Media & Entertainment\n",
      "197. Yu Renrong $10 B 56 China semiconductors Manufacturing\n"
     ]
    }
   ],
   "source": [
    "body = driver.find_element(By.XPATH,\"//*[@id='gatsby-focus-wrapper']/div/div/div[3]/div[2]/div[2]\")\n",
    "billionaires=[]\n",
    "products = driver.find_elements(By.CLASS_NAME,'table-row')\n",
    "#print(products)\n",
    "for product in products:    \n",
    "    data = {\n",
    "        \"Rank\":product.find_element(By.CLASS_NAME, 'rank').text,\n",
    "        \"Name\":product.find_element(By.CLASS_NAME, 'personName').text,\n",
    "        \"NetWorth\":product.find_element(By.CLASS_NAME, 'netWorth').text,\n",
    "        \"Age\":product.find_element(By.CLASS_NAME, 'age').text,\n",
    "        \"Country/Territory\":product.find_element(By.CLASS_NAME, 'countryOfCitizenship').text,\n",
    "        \"Source\":product.find_element(By.CLASS_NAME, 'source-text').text,\n",
    "        \"Industry\":product.find_element(By.CLASS_NAME, 'category').text\n",
    "    }\n",
    "    billionaires.append(data)\n",
    "\n",
    "\n",
    "    \n",
    "for name in billionaires:\n",
    "    print(name['Rank'],name['Name'],name['NetWorth'],name['Age'],name['Country/Territory'],name['Source'],name['Industry'])\n",
    "    "
   ]
  },
  {
   "cell_type": "markdown",
   "id": "e1b39a76",
   "metadata": {},
   "source": [
    "# 9. Write a program to extract at least 500 Comments, Comment upvote and time when comment was posted from any YouTube Video.\n"
   ]
  },
  {
   "cell_type": "code",
   "execution_count": 503,
   "id": "ec340e00",
   "metadata": {},
   "outputs": [],
   "source": [
    "driver.get(\"https://www.youtube.com/\")"
   ]
  },
  {
   "cell_type": "code",
   "execution_count": 505,
   "id": "85259646",
   "metadata": {},
   "outputs": [
    {
     "ename": "TimeoutException",
     "evalue": "Message: \n",
     "output_type": "error",
     "traceback": [
      "\u001b[1;31m---------------------------------------------------------------------------\u001b[0m",
      "\u001b[1;31mTimeoutException\u001b[0m                          Traceback (most recent call last)",
      "\u001b[1;32m~\\AppData\\Local\\Temp/ipykernel_11708/3712864271.py\u001b[0m in \u001b[0;36m<module>\u001b[1;34m\u001b[0m\n\u001b[1;32m----> 1\u001b[1;33m \u001b[0mWebDriverWait\u001b[0m\u001b[1;33m(\u001b[0m\u001b[0mdriver\u001b[0m\u001b[1;33m,\u001b[0m \u001b[1;36m20\u001b[0m\u001b[1;33m)\u001b[0m\u001b[1;33m.\u001b[0m\u001b[0muntil\u001b[0m\u001b[1;33m(\u001b[0m\u001b[0mEC\u001b[0m\u001b[1;33m.\u001b[0m\u001b[0melement_to_be_clickable\u001b[0m\u001b[1;33m(\u001b[0m\u001b[1;33m(\u001b[0m\u001b[0mBy\u001b[0m\u001b[1;33m.\u001b[0m\u001b[0mXPATH\u001b[0m\u001b[1;33m,\u001b[0m \u001b[1;34m\"//*[@id='text']\"\u001b[0m\u001b[1;33m)\u001b[0m\u001b[1;33m)\u001b[0m\u001b[1;33m)\u001b[0m\u001b[1;33m.\u001b[0m\u001b[0mclick\u001b[0m\u001b[1;33m(\u001b[0m\u001b[1;33m)\u001b[0m\u001b[1;33m\u001b[0m\u001b[1;33m\u001b[0m\u001b[0m\n\u001b[0m",
      "\u001b[1;32m~\\anaconda3\\lib\\site-packages\\selenium\\webdriver\\support\\wait.py\u001b[0m in \u001b[0;36muntil\u001b[1;34m(self, method, message)\u001b[0m\n\u001b[0;32m     88\u001b[0m             \u001b[1;32mif\u001b[0m \u001b[0mtime\u001b[0m\u001b[1;33m.\u001b[0m\u001b[0mmonotonic\u001b[0m\u001b[1;33m(\u001b[0m\u001b[1;33m)\u001b[0m \u001b[1;33m>\u001b[0m \u001b[0mend_time\u001b[0m\u001b[1;33m:\u001b[0m\u001b[1;33m\u001b[0m\u001b[1;33m\u001b[0m\u001b[0m\n\u001b[0;32m     89\u001b[0m                 \u001b[1;32mbreak\u001b[0m\u001b[1;33m\u001b[0m\u001b[1;33m\u001b[0m\u001b[0m\n\u001b[1;32m---> 90\u001b[1;33m         \u001b[1;32mraise\u001b[0m \u001b[0mTimeoutException\u001b[0m\u001b[1;33m(\u001b[0m\u001b[0mmessage\u001b[0m\u001b[1;33m,\u001b[0m \u001b[0mscreen\u001b[0m\u001b[1;33m,\u001b[0m \u001b[0mstacktrace\u001b[0m\u001b[1;33m)\u001b[0m\u001b[1;33m\u001b[0m\u001b[1;33m\u001b[0m\u001b[0m\n\u001b[0m\u001b[0;32m     91\u001b[0m \u001b[1;33m\u001b[0m\u001b[0m\n\u001b[0;32m     92\u001b[0m     \u001b[1;32mdef\u001b[0m \u001b[0muntil_not\u001b[0m\u001b[1;33m(\u001b[0m\u001b[0mself\u001b[0m\u001b[1;33m,\u001b[0m \u001b[0mmethod\u001b[0m\u001b[1;33m,\u001b[0m \u001b[0mmessage\u001b[0m\u001b[1;33m:\u001b[0m \u001b[0mstr\u001b[0m \u001b[1;33m=\u001b[0m \u001b[1;34m\"\"\u001b[0m\u001b[1;33m)\u001b[0m\u001b[1;33m:\u001b[0m\u001b[1;33m\u001b[0m\u001b[1;33m\u001b[0m\u001b[0m\n",
      "\u001b[1;31mTimeoutException\u001b[0m: Message: \n"
     ]
    }
   ],
   "source": [
    "WebDriverWait(driver, 20).until(EC.element_to_be_clickable((By.XPATH, \"//*[@id='text']\"))).click()"
   ]
  },
  {
   "cell_type": "code",
   "execution_count": null,
   "id": "266f35c1",
   "metadata": {},
   "outputs": [],
   "source": []
  },
  {
   "cell_type": "code",
   "execution_count": null,
   "id": "e43be6be",
   "metadata": {},
   "outputs": [],
   "source": []
  },
  {
   "cell_type": "code",
   "execution_count": null,
   "id": "e609e928",
   "metadata": {},
   "outputs": [],
   "source": []
  },
  {
   "cell_type": "markdown",
   "id": "3a190dd1",
   "metadata": {},
   "source": [
    "# 10. Write a python program to scrape a data for all available Hostels from https://www.hostelworld.com/ in “London” location. You have to scrape hostel name, distance from city centre, ratings, total reviews,overall reviews, privates from price, dorms from price, facilities and property description"
   ]
  },
  {
   "cell_type": "code",
   "execution_count": 506,
   "id": "ee02d5fb",
   "metadata": {},
   "outputs": [],
   "source": [
    "driver.get(\"https://www.hostelworld.com/\")"
   ]
  },
  {
   "cell_type": "code",
   "execution_count": 507,
   "id": "476d0ec6",
   "metadata": {},
   "outputs": [
    {
     "name": "stdout",
     "output_type": "stream",
     "text": [
      "<selenium.webdriver.remote.webelement.WebElement (session=\"ac1dea3e6351088a5dc40c3143ab5ee3\", element=\"b9b6e132-e0ff-4b2f-ad3c-01b0e75324c9\")>\n"
     ]
    }
   ],
   "source": [
    "textboxes=driver.find_element(By.XPATH,\"//*[@id='location-text-input-field']\")\n",
    "print(textboxes)\n",
    "textboxes.send_keys(\"London\")"
   ]
  },
  {
   "cell_type": "code",
   "execution_count": 508,
   "id": "ca991afb",
   "metadata": {},
   "outputs": [],
   "source": [
    "WebDriverWait(driver, 20).until(EC.element_to_be_clickable((By.XPATH, \"//*[@id='search-button']\"))).click()"
   ]
  },
  {
   "cell_type": "code",
   "execution_count": 562,
   "id": "5e805a24",
   "metadata": {},
   "outputs": [
    {
     "name": "stdout",
     "output_type": "stream",
     "text": [
      "Selina Camden Hostel - 5.5km from city centre 8.3 - - - - - -\n",
      "Urbany Hostel London Hostel - 5.4km from city centre Show on Map 9.3 477 Total Reviews - Rs18704 - Free WiFi\n",
      "Follows Covid-19 sanitation guidance -\n",
      "Safestay London Elephant & Castle Hostel - 1.7km from city centre Show on Map 6.9 4529 Total Reviews - Rs4367 - Free WiFi\n",
      "Follows Covid-19 sanitation guidance -\n",
      "Saint James Backpackers Hostel - 5.5km from city centre Show on Map 6.9 1828 Total Reviews - Rs17684 Rs6015 Free WiFi\n",
      "Free Breakfast\n",
      "Follows Covid-19 sanitation guidance -\n",
      "St Christopher's Oasis-Female Only Hostel - 1.8km from city centre Show on Map 8.2 689 Total Reviews - Rs12870.3 Rs11583 - Free WiFi\n",
      "Follows Covid-19 sanitation guidance -\n",
      "Selina Camden Hostel - 5.5km from city centre Show on Map 8.3 36 Total Reviews - Rs8386.26 Rs7128 - Free WiFi -\n",
      "Britannia Inn Hotel Hotel - 14.5km from city centre Show on Map 8.5 23 Total Reviews - Rs10025 - Free Breakfast\n",
      "Follows Covid-19 sanitation guidance -\n",
      "City Hotel Carlton Hotel - 1.8km from city centre Show on Map 7.5 45 Total Reviews - Rs26443 -  -\n",
      "Elmwood Hotel Hotel - 3.2km from city centre Show on Map 7.0 117 Total Reviews - Rs20341 -  -\n",
      "Kip Hotel Hotel - 6.8km from city centre Show on Map 6.6 54 Total Reviews - Rs11623 - Free WiFi -\n",
      "London House Hotel Hotel - 5.3km from city centre Show on Map 9.4 1382 Total Reviews - Rs26989.47 Rs18893 - Free WiFi -\n",
      "Hotel Shepherds Bush London Hotel - 7.6km from city centre Show on Map - 0 Total Reviews - Rs29054.12 Rs23534 - Free WiFi\n",
      "Follows Covid-19 sanitation guidance -\n",
      "Cranbrook Hotel Hotel - 14.8km from city centre Show on Map - 58 Total Reviews - Rs11623 - Free Breakfast\n",
      "Follows Covid-19 sanitation guidance -\n",
      "Hyde Park Court Hotel Hotel - 4.3km from city centre Show on Map 5.0 139 Total Reviews - Rs14093 - Free WiFi\n",
      "Free Breakfast -\n",
      "Park Hotel Essex Hotel - 24.1km from city centre Show on Map 8.0 109 Total Reviews - Rs25136 - Free Breakfast\n",
      "Follows Covid-19 sanitation guidance -\n"
     ]
    }
   ],
   "source": [
    "body = driver.find_element(By.XPATH,\"//*[@id='__layout']/div/div[2]/div[4]/div/div\")\n",
    "hostels=[]\n",
    "products = driver.find_elements(By.CLASS_NAME,'property-card')\n",
    "#print(products)\n",
    "for product in products:\n",
    "    price = product.find_elements(By.CLASS_NAME, 'price.title-5')\n",
    "    try:\n",
    "        privates = price[0].text\n",
    "    except Exception as ex:\n",
    "        privates = '-'\n",
    "    try:    \n",
    "        dorms = price[1].text\n",
    "    except Exception as ex:\n",
    "        dorms = '-'\n",
    "    try:\n",
    "        ratings = product.find_element(By.CLASS_NAME, 'score').text\n",
    "    except Exception as ex:\n",
    "        ratings = '-'\n",
    "    try:\n",
    "        reviews = product.find_element(By.CLASS_NAME, 'reviews').text\n",
    "    except Exception as ex:\n",
    "        reviews = '-' \n",
    "    try:\n",
    "        facilities = product.find_element(By.CLASS_NAME, 'facilities-label.facilities').text\n",
    "    except Exception as ex:\n",
    "        facilities = '-'   \n",
    "    #print(product.find_element(By.CLASS_NAME, 'score').text)\n",
    "    data = {\n",
    "        \"Name\":product.find_element(By.CLASS_NAME, 'title').text,\n",
    "        \"Distance\":product.find_element(By.CLASS_NAME, 'subtitle.body-3').text,\n",
    "        \"Ratings\":ratings,\n",
    "        \"Reviews\":reviews,\n",
    "        \"Overall Reviews\":'-',\n",
    "        \"Privates\":privates,\n",
    "        \"Dorms\":dorms,\n",
    "        \"Facilities\":facilities,\n",
    "        \"Description\":'-'\n",
    "    }\n",
    "    hostels.append(data)\n",
    "    \n",
    "for name in hostels:\n",
    "    print(name['Name'],name['Distance'],name['Ratings'],name['Reviews'],name['Overall Reviews'],name['Privates'],name['Dorms'],name['Facilities'],name['Description'])"
   ]
  },
  {
   "cell_type": "code",
   "execution_count": null,
   "id": "f5df17f1",
   "metadata": {},
   "outputs": [],
   "source": []
  }
 ],
 "metadata": {
  "kernelspec": {
   "display_name": "Python 3 (ipykernel)",
   "language": "python",
   "name": "python3"
  },
  "language_info": {
   "codemirror_mode": {
    "name": "ipython",
    "version": 3
   },
   "file_extension": ".py",
   "mimetype": "text/x-python",
   "name": "python",
   "nbconvert_exporter": "python",
   "pygments_lexer": "ipython3",
   "version": "3.9.7"
  }
 },
 "nbformat": 4,
 "nbformat_minor": 5
}
